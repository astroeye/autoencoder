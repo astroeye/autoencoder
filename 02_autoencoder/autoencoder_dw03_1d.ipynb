{
 "cells": [
  {
   "cell_type": "code",
   "execution_count": 1,
   "metadata": {},
   "outputs": [],
   "source": [
    "# import librosa\n",
    "# import IPython.display\n",
    "# import matplotlib as mpl\n",
    "# import matplotlib.font_manager as fm"
   ]
  },
  {
   "cell_type": "code",
   "execution_count": 2,
   "metadata": {},
   "outputs": [],
   "source": [
    "# data.zip 파일 업로드"
   ]
  },
  {
   "cell_type": "code",
   "execution_count": 3,
   "metadata": {},
   "outputs": [],
   "source": [
    "########################################################################\n",
    "# import default python-library\n",
    "########################################################################\n",
    "import pickle\n",
    "import os\n",
    "import sys\n",
    "import glob\n",
    "########################################################################\n",
    "import matplotlib.pyplot as plt\n",
    "\n",
    "########################################################################\n",
    "# import additional python-library\n",
    "########################################################################\n",
    "import numpy as np\n",
    "import librosa\n",
    "import librosa.core\n",
    "import librosa.display\n",
    "import librosa.feature\n",
    "import yaml\n",
    "import logging\n",
    "# from import\n",
    "from tqdm import tqdm\n",
    "from sklearn import metrics\n",
    "from keras.models import Model\n",
    "from keras.layers import Input, Dense\n",
    "\n",
    "from sklearn.metrics import accuracy_score, precision_score, recall_score\n",
    "from sklearn.model_selection import train_test_split\n",
    "from tensorflow.keras import layers, losses\n",
    "from tensorflow.keras.datasets import fashion_mnist\n",
    "from tensorflow.keras.models import Model\n",
    "########################################################################"
   ]
  },
  {
   "cell_type": "code",
   "execution_count": 4,
   "metadata": {},
   "outputs": [],
   "source": [
    "########################################################################\n",
    "# setup STD I/O\n",
    "########################################################################\n",
    "\"\"\"\n",
    "Standard output is logged in \"autoencoder.log\".\n",
    "\"\"\"\n",
    "logging.basicConfig(level=logging.DEBUG, filename=\"autoencoder.log\")\n",
    "logger = logging.getLogger(' ')\n",
    "handler = logging.StreamHandler()\n",
    "formatter = logging.Formatter('%(asctime)s - %(levelname)s - %(message)s')\n",
    "handler.setFormatter(formatter)\n",
    "logger.addHandler(handler)\n",
    "########################################################################"
   ]
  },
  {
   "cell_type": "code",
   "execution_count": 5,
   "metadata": {},
   "outputs": [
    {
     "name": "stdout",
     "output_type": "stream",
     "text": [
      "c:\\workspace\\autoencoder\\02_autoencoder\n"
     ]
    }
   ],
   "source": [
    "# 현재 스크립트 실행 경로 출력\n",
    "print(os.getcwd())\n",
    "# c:\\workspace\\autoencoder\\02_autoencoder"
   ]
  },
  {
   "cell_type": "code",
   "execution_count": 6,
   "metadata": {},
   "outputs": [],
   "source": [
    "# 스크립트 실행 경로 변경\n",
    "# c:\\workspace\\autoencoder\\02_autoencoder 으로 변경\n",
    "os.chdir('c:/workspace/autoencoder/02_autoencoder')"
   ]
  },
  {
   "cell_type": "code",
   "execution_count": 7,
   "metadata": {},
   "outputs": [
    {
     "name": "stdout",
     "output_type": "stream",
     "text": [
      "c:\\workspace\\autoencoder\\02_autoencoder\n"
     ]
    }
   ],
   "source": [
    "# 현재 스크립트 실행 경로 출력\n",
    "print(os.getcwd())"
   ]
  },
  {
   "cell_type": "code",
   "execution_count": 8,
   "metadata": {},
   "outputs": [],
   "source": [
    "# 하위에 dataset 폴더가 존재하지 않으면 생성\n",
    "os.makedirs('./dataset', exist_ok=True)"
   ]
  },
  {
   "cell_type": "code",
   "execution_count": 9,
   "metadata": {},
   "outputs": [],
   "source": [
    "# zip file(.wav files) 압축 해제\n",
    "import zipfile\n",
    "\n"
   ]
  },
  {
   "cell_type": "code",
   "execution_count": 10,
   "metadata": {},
   "outputs": [],
   "source": [
    "# fantasy_zip = zipfile.ZipFile('./36cc.zip')\n",
    "# fantasy_zip.extractall('./dataset/')\n",
    "# fantasy_zip.close()"
   ]
  },
  {
   "cell_type": "code",
   "execution_count": 11,
   "metadata": {},
   "outputs": [],
   "source": [
    "fantasy_zip = zipfile.ZipFile('./36cc_wav_files.zip')\n",
    "fantasy_zip.extractall('./dataset/')\n",
    "fantasy_zip.close()"
   ]
  },
  {
   "cell_type": "code",
   "execution_count": 12,
   "metadata": {},
   "outputs": [],
   "source": [
    "# https://wfdb.readthedocs.io/en/latest/\n",
    "# The native Python waveform-database (WFDB) package\n",
    "# A library of tools for reading, writing, and processing WFDB signals and annotations.\n",
    "import wfdb"
   ]
  },
  {
   "cell_type": "code",
   "execution_count": 13,
   "metadata": {},
   "outputs": [
    {
     "name": "stdout",
     "output_type": "stream",
     "text": [
      "Reading Mono formatted .wav file...\n",
      "Sample rate: 44100\n",
      "Byte rate: 88200\n",
      "Block align: 2\n",
      "Bits per sample: 16\n"
     ]
    }
   ],
   "source": [
    "# https://wfdb.readthedocs.io/en/latest/wfdb.html?highlight=rdrecord#wfdb.rdrecord\n",
    "# Read a WFDB record and return the signal and record descriptors as attributes in a Record or MultiRecord object.\n",
    "rd_record = wfdb.rdrecord('pure_0.wav')"
   ]
  },
  {
   "cell_type": "code",
   "execution_count": 14,
   "metadata": {},
   "outputs": [],
   "source": [
    "# rd_record = wfdb.rdrecord(test_wav_normal_01)"
   ]
  },
  {
   "cell_type": "code",
   "execution_count": 15,
   "metadata": {},
   "outputs": [],
   "source": [
    "# https://ahnjg.tistory.com/84\n",
    "# librosa.load와 scipy.io.wavfile.read의 차이점\n",
    "# librosa로 데이터를 읽으면 데이터의 범위가 -1 ~ 1의 범위로 정규화된다\n",
    "# librosa의 입력에서 sr=None으로 지정하지 않고 임의의 sample_rate를 설정하면 load 할 때 resampling을 수행합니다.\n"
   ]
  },
  {
   "cell_type": "code",
   "execution_count": 16,
   "metadata": {},
   "outputs": [],
   "source": [
    "test_wav_normal_01 = './dataset/36cc_wav_files/normal/36cc_OK_2208211119H0010019498_TDM_2022-03-30_15-23-56__Microphone.wav'\n",
    "test_wav_abnormal_01 = './dataset/36cc_wav_files/abnormal/36cc_NO_2208212119H0010019788_TDM_2022-03-30_15-55-34__Microphone.wav'"
   ]
  },
  {
   "cell_type": "code",
   "execution_count": 17,
   "metadata": {},
   "outputs": [],
   "source": [
    "import scipy.io.wavfile\n",
    "scipy_sr, scipy_y = scipy.io.wavfile.read(test_wav_normal_01)\n",
    "# Sample rate: 51200, Byte rate: 102400"
   ]
  },
  {
   "cell_type": "code",
   "execution_count": 18,
   "metadata": {},
   "outputs": [
    {
     "name": "stdout",
     "output_type": "stream",
     "text": [
      "scipy_sr = 51200\n"
     ]
    }
   ],
   "source": [
    "print(f\"scipy_sr = {scipy_sr}\")\n",
    "# Sample rate를 원래의 Sample rate로 가져온다."
   ]
  },
  {
   "cell_type": "code",
   "execution_count": 19,
   "metadata": {},
   "outputs": [
    {
     "name": "stdout",
     "output_type": "stream",
     "text": [
      "scipy_y.shape = (1369362,)\n"
     ]
    }
   ],
   "source": [
    "print(f\"scipy_y.shape = {scipy_y.shape}\")\n",
    "# print(f\"number of channels = {scipy_y.shape[1]}\")"
   ]
  },
  {
   "cell_type": "code",
   "execution_count": 20,
   "metadata": {},
   "outputs": [
    {
     "name": "stdout",
     "output_type": "stream",
     "text": [
      "length = 26.7453515625s\n"
     ]
    }
   ],
   "source": [
    "wavelength = scipy_y.shape[0] / scipy_sr\n",
    "print(f\"length = {wavelength}s\")\n",
    "# 16초 길이를 가지고 있다."
   ]
  },
  {
   "cell_type": "code",
   "execution_count": 21,
   "metadata": {},
   "outputs": [
    {
     "data": {
      "text/plain": [
       "[<matplotlib.lines.Line2D at 0x253822238e0>]"
      ]
     },
     "execution_count": 21,
     "metadata": {},
     "output_type": "execute_result"
    },
    {
     "data": {
      "image/png": "[encoded data removed]",
      "text/plain": [
       "<Figure size 432x288 with 1 Axes>"
      ]
     },
     "metadata": {
      "needs_background": "light"
     },
     "output_type": "display_data"
    }
   ],
   "source": [
    "plt.plot(scipy_y)\n",
    "# scipy로 가져오면 데이터 분포가 약 -4000 ~ 400 이다."
   ]
  },
  {
   "cell_type": "code",
   "execution_count": 22,
   "metadata": {},
   "outputs": [],
   "source": [
    "librosa_y, librosa_sr = librosa.load(test_wav_abnormal_01)"
   ]
  },
  {
   "cell_type": "code",
   "execution_count": 23,
   "metadata": {},
   "outputs": [
    {
     "name": "stdout",
     "output_type": "stream",
     "text": [
      "scipy_y.shape: (1369362,)\n",
      "type(scipy_y[0]): <class 'numpy.int16'>\n",
      "scipy_sr: 51200\n",
      "--------------------------------------\n",
      "librosa_y.shape: (585105,)\n",
      "type(librosa_y[0]): <class 'numpy.float32'>\n",
      "librosa_sr: 22050\n"
     ]
    }
   ],
   "source": [
    "print('scipy_y.shape:', scipy_y.shape)\n",
    "print('type(scipy_y[0]):', type(scipy_y[0]))\n",
    "print('scipy_sr:', scipy_sr)\n",
    "print('--------------------------------------')\n",
    "print('librosa_y.shape:', librosa_y.shape)\n",
    "print('type(librosa_y[0]):', type(librosa_y[0]))\n",
    "print('librosa_sr:', librosa_sr)\n",
    "# librosa는 Sample Rate를 지정하지 않으면 기본 sr=22050으로 지정된다."
   ]
  },
  {
   "cell_type": "code",
   "execution_count": 24,
   "metadata": {},
   "outputs": [
    {
     "data": {
      "text/plain": [
       "[<matplotlib.lines.Line2D at 0x25384cea6d0>]"
      ]
     },
     "execution_count": 24,
     "metadata": {},
     "output_type": "execute_result"
    },
    {
     "data": {
      "image/png": "[encoded data removed]",
      "text/plain": [
       "<Figure size 432x288 with 1 Axes>"
      ]
     },
     "metadata": {
      "needs_background": "light"
     },
     "output_type": "display_data"
    }
   ],
   "source": [
    "plt.plot(librosa_y)\n",
    "# librosa는 데이터 범위가 -1~1로 정규화 된다."
   ]
  },
  {
   "cell_type": "code",
   "execution_count": 59,
   "metadata": {},
   "outputs": [
    {
     "name": "stderr",
     "output_type": "stream",
     "text": [
      "C:\\Users\\astro\\AppData\\Local\\Temp\\ipykernel_6952\\2557505744.py:6: FutureWarning: Pass sr=22050 as keyword args. From version 0.10 passing these as positional arguments will result in an error\n",
      "  librosa.display.waveshow(librosa_y, librosa_sr)#, alpha=0.5)\n"
     ]
    },
    {
     "data": {
      "text/plain": [
       "Text(0.5, 1.0, 'A Normal e-compressor')"
      ]
     },
     "execution_count": 59,
     "metadata": {},
     "output_type": "execute_result"
    },
    {
     "data": {
      "image/png": "[encoded data removed]",
      "text/plain": [
       "<Figure size 504x360 with 1 Axes>"
      ]
     },
     "metadata": {
      "needs_background": "light"
     },
     "output_type": "display_data"
    }
   ],
   "source": [
    "# https://www.dacon.io/competitions/official/235616/codeshare/1277\n",
    "# https://librosa.org/doc/0.9.1/generated/librosa.display.waveshow.html#librosa.display.waveshow\n",
    "# Visualize a waveform in the time domain\n",
    "# y축은 진폭, x축은 시간을 나타낸다.\n",
    "plt.figure(figsize=(7,5))\n",
    "librosa.display.waveshow(librosa_y, librosa_sr)#, alpha=0.5)\n",
    "plt.xlabel(\"Time (s)\")\n",
    "plt.ylabel(\"Amplitude\")\n",
    "plt.title(\"A Normal e-compressor\")\n",
    "# Amplitude: 진폭: 진동하고 있는 물체가 정지 또는 평형 위치에서 최대 변위까지 이동하는 거리. 진동하는 폭의 절반이다."
   ]
  },
  {
   "cell_type": "code",
   "execution_count": 63,
   "metadata": {},
   "outputs": [
    {
     "name": "stderr",
     "output_type": "stream",
     "text": [
      "C:\\Users\\astro\\AppData\\Local\\Temp\\ipykernel_6952\\138284715.py:5: FutureWarning: Pass sr=22050 as keyword args. From version 0.10 passing these as positional arguments will result in an error\n",
      "  librosa.display.waveshow(librosa_y, librosa_sr)\n"
     ]
    },
    {
     "data": {
      "text/plain": [
       "Text(0.5, 1.0, 'A Normal e-compressor')"
      ]
     },
     "execution_count": 63,
     "metadata": {},
     "output_type": "execute_result"
    },
    {
     "data": {
      "image/png": "[encoded data removed]",
      "text/plain": [
       "<Figure size 432x360 with 1 Axes>"
      ]
     },
     "metadata": {
      "needs_background": "light"
     },
     "output_type": "display_data"
    }
   ],
   "source": [
    "# <그림 8>은 1d signal 분석을 위해 정규화한 데이터를 librosa 라이브러리의 waveshow 함수를 이용해 시각화 한 결과이다.\n",
    "# (왼쪽: 정상 sample, 오른쪽 비정상 sample)\n",
    "librosa_y, librosa_sr = librosa.load(test_wav_normal_01)\n",
    "plt.figure(figsize=(6,5))\n",
    "librosa.display.waveshow(librosa_y, librosa_sr)\n",
    "plt.xlabel(\"Time (s)\")\n",
    "plt.ylabel(\"Amplitude\")\n",
    "plt.title(\"A Normal e-compressor\")"
   ]
  },
  {
   "cell_type": "code",
   "execution_count": 64,
   "metadata": {},
   "outputs": [
    {
     "name": "stderr",
     "output_type": "stream",
     "text": [
      "C:\\Users\\astro\\AppData\\Local\\Temp\\ipykernel_6952\\4154785986.py:5: FutureWarning: Pass sr=22050 as keyword args. From version 0.10 passing these as positional arguments will result in an error\n",
      "  librosa.display.waveshow(librosa_y, librosa_sr)\n"
     ]
    },
    {
     "data": {
      "text/plain": [
       "Text(0.5, 1.0, 'An Anomalous e-compressor')"
      ]
     },
     "execution_count": 64,
     "metadata": {},
     "output_type": "execute_result"
    },
    {
     "data": {
      "image/png": "[encoded data removed]",
      "text/plain": [
       "<Figure size 432x360 with 1 Axes>"
      ]
     },
     "metadata": {
      "needs_background": "light"
     },
     "output_type": "display_data"
    }
   ],
   "source": [
    "# <그림 8>은 1d signal 분석을 위해 정규화한 데이터를 librosa 라이브러리의 waveshow 함수를 이용해 시각화 한 결과이다.\n",
    "# (왼쪽: 정상 sample, 오른쪽 비정상 sample)\n",
    "librosa_y, librosa_sr = librosa.load(test_wav_abnormal_01)\n",
    "plt.figure(figsize=(6,5))\n",
    "librosa.display.waveshow(librosa_y, librosa_sr)\n",
    "plt.xlabel(\"Time (s)\")\n",
    "plt.ylabel(\"Amplitude\")\n",
    "plt.title(\"An Anomalous e-compressor\")"
   ]
  },
  {
   "cell_type": "code",
   "execution_count": 69,
   "metadata": {},
   "outputs": [
    {
     "name": "stderr",
     "output_type": "stream",
     "text": [
      "C:\\Users\\astro\\AppData\\Local\\Temp\\ipykernel_6952\\80090296.py:3: FutureWarning: Pass sr=22050 as keyword args. From version 0.10 passing these as positional arguments will result in an error\n",
      "  librosa.display.waveshow(y, sr)\n"
     ]
    },
    {
     "data": {
      "text/plain": [
       "Text(0.5, 1.0, 'librosa.display.waveshow')"
      ]
     },
     "execution_count": 69,
     "metadata": {},
     "output_type": "execute_result"
    },
    {
     "data": {
      "image/png": "[encoded data removed]",
      "text/plain": [
       "<Figure size 576x403.2 with 1 Axes>"
      ]
     },
     "metadata": {
      "needs_background": "light"
     },
     "output_type": "display_data"
    }
   ],
   "source": [
    "y, sr = librosa.load(librosa.ex('trumpet'))\n",
    "plt.figure(figsize=(8,5.6))\n",
    "librosa.display.waveshow(y, sr)\n",
    "plt.xlabel(\"Time (s)\")\n",
    "plt.ylabel(\"Amplitude\")\n",
    "plt.title(\"librosa.display.waveshow\")"
   ]
  },
  {
   "cell_type": "code",
   "execution_count": 76,
   "metadata": {},
   "outputs": [
    {
     "data": {
      "text/plain": [
       "[Text(0.5, 1.0, 'MFCC')]"
      ]
     },
     "execution_count": 76,
     "metadata": {},
     "output_type": "execute_result"
    },
    {
     "data": {
      "image/png": "[encoded data removed]",
      "text/plain": [
       "<Figure size 576x720 with 4 Axes>"
      ]
     },
     "metadata": {
      "needs_background": "light"
     },
     "output_type": "display_data"
    }
   ],
   "source": [
    "# Generate mfccs from a time series\n",
    "y, sr = librosa.load(librosa.ex('trumpet'))\n",
    "librosa.feature.mfcc(y=y, sr=sr)\n",
    "\n",
    "# Use a pre-computed log-power Mel spectrogram\n",
    "S = librosa.feature.melspectrogram(y=y, sr=sr, n_mels=128,\n",
    "                                   fmax=8000)\n",
    "librosa.feature.mfcc(S=librosa.power_to_db(S))\n",
    "\n",
    "# Get more components\n",
    "mfccs = librosa.feature.mfcc(y=y, sr=sr, n_mfcc=40)\n",
    "\n",
    "# Visualize the MFCC series\n",
    "import matplotlib.pyplot as plt\n",
    "fig, ax = plt.subplots(nrows=2, sharex=True, figsize=(8,10))\n",
    "img = librosa.display.specshow(librosa.power_to_db(S, ref=np.max),\n",
    "                               x_axis='time', y_axis='mel', fmax=8000,\n",
    "                               ax=ax[0])\n",
    "\n",
    "fig.colorbar(img, ax=[ax[0]])\n",
    "ax[0].set(title='Mel spectrogram')\n",
    "ax[0].label_outer()\n",
    "img = librosa.display.specshow(mfccs, x_axis='time', ax=ax[1])\n",
    "fig.colorbar(img, ax=[ax[1]])\n",
    "ax[1].set(title='MFCC')"
   ]
  },
  {
   "cell_type": "code",
   "execution_count": 26,
   "metadata": {},
   "outputs": [
    {
     "data": {
      "text/plain": [
       "<matplotlib.legend.Legend at 0x13e577517f0>"
      ]
     },
     "execution_count": 26,
     "metadata": {},
     "output_type": "execute_result"
    },
    {
     "data": {
      "image/png": "[encoded data removed]",
      "text/plain": [
       "<Figure size 432x288 with 1 Axes>"
      ]
     },
     "metadata": {
      "needs_background": "light"
     },
     "output_type": "display_data"
    }
   ],
   "source": [
    "fig, ax = plt.subplots(nrows=1, sharex=True)\n",
    "y_harm, y_perc = librosa.effects.hpss(librosa_y)\n",
    "librosa.display.waveshow(y_harm, sr=librosa_sr, alpha=0.5, ax=ax, label='Harmonic')\n",
    "librosa.display.waveshow(y_perc, sr=librosa_sr, color='r', alpha=0.5, ax=ax, label='Percussive')\n",
    "ax.set(title='Multiple waveforms')\n",
    "ax.legend()\n",
    "# Harmonic: 배음: 진동체가 내는 여러 가지 소리 가운데, 원래 소리보다 큰 진동수를 가진 소리. 보통 원래 소리의 정수배(整數倍)가 되는 소리를 이른다.\n",
    "# (바이올린 같은 악기의 현을 살짝 건드려 낼 수 있는) 고음\n",
    "# Percussive: (특히 타악기를) 쳐서 소리를 내는\n",
    "# https://jonhyuk0922.tistory.com/114\n",
    "# * Harmonics : 사람의 귀로 구분할 수 없는 특징들(음악의 색깔)\n",
    "# * Percussives: 리듬과 감정을 나타내는 충격파"
   ]
  },
  {
   "cell_type": "code",
   "execution_count": 27,
   "metadata": {},
   "outputs": [
    {
     "data": {
      "image/png": "[encoded data removed]",
      "text/plain": [
       "<Figure size 432x288 with 1 Axes>"
      ]
     },
     "metadata": {
      "needs_background": "light"
     },
     "output_type": "display_data"
    }
   ],
   "source": [
    "# https://www.dacon.io/competitions/official/235616/codeshare/1277\n",
    "# https://librosa.org/doc/0.9.1/generated/librosa.display.waveshow.html#librosa.display.waveshow\n",
    "fig, ax = plt.subplots(nrows=1, sharex=True)\n",
    "ax.set(xlim=[5.00, 5.20], title='Sample view')#, ylim=[-0.2, 0.2])\n",
    "librosa.display.waveshow(librosa_y, sr=librosa_sr, ax=ax, marker='.', label='Full signal')\n",
    "ax.label_outer()\n",
    "#Rax.legend()"
   ]
  },
  {
   "cell_type": "code",
   "execution_count": 28,
   "metadata": {},
   "outputs": [],
   "source": [
    "import seaborn as sns"
   ]
  },
  {
   "cell_type": "code",
   "execution_count": 29,
   "metadata": {},
   "outputs": [
    {
     "name": "stderr",
     "output_type": "stream",
     "text": [
      "c:\\Users\\astro\\anaconda3\\envs\\ae2\\lib\\site-packages\\seaborn\\distributions.py:2619: FutureWarning: `distplot` is a deprecated function and will be removed in a future version. Please adapt your code to use either `displot` (a figure-level function with similar flexibility) or `histplot` (an axes-level function for histograms).\n",
      "  warnings.warn(msg, FutureWarning)\n"
     ]
    },
    {
     "data": {
      "text/plain": [
       "<AxesSubplot:ylabel='Density'>"
      ]
     },
     "execution_count": 29,
     "metadata": {},
     "output_type": "execute_result"
    },
    {
     "data": {
      "image/png": "[encoded data removed]",
      "text/plain": [
       "<Figure size 432x288 with 1 Axes>"
      ]
     },
     "metadata": {
      "needs_background": "light"
     },
     "output_type": "display_data"
    }
   ],
   "source": [
    "# scipy와 librosa로 가져온 데이터의 분포를 살펴보겠습니다.\n",
    "# https://ahnjg.tistory.com/84\n",
    "sns.distplot(scipy_y)"
   ]
  },
  {
   "cell_type": "code",
   "execution_count": 30,
   "metadata": {},
   "outputs": [
    {
     "name": "stderr",
     "output_type": "stream",
     "text": [
      "c:\\Users\\astro\\anaconda3\\envs\\ae2\\lib\\site-packages\\seaborn\\distributions.py:2619: FutureWarning: `distplot` is a deprecated function and will be removed in a future version. Please adapt your code to use either `displot` (a figure-level function with similar flexibility) or `histplot` (an axes-level function for histograms).\n",
      "  warnings.warn(msg, FutureWarning)\n"
     ]
    },
    {
     "data": {
      "text/plain": [
       "<AxesSubplot:ylabel='Density'>"
      ]
     },
     "execution_count": 30,
     "metadata": {},
     "output_type": "execute_result"
    },
    {
     "data": {
      "image/png": "[encoded data removed]",
      "text/plain": [
       "<Figure size 432x288 with 1 Axes>"
      ]
     },
     "metadata": {
      "needs_background": "light"
     },
     "output_type": "display_data"
    }
   ],
   "source": [
    "# librosa로 가져온 데이터는 -1 ~ 1 의 범위로 정규화 되어있다.\n",
    "# liborsa 입력에서 sr=None 로 지정하지 않고 임의의 sample_rate를 설정하면 load할 때 resampling을 수행한다.\n",
    "sns.distplot(librosa_y)"
   ]
  },
  {
   "cell_type": "code",
   "execution_count": 31,
   "metadata": {},
   "outputs": [
    {
     "name": "stdout",
     "output_type": "stream",
     "text": [
      "(585105,)\n",
      "(1369362,)\n"
     ]
    }
   ],
   "source": [
    "print(librosa_y.shape)\n",
    "print(scipy_y.shape)"
   ]
  },
  {
   "cell_type": "code",
   "execution_count": 32,
   "metadata": {},
   "outputs": [],
   "source": [
    "import matplotlib.pyplot as plt"
   ]
  },
  {
   "cell_type": "code",
   "execution_count": 33,
   "metadata": {},
   "outputs": [
    {
     "name": "stdout",
     "output_type": "stream",
     "text": [
      "22050\n"
     ]
    },
    {
     "name": "stderr",
     "output_type": "stream",
     "text": [
      "C:\\Users\\astro\\AppData\\Local\\Temp\\ipykernel_2348\\2825423013.py:14: FutureWarning: Pass sr=22050 as keyword args. From version 0.10 passing these as positional arguments will result in an error\n",
      "  librosa.display.waveshow(y, sr, ax=ax)\n"
     ]
    },
    {
     "data": {
      "text/plain": [
       "Text(30.5, 0.5, 'Abnormal')"
      ]
     },
     "execution_count": 33,
     "metadata": {},
     "output_type": "execute_result"
    },
    {
     "data": {
      "image/png": "[encoded data removed]",
      "text/plain": [
       "<Figure size 576x360 with 1 Axes>"
      ]
     },
     "metadata": {
      "needs_background": "light"
     },
     "output_type": "display_data"
    }
   ],
   "source": [
    "# amplitude: 진폭\n",
    "# waveshow\n",
    "# https://librosa.org/doc/latest/generated/librosa.display.waveshow.html\n",
    "# Librosa 라이브러리의 load함수로 wav파일을 불러와 waveshow를 통해 소리데이터의 Time domain 파형을 시각화 합니다\n",
    "# Sampling rate는 오디오에 맞게 설정할 수 있으며, 설정하지 않으면 기본값인 22050으로 불러오게 됩니다.\n",
    "# 그림[1]는 waveshow함수를 통해 wav파일을 시각화 한 것이며, x축은 Time, y축은 진폭을 나타냅니다.\n",
    "# https://hyongdoc.tistory.com/401?category=884319\n",
    "\n",
    "\n",
    "y, sr = librosa.load(test_wav_abnormal_01)\n",
    "print(sr)\n",
    "\n",
    "fig, ax = plt.subplots(nrows=1, figsize=(8,5))\n",
    "librosa.display.waveshow(y, sr, ax=ax)\n",
    "ax.set(title='Waveshow')\n",
    "ax.set_ylabel('Abnormal')"
   ]
  },
  {
   "cell_type": "code",
   "execution_count": 34,
   "metadata": {},
   "outputs": [
    {
     "name": "stdout",
     "output_type": "stream",
     "text": [
      "22050\n"
     ]
    },
    {
     "name": "stderr",
     "output_type": "stream",
     "text": [
      "C:\\Users\\astro\\AppData\\Local\\Temp\\ipykernel_2348\\3018651852.py:5: FutureWarning: Pass sr=22050 as keyword args. From version 0.10 passing these as positional arguments will result in an error\n",
      "  librosa.display.waveshow(y, sr, ax=ax)\n"
     ]
    },
    {
     "data": {
      "text/plain": [
       "Text(24.125, 0.5, 'Amplitude')"
      ]
     },
     "execution_count": 34,
     "metadata": {},
     "output_type": "execute_result"
    },
    {
     "data": {
      "image/png": "[encoded data removed]",
      "text/plain": [
       "<Figure size 576x72 with 1 Axes>"
      ]
     },
     "metadata": {
      "needs_background": "light"
     },
     "output_type": "display_data"
    }
   ],
   "source": [
    "y, sr = librosa.load(test_wav_normal_01)\n",
    "print(sr)\n",
    "\n",
    "fig, ax = plt.subplots(nrows=1, figsize=(8,1))\n",
    "librosa.display.waveshow(y, sr, ax=ax)\n",
    "# ax.set(title='Waveshow')\n",
    "ax.set_ylabel('Amplitude')"
   ]
  },
  {
   "cell_type": "code",
   "execution_count": 35,
   "metadata": {},
   "outputs": [],
   "source": [
    "import pandas as pd"
   ]
  },
  {
   "cell_type": "code",
   "execution_count": 36,
   "metadata": {},
   "outputs": [],
   "source": [
    "os.chdir('C:/workspace/autoencoder/02_autoencoder/')"
   ]
  },
  {
   "cell_type": "code",
   "execution_count": 37,
   "metadata": {},
   "outputs": [
    {
     "name": "stdout",
     "output_type": "stream",
     "text": [
      "csv folders: ./dataset/36cc_wav_files/normal/\n"
     ]
    }
   ],
   "source": [
    "wav_normal_path = './dataset/36cc_wav_files/normal/'\n",
    "print(\"csv folders:\", wav_normal_path)\n",
    "file_list = os.listdir(wav_normal_path)\n",
    "# print(file_list)"
   ]
  },
  {
   "cell_type": "code",
   "execution_count": 38,
   "metadata": {},
   "outputs": [
    {
     "name": "stderr",
     "output_type": "stream",
     "text": [
      "100%|██████████| 36/36 [00:29<00:00,  1.22it/s]"
     ]
    },
    {
     "name": "stdout",
     "output_type": "stream",
     "text": [
      "(36, 438423)\n"
     ]
    },
    {
     "name": "stderr",
     "output_type": "stream",
     "text": [
      "\n"
     ]
    }
   ],
   "source": [
    "# import wfdb\n",
    "import scipy.io.wavfile\n",
    "normal_df = pd.DataFrame()\n",
    "\n",
    "for j in tqdm(file_list, position=0, leave=True):\n",
    "    wav_name = wav_normal_path+j\n",
    "    # rd_record = wfdb.rdrecord(wav_name, return_fig=True)\n",
    "    # wav_sr = rd_record.fs[0]\n",
    "    # librosa_y, librosa_sr = librosa.load(wav_name, sr=wav_sr)\n",
    "    #scipy_sr, scipy_y = scipy.io.wavfile.read(wav_name)\n",
    "    librosa_y, librosa_sr = librosa.load(wav_name, sr=16000)\n",
    "    data_df = pd.DataFrame(librosa_y.reshape(1,-1))\n",
    "    #data_df = pd.DataFrame(scipy_y.reshape(1,-1))\n",
    "    normal_df = pd.concat([normal_df, data_df])\n",
    "    # print(wav_name, normal_df.shape)\n",
    "print(normal_df.shape)"
   ]
  },
  {
   "cell_type": "code",
   "execution_count": 39,
   "metadata": {},
   "outputs": [
    {
     "data": {
      "text/plain": [
       "(36, 438423)"
      ]
     },
     "execution_count": 39,
     "metadata": {},
     "output_type": "execute_result"
    }
   ],
   "source": [
    "normal_df.shape"
   ]
  },
  {
   "cell_type": "code",
   "execution_count": 40,
   "metadata": {},
   "outputs": [
    {
     "name": "stdout",
     "output_type": "stream",
     "text": [
      "csv folders: ./dataset/36cc_wav_files/normal_test/\n"
     ]
    }
   ],
   "source": [
    "wav_normal_path = './dataset/36cc_wav_files/normal_test/'\n",
    "print(\"csv folders:\", wav_normal_path)\n",
    "normal_test_file_list = os.listdir(wav_normal_path)\n",
    "# print(file_list)"
   ]
  },
  {
   "cell_type": "code",
   "execution_count": 41,
   "metadata": {},
   "outputs": [
    {
     "name": "stderr",
     "output_type": "stream",
     "text": [
      "100%|██████████| 2/2 [00:01<00:00,  1.30it/s]"
     ]
    },
    {
     "name": "stdout",
     "output_type": "stream",
     "text": [
      "(2, 421574)\n"
     ]
    },
    {
     "name": "stderr",
     "output_type": "stream",
     "text": [
      "\n"
     ]
    }
   ],
   "source": [
    "# import wfdb\n",
    "import scipy.io.wavfile\n",
    "normal_test_df = pd.DataFrame()\n",
    "\n",
    "for j in tqdm(normal_test_file_list, position=0, leave=True):\n",
    "    wav_name = wav_normal_path+j\n",
    "    # rd_record = wfdb.rdrecord(wav_name, return_fig=True)\n",
    "    # wav_sr = rd_record.fs[0]\n",
    "    # librosa_y, librosa_sr = librosa.load(wav_name, sr=wav_sr)\n",
    "    #scipy_sr, scipy_y = scipy.io.wavfile.read(wav_name)\n",
    "    librosa_y, librosa_sr = librosa.load(wav_name, sr=16000)\n",
    "    data_df = pd.DataFrame(librosa_y.reshape(1,-1))\n",
    "    #data_df = pd.DataFrame(scipy_y.reshape(1,-1))\n",
    "    normal_test_df = pd.concat([normal_test_df, data_df])\n",
    "    # print(wav_name, normal_df.shape)\n",
    "print(normal_test_df.shape)"
   ]
  },
  {
   "cell_type": "code",
   "execution_count": 42,
   "metadata": {},
   "outputs": [
    {
     "data": {
      "text/plain": [
       "(2, 421574)"
      ]
     },
     "execution_count": 42,
     "metadata": {},
     "output_type": "execute_result"
    }
   ],
   "source": [
    "normal_test_df.shape"
   ]
  },
  {
   "cell_type": "code",
   "execution_count": 43,
   "metadata": {},
   "outputs": [
    {
     "name": "stdout",
     "output_type": "stream",
     "text": [
      "csv folders: ./dataset/36cc_wav_files/abnormal/\n",
      "['36cc_NO_2208211119H0010019698_TDM_2022-03-30_16-22-03__Microphone.wav', '36cc_NO_2208212119H0010019788_TDM_2022-03-30_15-55-34__Microphone.wav']\n"
     ]
    }
   ],
   "source": [
    "wav_abnormal_path = './dataset/36cc_wav_files/abnormal/'\n",
    "print(\"csv folders:\", wav_abnormal_path)\n",
    "abnormal_file_list = os.listdir(wav_abnormal_path)\n",
    "print(abnormal_file_list)"
   ]
  },
  {
   "cell_type": "code",
   "execution_count": 44,
   "metadata": {},
   "outputs": [
    {
     "name": "stderr",
     "output_type": "stream",
     "text": [
      "100%|██████████| 2/2 [00:01<00:00,  1.29it/s]"
     ]
    },
    {
     "name": "stdout",
     "output_type": "stream",
     "text": [
      "(2, 424726)\n"
     ]
    },
    {
     "name": "stderr",
     "output_type": "stream",
     "text": [
      "\n"
     ]
    }
   ],
   "source": [
    "# import wfdb\n",
    "import scipy.io.wavfile\n",
    "abnormal_df = pd.DataFrame()\n",
    "\n",
    "for j in tqdm(abnormal_file_list, position=0, leave=True):\n",
    "    wav_name = wav_abnormal_path+j\n",
    "    # rd_record = wfdb.rdrecord(wav_name, return_fig=True)\n",
    "    # wav_sr = rd_record.fs[0]\n",
    "    # librosa_y, librosa_sr = librosa.load(wav_name, sr=wav_sr)\n",
    "    #scipy_sr, scipy_y = scipy.io.wavfile.read(wav_name)\n",
    "    librosa_y, librosa_sr = librosa.load(wav_name, sr=16000)\n",
    "    data_df = pd.DataFrame(librosa_y.reshape(1,-1))\n",
    "    #data_df = pd.DataFrame(scipy_y.reshape(1,-1))\n",
    "    abnormal_df = pd.concat([abnormal_df, data_df])\n",
    "    # print(wav_name, abnormal_df.shape)\n",
    "print(abnormal_df.shape)    "
   ]
  },
  {
   "cell_type": "code",
   "execution_count": 45,
   "metadata": {},
   "outputs": [
    {
     "data": {
      "text/html": [
       "<div>\n",
       "<style scoped>\n",
       "    .dataframe tbody tr th:only-of-type {\n",
       "        vertical-align: middle;\n",
       "    }\n",
       "\n",
       "    .dataframe tbody tr th {\n",
       "        vertical-align: top;\n",
       "    }\n",
       "\n",
       "    .dataframe thead th {\n",
       "        text-align: right;\n",
       "    }\n",
       "</style>\n",
       "<table border=\"1\" class=\"dataframe\">\n",
       "  <thead>\n",
       "    <tr style=\"text-align: right;\">\n",
       "      <th></th>\n",
       "      <th>0</th>\n",
       "      <th>1</th>\n",
       "      <th>2</th>\n",
       "      <th>3</th>\n",
       "      <th>4</th>\n",
       "      <th>5</th>\n",
       "      <th>6</th>\n",
       "      <th>7</th>\n",
       "      <th>8</th>\n",
       "      <th>9</th>\n",
       "      <th>...</th>\n",
       "      <th>424716</th>\n",
       "      <th>424717</th>\n",
       "      <th>424718</th>\n",
       "      <th>424719</th>\n",
       "      <th>424720</th>\n",
       "      <th>424721</th>\n",
       "      <th>424722</th>\n",
       "      <th>424723</th>\n",
       "      <th>424724</th>\n",
       "      <th>424725</th>\n",
       "    </tr>\n",
       "  </thead>\n",
       "  <tbody>\n",
       "    <tr>\n",
       "      <th>0</th>\n",
       "      <td>0.000984</td>\n",
       "      <td>0.001329</td>\n",
       "      <td>0.001222</td>\n",
       "      <td>0.001454</td>\n",
       "      <td>0.001142</td>\n",
       "      <td>0.001349</td>\n",
       "      <td>0.001189</td>\n",
       "      <td>0.001264</td>\n",
       "      <td>0.001346</td>\n",
       "      <td>0.001341</td>\n",
       "      <td>...</td>\n",
       "      <td>0.0</td>\n",
       "      <td>0.0</td>\n",
       "      <td>0.0</td>\n",
       "      <td>0.0</td>\n",
       "      <td>0.0</td>\n",
       "      <td>0.0</td>\n",
       "      <td>0.0</td>\n",
       "      <td>0.0</td>\n",
       "      <td>0.0</td>\n",
       "      <td>0.0</td>\n",
       "    </tr>\n",
       "    <tr>\n",
       "      <th>0</th>\n",
       "      <td>0.001843</td>\n",
       "      <td>0.003097</td>\n",
       "      <td>0.002551</td>\n",
       "      <td>0.002861</td>\n",
       "      <td>0.002792</td>\n",
       "      <td>0.002615</td>\n",
       "      <td>0.002630</td>\n",
       "      <td>0.002607</td>\n",
       "      <td>0.002583</td>\n",
       "      <td>0.002497</td>\n",
       "      <td>...</td>\n",
       "      <td>NaN</td>\n",
       "      <td>NaN</td>\n",
       "      <td>NaN</td>\n",
       "      <td>NaN</td>\n",
       "      <td>NaN</td>\n",
       "      <td>NaN</td>\n",
       "      <td>NaN</td>\n",
       "      <td>NaN</td>\n",
       "      <td>NaN</td>\n",
       "      <td>NaN</td>\n",
       "    </tr>\n",
       "  </tbody>\n",
       "</table>\n",
       "<p>2 rows × 424726 columns</p>\n",
       "</div>"
      ],
      "text/plain": [
       "     0         1         2         3         4         5         6       \\\n",
       "0  0.000984  0.001329  0.001222  0.001454  0.001142  0.001349  0.001189   \n",
       "0  0.001843  0.003097  0.002551  0.002861  0.002792  0.002615  0.002630   \n",
       "\n",
       "     7         8         9       ...  424716  424717  424718  424719  424720  \\\n",
       "0  0.001264  0.001346  0.001341  ...     0.0     0.0     0.0     0.0     0.0   \n",
       "0  0.002607  0.002583  0.002497  ...     NaN     NaN     NaN     NaN     NaN   \n",
       "\n",
       "   424721  424722  424723  424724  424725  \n",
       "0     0.0     0.0     0.0     0.0     0.0  \n",
       "0     NaN     NaN     NaN     NaN     NaN  \n",
       "\n",
       "[2 rows x 424726 columns]"
      ]
     },
     "execution_count": 45,
     "metadata": {},
     "output_type": "execute_result"
    }
   ],
   "source": [
    "abnormal_df"
   ]
  },
  {
   "cell_type": "code",
   "execution_count": 46,
   "metadata": {},
   "outputs": [],
   "source": [
    "# Abnormal + normal 합치기\n",
    "df = pd.DataFrame()\n",
    "df = pd.concat([df, normal_df])\n",
    "df = pd.concat([df, normal_test_df])\n",
    "df = pd.concat([df, abnormal_df])"
   ]
  },
  {
   "cell_type": "code",
   "execution_count": 47,
   "metadata": {},
   "outputs": [
    {
     "data": {
      "text/plain": [
       "(40, 438423)"
      ]
     },
     "execution_count": 47,
     "metadata": {},
     "output_type": "execute_result"
    }
   ],
   "source": [
    "df.shape"
   ]
  },
  {
   "cell_type": "code",
   "execution_count": 48,
   "metadata": {},
   "outputs": [],
   "source": [
    "# raw_data0 = df.values\n",
    "# raw_data0 = raw_data0.astype('float32') / 255.\n",
    "# df = pd.DataFrame(raw_data0)"
   ]
  },
  {
   "cell_type": "code",
   "execution_count": 49,
   "metadata": {},
   "outputs": [
    {
     "name": "stdout",
     "output_type": "stream",
     "text": [
      "<class 'pandas.core.frame.DataFrame'>\n",
      "(40, 438423)\n",
      "438423\n"
     ]
    }
   ],
   "source": [
    "print(type(df))\n",
    "print(df.shape)\n",
    "last_column = df.shape[1]\n",
    "print(last_column)"
   ]
  },
  {
   "cell_type": "code",
   "execution_count": 50,
   "metadata": {},
   "outputs": [
    {
     "data": {
      "text/plain": [
       "0          0\n",
       "1          0\n",
       "2          0\n",
       "3          0\n",
       "4          0\n",
       "          ..\n",
       "438418    39\n",
       "438419    39\n",
       "438420    39\n",
       "438421    39\n",
       "438422    39\n",
       "Length: 438423, dtype: int64"
      ]
     },
     "execution_count": 50,
     "metadata": {},
     "output_type": "execute_result"
    }
   ],
   "source": [
    "# Null 제거 위해 null 확인\n",
    "# df.isna().sum()\n",
    "# df.isnull().sum()\n",
    "df.isin([np.nan,np.inf]).sum()"
   ]
  },
  {
   "cell_type": "code",
   "execution_count": 51,
   "metadata": {},
   "outputs": [],
   "source": [
    "# Null 제거\n",
    "df = df.dropna(axis=1)"
   ]
  },
  {
   "cell_type": "code",
   "execution_count": 52,
   "metadata": {},
   "outputs": [
    {
     "data": {
      "text/plain": [
       "(40, 404853)"
      ]
     },
     "execution_count": 52,
     "metadata": {},
     "output_type": "execute_result"
    }
   ],
   "source": [
    "df.shape"
   ]
  },
  {
   "cell_type": "code",
   "execution_count": 53,
   "metadata": {},
   "outputs": [
    {
     "data": {
      "text/html": [
       "<div>\n",
       "<style scoped>\n",
       "    .dataframe tbody tr th:only-of-type {\n",
       "        vertical-align: middle;\n",
       "    }\n",
       "\n",
       "    .dataframe tbody tr th {\n",
       "        vertical-align: top;\n",
       "    }\n",
       "\n",
       "    .dataframe thead th {\n",
       "        text-align: right;\n",
       "    }\n",
       "</style>\n",
       "<table border=\"1\" class=\"dataframe\">\n",
       "  <thead>\n",
       "    <tr style=\"text-align: right;\">\n",
       "      <th></th>\n",
       "      <th>0</th>\n",
       "      <th>1</th>\n",
       "      <th>2</th>\n",
       "      <th>3</th>\n",
       "      <th>4</th>\n",
       "      <th>5</th>\n",
       "      <th>6</th>\n",
       "      <th>7</th>\n",
       "      <th>8</th>\n",
       "      <th>9</th>\n",
       "      <th>...</th>\n",
       "      <th>404843</th>\n",
       "      <th>404844</th>\n",
       "      <th>404845</th>\n",
       "      <th>404846</th>\n",
       "      <th>404847</th>\n",
       "      <th>404848</th>\n",
       "      <th>404849</th>\n",
       "      <th>404850</th>\n",
       "      <th>404851</th>\n",
       "      <th>404852</th>\n",
       "    </tr>\n",
       "  </thead>\n",
       "  <tbody>\n",
       "    <tr>\n",
       "      <th>0</th>\n",
       "      <td>-0.000929</td>\n",
       "      <td>-0.001677</td>\n",
       "      <td>-0.001346</td>\n",
       "      <td>-0.001601</td>\n",
       "      <td>-0.001279</td>\n",
       "      <td>-0.001557</td>\n",
       "      <td>-0.001323</td>\n",
       "      <td>-0.001306</td>\n",
       "      <td>-0.001357</td>\n",
       "      <td>-0.001346</td>\n",
       "      <td>...</td>\n",
       "      <td>0.0</td>\n",
       "      <td>0.0</td>\n",
       "      <td>0.0</td>\n",
       "      <td>0.0</td>\n",
       "      <td>0.0</td>\n",
       "      <td>0.0</td>\n",
       "      <td>0.0</td>\n",
       "      <td>0.0</td>\n",
       "      <td>0.0</td>\n",
       "      <td>0.0</td>\n",
       "    </tr>\n",
       "    <tr>\n",
       "      <th>0</th>\n",
       "      <td>0.003716</td>\n",
       "      <td>0.006206</td>\n",
       "      <td>0.005387</td>\n",
       "      <td>0.005922</td>\n",
       "      <td>0.005639</td>\n",
       "      <td>0.005819</td>\n",
       "      <td>0.005612</td>\n",
       "      <td>0.005743</td>\n",
       "      <td>0.005605</td>\n",
       "      <td>0.005658</td>\n",
       "      <td>...</td>\n",
       "      <td>0.0</td>\n",
       "      <td>0.0</td>\n",
       "      <td>0.0</td>\n",
       "      <td>0.0</td>\n",
       "      <td>0.0</td>\n",
       "      <td>0.0</td>\n",
       "      <td>0.0</td>\n",
       "      <td>0.0</td>\n",
       "      <td>0.0</td>\n",
       "      <td>0.0</td>\n",
       "    </tr>\n",
       "    <tr>\n",
       "      <th>0</th>\n",
       "      <td>0.001630</td>\n",
       "      <td>0.002783</td>\n",
       "      <td>0.002351</td>\n",
       "      <td>0.002602</td>\n",
       "      <td>0.002535</td>\n",
       "      <td>0.002590</td>\n",
       "      <td>0.002668</td>\n",
       "      <td>0.003034</td>\n",
       "      <td>0.002848</td>\n",
       "      <td>0.002828</td>\n",
       "      <td>...</td>\n",
       "      <td>0.0</td>\n",
       "      <td>0.0</td>\n",
       "      <td>0.0</td>\n",
       "      <td>0.0</td>\n",
       "      <td>0.0</td>\n",
       "      <td>0.0</td>\n",
       "      <td>0.0</td>\n",
       "      <td>0.0</td>\n",
       "      <td>0.0</td>\n",
       "      <td>0.0</td>\n",
       "    </tr>\n",
       "    <tr>\n",
       "      <th>0</th>\n",
       "      <td>0.000572</td>\n",
       "      <td>0.001148</td>\n",
       "      <td>0.000977</td>\n",
       "      <td>0.000989</td>\n",
       "      <td>0.000890</td>\n",
       "      <td>0.000998</td>\n",
       "      <td>0.000930</td>\n",
       "      <td>0.001095</td>\n",
       "      <td>0.000900</td>\n",
       "      <td>0.000806</td>\n",
       "      <td>...</td>\n",
       "      <td>0.0</td>\n",
       "      <td>0.0</td>\n",
       "      <td>0.0</td>\n",
       "      <td>0.0</td>\n",
       "      <td>0.0</td>\n",
       "      <td>0.0</td>\n",
       "      <td>0.0</td>\n",
       "      <td>0.0</td>\n",
       "      <td>0.0</td>\n",
       "      <td>0.0</td>\n",
       "    </tr>\n",
       "    <tr>\n",
       "      <th>0</th>\n",
       "      <td>0.000376</td>\n",
       "      <td>0.000673</td>\n",
       "      <td>0.000604</td>\n",
       "      <td>0.000593</td>\n",
       "      <td>0.000535</td>\n",
       "      <td>0.000612</td>\n",
       "      <td>0.000468</td>\n",
       "      <td>0.000425</td>\n",
       "      <td>0.000583</td>\n",
       "      <td>0.000352</td>\n",
       "      <td>...</td>\n",
       "      <td>0.0</td>\n",
       "      <td>0.0</td>\n",
       "      <td>0.0</td>\n",
       "      <td>0.0</td>\n",
       "      <td>0.0</td>\n",
       "      <td>0.0</td>\n",
       "      <td>0.0</td>\n",
       "      <td>0.0</td>\n",
       "      <td>0.0</td>\n",
       "      <td>0.0</td>\n",
       "    </tr>\n",
       "  </tbody>\n",
       "</table>\n",
       "<p>5 rows × 404853 columns</p>\n",
       "</div>"
      ],
      "text/plain": [
       "     0         1         2         3         4         5         6       \\\n",
       "0 -0.000929 -0.001677 -0.001346 -0.001601 -0.001279 -0.001557 -0.001323   \n",
       "0  0.003716  0.006206  0.005387  0.005922  0.005639  0.005819  0.005612   \n",
       "0  0.001630  0.002783  0.002351  0.002602  0.002535  0.002590  0.002668   \n",
       "0  0.000572  0.001148  0.000977  0.000989  0.000890  0.000998  0.000930   \n",
       "0  0.000376  0.000673  0.000604  0.000593  0.000535  0.000612  0.000468   \n",
       "\n",
       "     7         8         9       ...  404843  404844  404845  404846  404847  \\\n",
       "0 -0.001306 -0.001357 -0.001346  ...     0.0     0.0     0.0     0.0     0.0   \n",
       "0  0.005743  0.005605  0.005658  ...     0.0     0.0     0.0     0.0     0.0   \n",
       "0  0.003034  0.002848  0.002828  ...     0.0     0.0     0.0     0.0     0.0   \n",
       "0  0.001095  0.000900  0.000806  ...     0.0     0.0     0.0     0.0     0.0   \n",
       "0  0.000425  0.000583  0.000352  ...     0.0     0.0     0.0     0.0     0.0   \n",
       "\n",
       "   404848  404849  404850  404851  404852  \n",
       "0     0.0     0.0     0.0     0.0     0.0  \n",
       "0     0.0     0.0     0.0     0.0     0.0  \n",
       "0     0.0     0.0     0.0     0.0     0.0  \n",
       "0     0.0     0.0     0.0     0.0     0.0  \n",
       "0     0.0     0.0     0.0     0.0     0.0  \n",
       "\n",
       "[5 rows x 404853 columns]"
      ]
     },
     "execution_count": 53,
     "metadata": {},
     "output_type": "execute_result"
    }
   ],
   "source": [
    "df.head()"
   ]
  },
  {
   "cell_type": "code",
   "execution_count": 54,
   "metadata": {},
   "outputs": [
    {
     "name": "stdout",
     "output_type": "stream",
     "text": [
      "['1', '1', '1', '1', '1', '1', '1', '1', '1', '1', '1', '1', '1', '1', '1', '1', '1', '1', '1', '1', '1', '1', '1', '1', '1', '1', '1', '1', '1', '1', '1', '1', '1', '1', '1', '1', '1', '1', '0', '0']\n"
     ]
    }
   ],
   "source": [
    "label = ['1','1','1','1','1','1','1','1','1','1'\\\n",
    "        ,'1','1','1','1','1','1','1','1','1','1'\\\n",
    "        ,'1','1','1','1','1','1','1','1','1','1'\\\n",
    "        ,'1','1','1','1','1','1','1','1','0','0']\n",
    "print(label)"
   ]
  },
  {
   "cell_type": "code",
   "execution_count": 55,
   "metadata": {},
   "outputs": [],
   "source": [
    "df[last_column] = label"
   ]
  },
  {
   "cell_type": "code",
   "execution_count": 56,
   "metadata": {},
   "outputs": [
    {
     "data": {
      "text/plain": [
       "(40, 404854)"
      ]
     },
     "execution_count": 56,
     "metadata": {},
     "output_type": "execute_result"
    }
   ],
   "source": [
    "df.shape"
   ]
  },
  {
   "cell_type": "code",
   "execution_count": 57,
   "metadata": {},
   "outputs": [
    {
     "data": {
      "text/html": [
       "<div>\n",
       "<style scoped>\n",
       "    .dataframe tbody tr th:only-of-type {\n",
       "        vertical-align: middle;\n",
       "    }\n",
       "\n",
       "    .dataframe tbody tr th {\n",
       "        vertical-align: top;\n",
       "    }\n",
       "\n",
       "    .dataframe thead th {\n",
       "        text-align: right;\n",
       "    }\n",
       "</style>\n",
       "<table border=\"1\" class=\"dataframe\">\n",
       "  <thead>\n",
       "    <tr style=\"text-align: right;\">\n",
       "      <th></th>\n",
       "      <th>0</th>\n",
       "      <th>1</th>\n",
       "      <th>2</th>\n",
       "      <th>3</th>\n",
       "      <th>4</th>\n",
       "      <th>5</th>\n",
       "      <th>6</th>\n",
       "      <th>7</th>\n",
       "      <th>8</th>\n",
       "      <th>9</th>\n",
       "      <th>...</th>\n",
       "      <th>404844</th>\n",
       "      <th>404845</th>\n",
       "      <th>404846</th>\n",
       "      <th>404847</th>\n",
       "      <th>404848</th>\n",
       "      <th>404849</th>\n",
       "      <th>404850</th>\n",
       "      <th>404851</th>\n",
       "      <th>404852</th>\n",
       "      <th>438423</th>\n",
       "    </tr>\n",
       "  </thead>\n",
       "  <tbody>\n",
       "    <tr>\n",
       "      <th>0</th>\n",
       "      <td>-0.000929</td>\n",
       "      <td>-0.001677</td>\n",
       "      <td>-0.001346</td>\n",
       "      <td>-0.001601</td>\n",
       "      <td>-0.001279</td>\n",
       "      <td>-0.001557</td>\n",
       "      <td>-0.001323</td>\n",
       "      <td>-0.001306</td>\n",
       "      <td>-0.001357</td>\n",
       "      <td>-0.001346</td>\n",
       "      <td>...</td>\n",
       "      <td>0.0</td>\n",
       "      <td>0.0</td>\n",
       "      <td>0.0</td>\n",
       "      <td>0.0</td>\n",
       "      <td>0.0</td>\n",
       "      <td>0.0</td>\n",
       "      <td>0.0</td>\n",
       "      <td>0.0</td>\n",
       "      <td>0.0</td>\n",
       "      <td>1</td>\n",
       "    </tr>\n",
       "    <tr>\n",
       "      <th>0</th>\n",
       "      <td>0.003716</td>\n",
       "      <td>0.006206</td>\n",
       "      <td>0.005387</td>\n",
       "      <td>0.005922</td>\n",
       "      <td>0.005639</td>\n",
       "      <td>0.005819</td>\n",
       "      <td>0.005612</td>\n",
       "      <td>0.005743</td>\n",
       "      <td>0.005605</td>\n",
       "      <td>0.005658</td>\n",
       "      <td>...</td>\n",
       "      <td>0.0</td>\n",
       "      <td>0.0</td>\n",
       "      <td>0.0</td>\n",
       "      <td>0.0</td>\n",
       "      <td>0.0</td>\n",
       "      <td>0.0</td>\n",
       "      <td>0.0</td>\n",
       "      <td>0.0</td>\n",
       "      <td>0.0</td>\n",
       "      <td>1</td>\n",
       "    </tr>\n",
       "    <tr>\n",
       "      <th>0</th>\n",
       "      <td>0.001630</td>\n",
       "      <td>0.002783</td>\n",
       "      <td>0.002351</td>\n",
       "      <td>0.002602</td>\n",
       "      <td>0.002535</td>\n",
       "      <td>0.002590</td>\n",
       "      <td>0.002668</td>\n",
       "      <td>0.003034</td>\n",
       "      <td>0.002848</td>\n",
       "      <td>0.002828</td>\n",
       "      <td>...</td>\n",
       "      <td>0.0</td>\n",
       "      <td>0.0</td>\n",
       "      <td>0.0</td>\n",
       "      <td>0.0</td>\n",
       "      <td>0.0</td>\n",
       "      <td>0.0</td>\n",
       "      <td>0.0</td>\n",
       "      <td>0.0</td>\n",
       "      <td>0.0</td>\n",
       "      <td>1</td>\n",
       "    </tr>\n",
       "    <tr>\n",
       "      <th>0</th>\n",
       "      <td>0.000572</td>\n",
       "      <td>0.001148</td>\n",
       "      <td>0.000977</td>\n",
       "      <td>0.000989</td>\n",
       "      <td>0.000890</td>\n",
       "      <td>0.000998</td>\n",
       "      <td>0.000930</td>\n",
       "      <td>0.001095</td>\n",
       "      <td>0.000900</td>\n",
       "      <td>0.000806</td>\n",
       "      <td>...</td>\n",
       "      <td>0.0</td>\n",
       "      <td>0.0</td>\n",
       "      <td>0.0</td>\n",
       "      <td>0.0</td>\n",
       "      <td>0.0</td>\n",
       "      <td>0.0</td>\n",
       "      <td>0.0</td>\n",
       "      <td>0.0</td>\n",
       "      <td>0.0</td>\n",
       "      <td>1</td>\n",
       "    </tr>\n",
       "    <tr>\n",
       "      <th>0</th>\n",
       "      <td>0.000376</td>\n",
       "      <td>0.000673</td>\n",
       "      <td>0.000604</td>\n",
       "      <td>0.000593</td>\n",
       "      <td>0.000535</td>\n",
       "      <td>0.000612</td>\n",
       "      <td>0.000468</td>\n",
       "      <td>0.000425</td>\n",
       "      <td>0.000583</td>\n",
       "      <td>0.000352</td>\n",
       "      <td>...</td>\n",
       "      <td>0.0</td>\n",
       "      <td>0.0</td>\n",
       "      <td>0.0</td>\n",
       "      <td>0.0</td>\n",
       "      <td>0.0</td>\n",
       "      <td>0.0</td>\n",
       "      <td>0.0</td>\n",
       "      <td>0.0</td>\n",
       "      <td>0.0</td>\n",
       "      <td>1</td>\n",
       "    </tr>\n",
       "  </tbody>\n",
       "</table>\n",
       "<p>5 rows × 404854 columns</p>\n",
       "</div>"
      ],
      "text/plain": [
       "     0         1         2         3         4         5         6       \\\n",
       "0 -0.000929 -0.001677 -0.001346 -0.001601 -0.001279 -0.001557 -0.001323   \n",
       "0  0.003716  0.006206  0.005387  0.005922  0.005639  0.005819  0.005612   \n",
       "0  0.001630  0.002783  0.002351  0.002602  0.002535  0.002590  0.002668   \n",
       "0  0.000572  0.001148  0.000977  0.000989  0.000890  0.000998  0.000930   \n",
       "0  0.000376  0.000673  0.000604  0.000593  0.000535  0.000612  0.000468   \n",
       "\n",
       "     7         8         9       ...  404844  404845  404846  404847  404848  \\\n",
       "0 -0.001306 -0.001357 -0.001346  ...     0.0     0.0     0.0     0.0     0.0   \n",
       "0  0.005743  0.005605  0.005658  ...     0.0     0.0     0.0     0.0     0.0   \n",
       "0  0.003034  0.002848  0.002828  ...     0.0     0.0     0.0     0.0     0.0   \n",
       "0  0.001095  0.000900  0.000806  ...     0.0     0.0     0.0     0.0     0.0   \n",
       "0  0.000425  0.000583  0.000352  ...     0.0     0.0     0.0     0.0     0.0   \n",
       "\n",
       "   404849  404850  404851  404852  438423  \n",
       "0     0.0     0.0     0.0     0.0       1  \n",
       "0     0.0     0.0     0.0     0.0       1  \n",
       "0     0.0     0.0     0.0     0.0       1  \n",
       "0     0.0     0.0     0.0     0.0       1  \n",
       "0     0.0     0.0     0.0     0.0       1  \n",
       "\n",
       "[5 rows x 404854 columns]"
      ]
     },
     "execution_count": 57,
     "metadata": {},
     "output_type": "execute_result"
    }
   ],
   "source": [
    "df.head()"
   ]
  },
  {
   "cell_type": "code",
   "execution_count": 58,
   "metadata": {},
   "outputs": [],
   "source": [
    "import tensorflow as tf\n",
    "\n",
    "from sklearn.model_selection import train_test_split"
   ]
  },
  {
   "cell_type": "code",
   "execution_count": 59,
   "metadata": {},
   "outputs": [],
   "source": [
    "dataframe = df\n",
    "raw_data = dataframe.values\n",
    "\n",
    "# The last element contains the labels\n",
    "labels = raw_data[:, -1]\n",
    "\n",
    "# The other data points are the electrocadriogram data\n",
    "data = raw_data[:, 0:-1]\n",
    "\n",
    "train_data, test_data, train_labels, test_labels = train_test_split(\n",
    "    data[:36, :], labels[:36], test_size=0.05, random_state=2\n",
    ")\n",
    "\n",
    "normal_test_ok = data[36:38, :]\n",
    "normal_test_nok = data[38:, :]"
   ]
  },
  {
   "cell_type": "code",
   "execution_count": 60,
   "metadata": {},
   "outputs": [
    {
     "name": "stdout",
     "output_type": "stream",
     "text": [
      "(36, 404853)\n",
      "(2, 404853)\n",
      "(2, 404853)\n",
      "['1' '1' '1' '1' '1' '1' '1' '1' '1' '1' '1' '1' '1' '1' '1' '1' '1' '1'\n",
      " '1' '1' '1' '1' '1' '1' '1' '1' '1' '1' '1' '1' '1' '1' '1' '1' '1' '1']\n",
      "['1' '1']\n",
      "['0' '0']\n"
     ]
    }
   ],
   "source": [
    "print(data[:36, :].shape)\n",
    "print(data[36:38, :].shape)\n",
    "print(data[38:, :].shape)\n",
    "print(labels[:36])\n",
    "print(labels[36:38])\n",
    "print(labels[38:])\n"
   ]
  },
  {
   "cell_type": "code",
   "execution_count": 61,
   "metadata": {},
   "outputs": [
    {
     "name": "stdout",
     "output_type": "stream",
     "text": [
      "(34,)\n",
      "(2,)\n"
     ]
    }
   ],
   "source": [
    "print(train_labels.shape)\n",
    "print(test_labels.shape)"
   ]
  },
  {
   "cell_type": "code",
   "execution_count": 62,
   "metadata": {},
   "outputs": [
    {
     "name": "stdout",
     "output_type": "stream",
     "text": [
      "<class 'pandas.core.frame.DataFrame'>\n",
      "(5, 404854)\n"
     ]
    }
   ],
   "source": [
    "# DataFrame.head(n=5): Parameters ==> nint, default 5\n",
    "print(type(dataframe.head()))\n",
    "# <class 'pandas.core.frame.DataFrame'>\n",
    "print(dataframe.head().shape)\n",
    "# (5, 141)"
   ]
  },
  {
   "cell_type": "code",
   "execution_count": 63,
   "metadata": {},
   "outputs": [
    {
     "name": "stdout",
     "output_type": "stream",
     "text": [
      "(40, 404854)\n",
      "(40,)\n"
     ]
    }
   ],
   "source": [
    "print(raw_data.shape)\n",
    "# (4998, 141)\n",
    "print(raw_data[:, -1].shape)\n",
    "# (4998,)"
   ]
  },
  {
   "cell_type": "code",
   "execution_count": 64,
   "metadata": {},
   "outputs": [
    {
     "data": {
      "text/plain": [
       "array(['1', '1', '1', '1', '1', '1', '1', '1', '1', '1', '1', '1', '1',\n",
       "       '1', '1', '1', '1', '1', '1', '1', '1', '1', '1', '1', '1', '1',\n",
       "       '1', '1', '1', '1', '1', '1', '1', '1', '1', '1', '1', '1', '0',\n",
       "       '0'], dtype=object)"
      ]
     },
     "execution_count": 64,
     "metadata": {},
     "output_type": "execute_result"
    }
   ],
   "source": [
    "labels"
   ]
  },
  {
   "cell_type": "code",
   "execution_count": 65,
   "metadata": {},
   "outputs": [
    {
     "data": {
      "text/plain": [
       "array(['1', '1', '1', '1', '1', '1', '1', '1', '1', '1', '1', '1', '1',\n",
       "       '1', '1', '1', '1', '1', '1', '1', '1', '1', '1', '1', '1', '1',\n",
       "       '1', '1', '1', '1', '1', '1', '1', '1'], dtype=object)"
      ]
     },
     "execution_count": 65,
     "metadata": {},
     "output_type": "execute_result"
    }
   ],
   "source": [
    "train_labels"
   ]
  },
  {
   "cell_type": "code",
   "execution_count": 66,
   "metadata": {},
   "outputs": [
    {
     "data": {
      "text/plain": [
       "array(['1', '1'], dtype=object)"
      ]
     },
     "execution_count": 66,
     "metadata": {},
     "output_type": "execute_result"
    }
   ],
   "source": [
    "test_labels"
   ]
  },
  {
   "cell_type": "code",
   "execution_count": 67,
   "metadata": {},
   "outputs": [],
   "source": [
    "# # The last element contains the labels # 마지막 열\n",
    "# labels = raw_data[:, -1]\n",
    "\n",
    "# print(type(labels))\n",
    "# # <class 'numpy.ndarray'>\n",
    "# print(labels.shape)\n",
    "# # (4998,)"
   ]
  },
  {
   "cell_type": "code",
   "execution_count": 68,
   "metadata": {},
   "outputs": [
    {
     "data": {
      "text/plain": [
       "array([[-0.0008513874490745366, -0.0013943997910246253,\n",
       "        -0.0011935806833207607, ..., 0.0, 0.0, 0.0],\n",
       "       [-0.0034280698746442795, -0.0056115626357495785,\n",
       "        -0.004849905613809824, ..., 0.0, 0.0, 0.0],\n",
       "       [0.0004054678720422089, 0.001065469696186483,\n",
       "        0.0008794404566287994, ..., 0.0, 0.0, 0.0],\n",
       "       ...,\n",
       "       [-0.00226050172932446, -0.0037804252933710814,\n",
       "        -0.0034400911536067724, ..., 0.0, 0.0, 0.0],\n",
       "       [7.476893188140821e-06, 7.662310963496566e-05,\n",
       "        0.00012570143735501915, ..., 0.0, 0.0, 0.0],\n",
       "       [-0.0008311466663144529, -0.0013531335862353444,\n",
       "        -0.0013005597284063697, ..., 0.0, 0.0, 0.0]], dtype=object)"
      ]
     },
     "execution_count": 68,
     "metadata": {},
     "output_type": "execute_result"
    }
   ],
   "source": [
    "train_data"
   ]
  },
  {
   "cell_type": "code",
   "execution_count": 69,
   "metadata": {},
   "outputs": [
    {
     "data": {
      "text/plain": [
       "(34, 404853)"
      ]
     },
     "execution_count": 69,
     "metadata": {},
     "output_type": "execute_result"
    }
   ],
   "source": [
    "train_data.shape"
   ]
  },
  {
   "cell_type": "code",
   "execution_count": 70,
   "metadata": {},
   "outputs": [
    {
     "name": "stdout",
     "output_type": "stream",
     "text": [
      "(2, 404853)\n",
      "(2, 404853)\n"
     ]
    }
   ],
   "source": [
    "\n",
    "print(normal_test_ok.shape)\n",
    "print(normal_test_nok.shape)"
   ]
  },
  {
   "cell_type": "code",
   "execution_count": 71,
   "metadata": {},
   "outputs": [],
   "source": [
    "# 타입을 바꾸는(astype) 함수를 통해 실수화(float) \n",
    "train_data = train_data.astype('float32')\n",
    "test_data = test_data.astype('float32')"
   ]
  },
  {
   "cell_type": "code",
   "execution_count": 72,
   "metadata": {},
   "outputs": [],
   "source": [
    "# 타입을 바꾸는(astype) 함수를 통해 실수화(float) \n",
    "normal_test_ok = normal_test_ok.astype('float32')\n",
    "normal_test_nok = normal_test_nok.astype('float32')"
   ]
  },
  {
   "cell_type": "code",
   "execution_count": 73,
   "metadata": {},
   "outputs": [],
   "source": [
    "# 데이터를 [0,1]로 정규화합니다.\n",
    "min_val = tf.reduce_min(train_data)\n",
    "max_val = tf.reduce_max(train_data)\n",
    "\n",
    "train_data = (train_data - min_val) / (max_val - min_val)\n",
    "test_data = (test_data - min_val) / (max_val - min_val)\n",
    "\n",
    "train_data = tf.cast(train_data, tf.float32)\n",
    "test_data = tf.cast(test_data, tf.float32)\n",
    "\n",
    "normal_test_ok = (normal_test_ok - min_val) / (max_val - min_val)\n",
    "normal_test_nok = (normal_test_nok - min_val) / (max_val - min_val)\n"
   ]
  },
  {
   "cell_type": "code",
   "execution_count": 74,
   "metadata": {},
   "outputs": [],
   "source": [
    "\n",
    "normal_test_ok = tf.cast(normal_test_ok, tf.float32)\n",
    "normal_test_nok = tf.cast(normal_test_nok, tf.float32)"
   ]
  },
  {
   "cell_type": "code",
   "execution_count": 75,
   "metadata": {},
   "outputs": [
    {
     "name": "stdout",
     "output_type": "stream",
     "text": [
      "['1' '1' '1' '1' '1' '1' '1' '1' '1' '1' '1' '1' '1' '1' '1' '1' '1' '1'\n",
      " '1' '1' '1' '1' '1' '1' '1' '1' '1' '1' '1' '1' '1' '1' '1' '1']\n",
      "(34,)\n"
     ]
    }
   ],
   "source": [
    "print(train_labels)\n",
    "print(train_labels.shape)"
   ]
  },
  {
   "cell_type": "code",
   "execution_count": 76,
   "metadata": {},
   "outputs": [
    {
     "name": "stdout",
     "output_type": "stream",
     "text": [
      "<class 'numpy.ndarray'>\n",
      "<class 'str'>\n",
      "object\n"
     ]
    }
   ],
   "source": [
    "print(type(train_labels))\n",
    "print(type(train_labels[0]))\n",
    "print(train_labels.dtype)"
   ]
  },
  {
   "cell_type": "code",
   "execution_count": 77,
   "metadata": {},
   "outputs": [
    {
     "name": "stdout",
     "output_type": "stream",
     "text": [
      "[ True  True  True  True  True  True  True  True  True  True  True  True\n",
      "  True  True  True  True  True  True  True  True  True  True  True  True\n",
      "  True  True  True  True  True  True  True  True  True  True]\n",
      "(34,)\n"
     ]
    }
   ],
   "source": [
    "print(train_labels.astype(bool))\n",
    "print(train_labels.astype(bool).shape)"
   ]
  },
  {
   "cell_type": "code",
   "execution_count": 78,
   "metadata": {},
   "outputs": [],
   "source": [
    "train_labels = train_labels.astype(np.int64)"
   ]
  },
  {
   "cell_type": "code",
   "execution_count": 79,
   "metadata": {},
   "outputs": [],
   "source": [
    "test_labels = test_labels.astype(np.int64)"
   ]
  },
  {
   "cell_type": "code",
   "execution_count": 80,
   "metadata": {},
   "outputs": [],
   "source": [
    "# 이 데이터세트에서 1로 레이블이 지정된 정상 리듬만 사용하여 autoencoder를 훈련합니다.\n",
    "#  정상 리듬과 비정상 리듬을 분리합니다.\n",
    "\n",
    "train_labels = train_labels.astype(bool)\n",
    "test_labels = test_labels.astype(bool)\n",
    "\n",
    "normal_train_data = train_data[train_labels]\n",
    "normal_test_data = test_data[test_labels]\n",
    "\n",
    "# anomalous_train_data = train_data[~train_labels]\n",
    "# anomalous_test_data = test_data[~test_labels]"
   ]
  },
  {
   "cell_type": "code",
   "execution_count": 81,
   "metadata": {},
   "outputs": [
    {
     "name": "stdout",
     "output_type": "stream",
     "text": [
      "[ True  True  True  True  True  True  True  True  True  True  True  True\n",
      "  True  True  True  True  True  True  True  True  True  True  True  True\n",
      "  True  True  True  True  True  True  True  True  True  True]\n",
      "[ True  True]\n",
      "(34, 404853)\n",
      "(2, 404853)\n",
      "(2, 404853)\n",
      "(2, 404853)\n"
     ]
    }
   ],
   "source": [
    "print(train_labels)\n",
    "print(test_labels)\n",
    "print(normal_train_data.shape)\n",
    "print(normal_test_data.shape)\n",
    "print(normal_test_ok.shape)\n",
    "print(normal_test_nok.shape)"
   ]
  },
  {
   "cell_type": "code",
   "execution_count": 82,
   "metadata": {},
   "outputs": [
    {
     "data": {
      "text/plain": [
       "array([ True,  True,  True,  True,  True,  True,  True,  True,  True,\n",
       "        True,  True,  True,  True,  True,  True,  True,  True,  True,\n",
       "        True,  True,  True,  True,  True,  True,  True,  True,  True,\n",
       "        True,  True,  True,  True,  True,  True,  True])"
      ]
     },
     "execution_count": 82,
     "metadata": {},
     "output_type": "execute_result"
    }
   ],
   "source": [
    "train_labels"
   ]
  },
  {
   "cell_type": "code",
   "execution_count": 83,
   "metadata": {},
   "outputs": [
    {
     "data": {
      "image/png": "[encoded data removed]",
      "text/plain": [
       "<Figure size 432x288 with 1 Axes>"
      ]
     },
     "metadata": {
      "needs_background": "light"
     },
     "output_type": "display_data"
    }
   ],
   "source": [
    "# 정상적인 ECG를 플롯합니다.\n",
    "plt.grid()\n",
    "plt.plot(normal_train_data[0])\n",
    "plt.title(\"A Normal e-compressor\")\n",
    "plt.show()"
   ]
  },
  {
   "cell_type": "code",
   "execution_count": 84,
   "metadata": {},
   "outputs": [
    {
     "data": {
      "image/png": "[encoded data removed]",
      "text/plain": [
       "<Figure size 432x288 with 1 Axes>"
      ]
     },
     "metadata": {
      "needs_background": "light"
     },
     "output_type": "display_data"
    }
   ],
   "source": [
    "# 비정상적인 ECG를 플롯합니다.\n",
    "plt.grid()\n",
    "plt.plot(normal_test_nok[1])\n",
    "plt.title(\"An Anomalous e-compressor\")\n",
    "plt.show()"
   ]
  },
  {
   "cell_type": "code",
   "execution_count": 85,
   "metadata": {},
   "outputs": [],
   "source": [
    "# 모델 빌드하기\n",
    "class AnomalyDetector(Model):\n",
    "  def __init__(self):\n",
    "    super(AnomalyDetector, self).__init__()\n",
    "    self.encoder = tf.keras.Sequential([\n",
    "      layers.Dense(32, activation=\"relu\"),\n",
    "      layers.Dense(16, activation=\"relu\"),\n",
    "      layers.Dense(8, activation=\"relu\")])\n",
    "\n",
    "    self.decoder = tf.keras.Sequential([\n",
    "      layers.Dense(16, activation=\"relu\"),\n",
    "      layers.Dense(32, activation=\"relu\"),\n",
    "      layers.Dense(404853, activation=\"sigmoid\")])\n",
    "\n",
    "  def call(self, x):\n",
    "    encoded = self.encoder(x)\n",
    "    decoded = self.decoder(encoded)\n",
    "    return decoded\n",
    "\n",
    "autoencoder = AnomalyDetector()\n",
    "\n",
    "autoencoder.compile(optimizer='adam', loss='mae')"
   ]
  },
  {
   "cell_type": "code",
   "execution_count": 86,
   "metadata": {},
   "outputs": [
    {
     "name": "stdout",
     "output_type": "stream",
     "text": [
      "Epoch 1/100\n",
      "1/1 [==============================] - 1s 1s/step - loss: 0.2289 - val_loss: 0.2288\n",
      "Epoch 2/100\n",
      "1/1 [==============================] - 0s 57ms/step - loss: 0.2288 - val_loss: 0.2284\n",
      "Epoch 3/100\n",
      "1/1 [==============================] - 0s 59ms/step - loss: 0.2284 - val_loss: 0.2204\n",
      "Epoch 4/100\n",
      "1/1 [==============================] - 0s 61ms/step - loss: 0.2204 - val_loss: 0.1693\n",
      "Epoch 5/100\n",
      "1/1 [==============================] - 0s 58ms/step - loss: 0.1694 - val_loss: 0.0805\n",
      "Epoch 6/100\n",
      "1/1 [==============================] - 0s 55ms/step - loss: 0.0804 - val_loss: 0.1068\n",
      "Epoch 7/100\n",
      "1/1 [==============================] - 0s 58ms/step - loss: 0.1067 - val_loss: 0.1111\n",
      "Epoch 8/100\n",
      "1/1 [==============================] - 0s 58ms/step - loss: 0.1110 - val_loss: 0.0631\n",
      "Epoch 9/100\n",
      "1/1 [==============================] - 0s 58ms/step - loss: 0.0625 - val_loss: 0.0556\n",
      "Epoch 10/100\n",
      "1/1 [==============================] - 0s 57ms/step - loss: 0.0553 - val_loss: 0.0908\n",
      "Epoch 11/100\n",
      "1/1 [==============================] - 0s 57ms/step - loss: 0.0908 - val_loss: 0.0798\n",
      "Epoch 12/100\n",
      "1/1 [==============================] - 0s 57ms/step - loss: 0.0797 - val_loss: 0.0436\n",
      "Epoch 13/100\n",
      "1/1 [==============================] - 0s 54ms/step - loss: 0.0431 - val_loss: 0.0544\n",
      "Epoch 14/100\n",
      "1/1 [==============================] - 0s 58ms/step - loss: 0.0536 - val_loss: 0.0693\n",
      "Epoch 15/100\n",
      "1/1 [==============================] - 0s 57ms/step - loss: 0.0686 - val_loss: 0.0487\n",
      "Epoch 16/100\n",
      "1/1 [==============================] - 0s 61ms/step - loss: 0.0478 - val_loss: 0.0330\n",
      "Epoch 17/100\n",
      "1/1 [==============================] - 0s 58ms/step - loss: 0.0326 - val_loss: 0.0544\n",
      "Epoch 18/100\n",
      "1/1 [==============================] - 0s 56ms/step - loss: 0.0541 - val_loss: 0.0549\n",
      "Epoch 19/100\n",
      "1/1 [==============================] - 0s 57ms/step - loss: 0.0547 - val_loss: 0.0332\n",
      "Epoch 20/100\n",
      "1/1 [==============================] - 0s 58ms/step - loss: 0.0329 - val_loss: 0.0352\n",
      "Epoch 21/100\n",
      "1/1 [==============================] - 0s 57ms/step - loss: 0.0346 - val_loss: 0.0461\n",
      "Epoch 22/100\n",
      "1/1 [==============================] - 0s 56ms/step - loss: 0.0454 - val_loss: 0.0337\n",
      "Epoch 23/100\n",
      "1/1 [==============================] - 0s 60ms/step - loss: 0.0330 - val_loss: 0.0278\n",
      "Epoch 24/100\n",
      "1/1 [==============================] - 0s 58ms/step - loss: 0.0274 - val_loss: 0.0403\n",
      "Epoch 25/100\n",
      "1/1 [==============================] - 0s 62ms/step - loss: 0.0399 - val_loss: 0.0352\n",
      "Epoch 26/100\n",
      "1/1 [==============================] - 0s 62ms/step - loss: 0.0347 - val_loss: 0.0246\n",
      "Epoch 27/100\n",
      "1/1 [==============================] - 0s 60ms/step - loss: 0.0241 - val_loss: 0.0333\n",
      "Epoch 28/100\n",
      "1/1 [==============================] - 0s 61ms/step - loss: 0.0327 - val_loss: 0.0316\n",
      "Epoch 29/100\n",
      "1/1 [==============================] - 0s 59ms/step - loss: 0.0310 - val_loss: 0.0237\n",
      "Epoch 30/100\n",
      "1/1 [==============================] - 0s 63ms/step - loss: 0.0232 - val_loss: 0.0305\n",
      "Epoch 31/100\n",
      "1/1 [==============================] - 0s 59ms/step - loss: 0.0302 - val_loss: 0.0299\n",
      "Epoch 32/100\n",
      "1/1 [==============================] - 0s 62ms/step - loss: 0.0295 - val_loss: 0.0228\n",
      "Epoch 33/100\n",
      "1/1 [==============================] - 0s 56ms/step - loss: 0.0224 - val_loss: 0.0279\n",
      "Epoch 34/100\n",
      "1/1 [==============================] - 0s 56ms/step - loss: 0.0273 - val_loss: 0.0269\n",
      "Epoch 35/100\n",
      "1/1 [==============================] - 0s 62ms/step - loss: 0.0262 - val_loss: 0.0229\n",
      "Epoch 36/100\n",
      "1/1 [==============================] - 0s 55ms/step - loss: 0.0224 - val_loss: 0.0271\n",
      "Epoch 37/100\n",
      "1/1 [==============================] - 0s 56ms/step - loss: 0.0266 - val_loss: 0.0247\n",
      "Epoch 38/100\n",
      "1/1 [==============================] - 0s 55ms/step - loss: 0.0242 - val_loss: 0.0226\n",
      "Epoch 39/100\n",
      "1/1 [==============================] - 0s 58ms/step - loss: 0.0220 - val_loss: 0.0256\n",
      "Epoch 40/100\n",
      "1/1 [==============================] - 0s 58ms/step - loss: 0.0250 - val_loss: 0.0228\n",
      "Epoch 41/100\n",
      "1/1 [==============================] - 0s 59ms/step - loss: 0.0222 - val_loss: 0.0234\n",
      "Epoch 42/100\n",
      "1/1 [==============================] - 0s 54ms/step - loss: 0.0229 - val_loss: 0.0242\n",
      "Epoch 43/100\n",
      "1/1 [==============================] - 0s 55ms/step - loss: 0.0237 - val_loss: 0.0217\n",
      "Epoch 44/100\n",
      "1/1 [==============================] - 0s 54ms/step - loss: 0.0212 - val_loss: 0.0235\n",
      "Epoch 45/100\n",
      "1/1 [==============================] - 0s 55ms/step - loss: 0.0229 - val_loss: 0.0226\n",
      "Epoch 46/100\n",
      "1/1 [==============================] - 0s 57ms/step - loss: 0.0220 - val_loss: 0.0221\n",
      "Epoch 47/100\n",
      "1/1 [==============================] - 0s 59ms/step - loss: 0.0216 - val_loss: 0.0230\n",
      "Epoch 48/100\n",
      "1/1 [==============================] - 0s 55ms/step - loss: 0.0225 - val_loss: 0.0215\n",
      "Epoch 49/100\n",
      "1/1 [==============================] - 0s 61ms/step - loss: 0.0209 - val_loss: 0.0225\n",
      "Epoch 50/100\n",
      "1/1 [==============================] - 0s 57ms/step - loss: 0.0219 - val_loss: 0.0219\n",
      "Epoch 51/100\n",
      "1/1 [==============================] - 0s 53ms/step - loss: 0.0213 - val_loss: 0.0217\n",
      "Epoch 52/100\n",
      "1/1 [==============================] - 0s 55ms/step - loss: 0.0212 - val_loss: 0.0219\n",
      "Epoch 53/100\n",
      "1/1 [==============================] - 0s 60ms/step - loss: 0.0214 - val_loss: 0.0214\n",
      "Epoch 54/100\n",
      "1/1 [==============================] - 0s 57ms/step - loss: 0.0208 - val_loss: 0.0220\n",
      "Epoch 55/100\n",
      "1/1 [==============================] - 0s 62ms/step - loss: 0.0214 - val_loss: 0.0214\n",
      "Epoch 56/100\n",
      "1/1 [==============================] - 0s 56ms/step - loss: 0.0208 - val_loss: 0.0217\n",
      "Epoch 57/100\n",
      "1/1 [==============================] - 0s 55ms/step - loss: 0.0211 - val_loss: 0.0213\n",
      "Epoch 58/100\n",
      "1/1 [==============================] - 0s 52ms/step - loss: 0.0207 - val_loss: 0.0214\n",
      "Epoch 59/100\n",
      "1/1 [==============================] - 0s 53ms/step - loss: 0.0208 - val_loss: 0.0214\n",
      "Epoch 60/100\n",
      "1/1 [==============================] - 0s 55ms/step - loss: 0.0208 - val_loss: 0.0213\n",
      "Epoch 61/100\n",
      "1/1 [==============================] - 0s 55ms/step - loss: 0.0207 - val_loss: 0.0213\n",
      "Epoch 62/100\n",
      "1/1 [==============================] - 0s 56ms/step - loss: 0.0207 - val_loss: 0.0212\n",
      "Epoch 63/100\n",
      "1/1 [==============================] - 0s 53ms/step - loss: 0.0206 - val_loss: 0.0212\n",
      "Epoch 64/100\n",
      "1/1 [==============================] - 0s 54ms/step - loss: 0.0206 - val_loss: 0.0211\n",
      "Epoch 65/100\n",
      "1/1 [==============================] - 0s 54ms/step - loss: 0.0205 - val_loss: 0.0212\n",
      "Epoch 66/100\n",
      "1/1 [==============================] - 0s 53ms/step - loss: 0.0205 - val_loss: 0.0211\n",
      "Epoch 67/100\n",
      "1/1 [==============================] - 0s 54ms/step - loss: 0.0204 - val_loss: 0.0211\n",
      "Epoch 68/100\n",
      "1/1 [==============================] - 0s 55ms/step - loss: 0.0204 - val_loss: 0.0210\n",
      "Epoch 69/100\n",
      "1/1 [==============================] - 0s 58ms/step - loss: 0.0204 - val_loss: 0.0210\n",
      "Epoch 70/100\n",
      "1/1 [==============================] - 0s 55ms/step - loss: 0.0204 - val_loss: 0.0210\n",
      "Epoch 71/100\n",
      "1/1 [==============================] - 0s 53ms/step - loss: 0.0204 - val_loss: 0.0210\n",
      "Epoch 72/100\n",
      "1/1 [==============================] - 0s 53ms/step - loss: 0.0203 - val_loss: 0.0209\n",
      "Epoch 73/100\n",
      "1/1 [==============================] - 0s 60ms/step - loss: 0.0203 - val_loss: 0.0209\n",
      "Epoch 74/100\n",
      "1/1 [==============================] - 0s 58ms/step - loss: 0.0202 - val_loss: 0.0210\n",
      "Epoch 75/100\n",
      "1/1 [==============================] - 0s 55ms/step - loss: 0.0203 - val_loss: 0.0209\n",
      "Epoch 76/100\n",
      "1/1 [==============================] - 0s 53ms/step - loss: 0.0203 - val_loss: 0.0209\n",
      "Epoch 77/100\n",
      "1/1 [==============================] - 0s 53ms/step - loss: 0.0202 - val_loss: 0.0209\n",
      "Epoch 78/100\n",
      "1/1 [==============================] - 0s 42ms/step - loss: 0.0202 - val_loss: 0.0208\n",
      "Epoch 79/100\n",
      "1/1 [==============================] - 0s 69ms/step - loss: 0.0201 - val_loss: 0.0209\n",
      "Epoch 80/100\n",
      "1/1 [==============================] - 0s 57ms/step - loss: 0.0202 - val_loss: 0.0209\n",
      "Epoch 81/100\n",
      "1/1 [==============================] - 0s 54ms/step - loss: 0.0202 - val_loss: 0.0208\n",
      "Epoch 82/100\n",
      "1/1 [==============================] - 0s 54ms/step - loss: 0.0201 - val_loss: 0.0208\n",
      "Epoch 83/100\n",
      "1/1 [==============================] - 0s 55ms/step - loss: 0.0201 - val_loss: 0.0208\n",
      "Epoch 84/100\n",
      "1/1 [==============================] - 0s 55ms/step - loss: 0.0201 - val_loss: 0.0208\n",
      "Epoch 85/100\n",
      "1/1 [==============================] - 0s 50ms/step - loss: 0.0201 - val_loss: 0.0208\n",
      "Epoch 86/100\n",
      "1/1 [==============================] - 0s 49ms/step - loss: 0.0201 - val_loss: 0.0208\n",
      "Epoch 87/100\n",
      "1/1 [==============================] - 0s 50ms/step - loss: 0.0201 - val_loss: 0.0208\n",
      "Epoch 88/100\n",
      "1/1 [==============================] - 0s 50ms/step - loss: 0.0201 - val_loss: 0.0208\n",
      "Epoch 89/100\n",
      "1/1 [==============================] - 0s 52ms/step - loss: 0.0201 - val_loss: 0.0208\n",
      "Epoch 90/100\n",
      "1/1 [==============================] - 0s 54ms/step - loss: 0.0201 - val_loss: 0.0208\n",
      "Epoch 91/100\n",
      "1/1 [==============================] - 0s 51ms/step - loss: 0.0201 - val_loss: 0.0208\n",
      "Epoch 92/100\n",
      "1/1 [==============================] - 0s 55ms/step - loss: 0.0201 - val_loss: 0.0208\n",
      "Epoch 93/100\n",
      "1/1 [==============================] - 0s 55ms/step - loss: 0.0201 - val_loss: 0.0208\n",
      "Epoch 94/100\n",
      "1/1 [==============================] - 0s 52ms/step - loss: 0.0201 - val_loss: 0.0208\n",
      "Epoch 95/100\n",
      "1/1 [==============================] - 0s 48ms/step - loss: 0.0201 - val_loss: 0.0208\n",
      "Epoch 96/100\n",
      "1/1 [==============================] - 0s 53ms/step - loss: 0.0201 - val_loss: 0.0208\n",
      "Epoch 97/100\n",
      "1/1 [==============================] - 0s 50ms/step - loss: 0.0200 - val_loss: 0.0208\n",
      "Epoch 98/100\n",
      "1/1 [==============================] - 0s 49ms/step - loss: 0.0200 - val_loss: 0.0207\n",
      "Epoch 99/100\n",
      "1/1 [==============================] - 0s 68ms/step - loss: 0.0200 - val_loss: 0.0207\n",
      "Epoch 100/100\n",
      "1/1 [==============================] - 0s 49ms/step - loss: 0.0200 - val_loss: 0.0207\n"
     ]
    },
    {
     "data": {
      "text/plain": [
       "<matplotlib.legend.Legend at 0x13e879cdf70>"
      ]
     },
     "execution_count": 86,
     "metadata": {},
     "output_type": "execute_result"
    },
    {
     "data": {
      "image/png": "[encoded data removed]",
      "text/plain": [
       "<Figure size 432x288 with 1 Axes>"
      ]
     },
     "metadata": {
      "needs_background": "light"
     },
     "output_type": "display_data"
    }
   ],
   "source": [
    "# autoencoder는 일반 ECG만 사용하여 훈련되지만, 전체 테스트세트를 사용하여 평가됩니다.\n",
    "history = autoencoder.fit(normal_train_data, normal_train_data, \n",
    "          epochs=100, \n",
    "          batch_size=512,\n",
    "          validation_data=(test_data, test_data),\n",
    "          shuffle=True)\n",
    "\n",
    "plt.plot(history.history[\"loss\"], label=\"Training Loss\")\n",
    "plt.plot(history.history[\"val_loss\"], label=\"Validation Loss\")\n",
    "plt.legend()"
   ]
  },
  {
   "cell_type": "code",
   "execution_count": 87,
   "metadata": {},
   "outputs": [
    {
     "data": {
      "image/png": "[encoded data removed]",
      "text/plain": [
       "<Figure size 432x288 with 1 Axes>"
      ]
     },
     "metadata": {
      "needs_background": "light"
     },
     "output_type": "display_data"
    }
   ],
   "source": [
    "# 재구성 오류가 정상 훈련 예제에서 하나의 표준 편차보다 큰 경우, ECG를 비정상으로 분류합니다.\n",
    "#  먼저, 훈련 세트의 정상 ECG, autoencoder에 의해 인코딩 및 디코딩된 후의 재구성, 재구성 오류를 플롯해 보겠습니다.\n",
    "encoded_data = autoencoder.encoder(normal_test_data).numpy()\n",
    "decoded_data = autoencoder.decoder(encoded_data).numpy()\n",
    "\n",
    "plt.plot(normal_test_data[0], 'b')\n",
    "plt.plot(decoded_data[0], 'r')\n",
    "plt.fill_between(np.arange(404853), decoded_data[0], normal_test_data[0], color='lightcoral')\n",
    "plt.legend(labels=[\"Input\", \"Reconstruction\", \"Error\"])\n",
    "plt.show()"
   ]
  },
  {
   "cell_type": "code",
   "execution_count": 88,
   "metadata": {},
   "outputs": [
    {
     "data": {
      "image/png": "[encoded data removed]",
      "text/plain": [
       "<Figure size 432x288 with 1 Axes>"
      ]
     },
     "metadata": {
      "needs_background": "light"
     },
     "output_type": "display_data"
    }
   ],
   "source": [
    "# 이번에는 비정상적인 테스트 예제에서 비슷한 플롯을 만듭니다.\n",
    "encoded_data = autoencoder.encoder(normal_test_nok).numpy()\n",
    "decoded_data = autoencoder.decoder(encoded_data).numpy()\n",
    "\n",
    "plt.plot(normal_test_nok[0], 'b')\n",
    "plt.plot(decoded_data[0], 'r')\n",
    "plt.fill_between(np.arange(404853), decoded_data[0], normal_test_nok[0], color='lightcoral')\n",
    "plt.legend(labels=[\"Input\", \"Reconstruction\", \"Error\"])\n",
    "plt.show()"
   ]
  },
  {
   "cell_type": "code",
   "execution_count": 89,
   "metadata": {},
   "outputs": [],
   "source": [
    "# 이상 감지하기\n",
    "# 재구성 손실이 고정 임계값보다 큰지 여부를 계산하여 이상을 감지합니다.\n",
    "#  이 튜토리얼에서는 훈련 세트에서 정상 예제에 대한 평균 오차를 계산한 다음,\n",
    "#  재구성 오류가 훈련 세트의 표준 편차보다 큰 경우 향후 예제를 비정상적인 것으로 분류합니다."
   ]
  },
  {
   "cell_type": "code",
   "execution_count": 90,
   "metadata": {},
   "outputs": [],
   "source": [
    "# 훈련 세트에서 정상 ECG에 대한 재구성 오류를 플롯합니다.\n",
    "\n",
    "reconstructions = autoencoder.predict(normal_train_data)\n",
    "train_loss = tf.keras.losses.mae(reconstructions, normal_train_data)"
   ]
  },
  {
   "cell_type": "code",
   "execution_count": 91,
   "metadata": {},
   "outputs": [
    {
     "name": "stdout",
     "output_type": "stream",
     "text": [
      "<class 'tensorflow.python.framework.ops.EagerTensor'>\n",
      "(34,)\n",
      "<class 'tensorflow.python.framework.ops.EagerTensor'>\n",
      "(1, 34)\n"
     ]
    }
   ],
   "source": [
    "# 히스토그램 (Histogram)은 도수분포표를 그래프로 나타낸 것으로서, 가로축은 계급, 세로축은 도수 (횟수나 개수 등)를 나타냅니다.\n",
    "# hist() 함수의 bins 파라미터는 히스토그램의 가로축 구간의 개수를 지정합니다\n",
    "\n",
    "print(type(train_loss))\n",
    "# <class 'tensorflow.python.framework.ops.EagerTensor'>\n",
    "print(train_loss.shape)\n",
    "(2359,)\n",
    "\n",
    "print(type(train_loss[None,:]))\n",
    "# <class 'tensorflow.python.framework.ops.EagerTensor'>\n",
    "print(train_loss[None,:].shape)\n",
    "# (1, 2359)"
   ]
  },
  {
   "cell_type": "code",
   "execution_count": 92,
   "metadata": {},
   "outputs": [
    {
     "name": "stdout",
     "output_type": "stream",
     "text": [
      "train_loss mean:  0.020021245\n",
      "train_loss std:  0.00251803\n"
     ]
    }
   ],
   "source": [
    "print(\"train_loss mean: \", np.mean(train_loss))\n",
    "print(\"train_loss std: \", np.std(train_loss))"
   ]
  },
  {
   "cell_type": "code",
   "execution_count": 93,
   "metadata": {},
   "outputs": [
    {
     "data": {
      "image/png": "[encoded data removed]",
      "text/plain": [
       "<Figure size 432x288 with 1 Axes>"
      ]
     },
     "metadata": {
      "needs_background": "light"
     },
     "output_type": "display_data"
    }
   ],
   "source": [
    "plt.hist(train_loss[None,:], bins=40)\n",
    "plt.xlabel(\"Train loss\")\n",
    "plt.ylabel(\"No of examples\")\n",
    "plt.show()"
   ]
  },
  {
   "cell_type": "code",
   "execution_count": 94,
   "metadata": {},
   "outputs": [
    {
     "name": "stdout",
     "output_type": "stream",
     "text": [
      "Threshold:  0.022539275\n"
     ]
    }
   ],
   "source": [
    "# 평균보다 표준 편차가 높은 임계값을 선택합니다.\n",
    "threshold = np.mean(train_loss) + np.std(train_loss)\n",
    "print(\"Threshold: \", threshold)"
   ]
  },
  {
   "cell_type": "code",
   "execution_count": 95,
   "metadata": {},
   "outputs": [],
   "source": [
    "# 참고: 테스트 예제를 이상 항목으로 분류하는 임계값을 선택하는 데 사용할 수 있는 다른 전략이 있습니다.\n",
    "#  올바른 접근 방식은 데이터세트에 따라 다릅니다.\n",
    "#  이 튜토리얼의 끝에 있는 링크를 통해 더 많은 것을 배울 수 있습니다."
   ]
  },
  {
   "cell_type": "code",
   "execution_count": 96,
   "metadata": {},
   "outputs": [
    {
     "data": {
      "image/png": "[encoded data removed]",
      "text/plain": [
       "<Figure size 432x288 with 1 Axes>"
      ]
     },
     "metadata": {
      "needs_background": "light"
     },
     "output_type": "display_data"
    }
   ],
   "source": [
    "# 테스트 세트에서 비정상적인 예제에 대한 재구성 오류를 조사하면 대부분 임계값보다 더 큰 재구성 오류가 있음을 알 수 있습니다.\n",
    "#  임계값을 변경하여 분류자의 정밀도와 재현율을 조정할 수 있습니다.\n",
    "reconstructions = autoencoder.predict(normal_test_nok)\n",
    "test_loss = tf.keras.losses.mae(reconstructions, normal_test_nok)\n",
    "\n",
    "plt.hist(test_loss[None, :], bins=50)\n",
    "plt.xlabel(\"Test loss\")\n",
    "plt.ylabel(\"No of examples\")\n",
    "plt.show()"
   ]
  },
  {
   "cell_type": "code",
   "execution_count": 97,
   "metadata": {},
   "outputs": [
    {
     "name": "stdout",
     "output_type": "stream",
     "text": [
      "Accuracy = 1.0\n",
      "Precision = 1.0\n",
      "Recall = 1.0\n"
     ]
    }
   ],
   "source": [
    "# 재구성 오류가 임계값보다 큰 경우 ECG를 이상으로 분류합니다.\n",
    "def predict(model, data, threshold):\n",
    "  reconstructions = model(data)\n",
    "  loss = tf.keras.losses.mae(reconstructions, data)\n",
    "  return tf.math.less(loss, threshold)\n",
    "\n",
    "def print_stats(predictions, labels):\n",
    "  print(\"Accuracy = {}\".format(accuracy_score(labels, predictions)))\n",
    "  print(\"Precision = {}\".format(precision_score(labels, predictions)))\n",
    "  print(\"Recall = {}\".format(recall_score(labels, predictions)))\n",
    "\n",
    "preds = predict(autoencoder, test_data, threshold)\n",
    "print_stats(preds, test_labels)"
   ]
  }
 ],
 "metadata": {
  "interpreter": {
   "hash": "d53f8d3696fa07b63b30438e5eb8438fa75e4f2f54aedbe0dcd668d7dbe88084"
  },
  "kernelspec": {
   "display_name": "Python 3.9.7 ('ae2')",
   "language": "python",
   "name": "python3"
  },
  "language_info": {
   "codemirror_mode": {
    "name": "ipython",
    "version": 3
   },
   "file_extension": ".py",
   "mimetype": "text/x-python",
   "name": "python",
   "nbconvert_exporter": "python",
   "pygments_lexer": "ipython3",
   "version": "3.9.7"
  },
  "orig_nbformat": 4
 },
 "nbformat": 4,
 "nbformat_minor": 2
}
