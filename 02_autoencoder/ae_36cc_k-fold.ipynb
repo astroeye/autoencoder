{
 "cells": [
  {
   "cell_type": "code",
   "execution_count": 1,
   "metadata": {},
   "outputs": [],
   "source": [
    "########################################################################\n",
    "# import default python-library\n",
    "########################################################################\n",
    "import pickle\n",
    "import os\n",
    "import sys\n",
    "import glob\n",
    "########################################################################\n",
    "\n",
    "\n",
    "########################################################################\n",
    "# import additional python-library\n",
    "########################################################################\n",
    "import numpy as np\n",
    "import librosa\n",
    "import librosa.core\n",
    "import librosa.display\n",
    "import librosa.feature\n",
    "import yaml\n",
    "import logging\n",
    "# from import\n",
    "from tqdm import tqdm\n",
    "from sklearn import metrics\n",
    "from keras.models import Model\n",
    "from keras.layers import Input, Dense\n",
    "########################################################################"
   ]
  },
  {
   "cell_type": "code",
   "execution_count": 2,
   "metadata": {},
   "outputs": [
    {
     "name": "stdout",
     "output_type": "stream",
     "text": [
      "c:\\workspace\\autoencoder\\02_autoencoder\n"
     ]
    }
   ],
   "source": [
    "# 현재 스크립트 실행 경로 출력\n",
    "print(os.getcwd())\n",
    "# c:\\workspace\\autoencoder\\02_autoencoder"
   ]
  },
  {
   "cell_type": "code",
   "execution_count": 3,
   "metadata": {},
   "outputs": [],
   "source": [
    "# 스크립트 실행 경로 변경\n",
    "# c:\\workspace\\autoencoder\\02_autoencoder 으로 변경\n",
    "os.chdir('c:/workspace/autoencoder/02_autoencoder')"
   ]
  },
  {
   "cell_type": "code",
   "execution_count": 4,
   "metadata": {},
   "outputs": [
    {
     "name": "stdout",
     "output_type": "stream",
     "text": [
      "c:\\workspace\\autoencoder\\02_autoencoder\n"
     ]
    }
   ],
   "source": [
    "# 현재 스크립트 실행 경로 출력\n",
    "print(os.getcwd())"
   ]
  },
  {
   "cell_type": "code",
   "execution_count": 5,
   "metadata": {},
   "outputs": [],
   "source": [
    "########################################################################\n",
    "\n",
    "# wav file Input\n",
    "def file_load(wav_name, mono=False):\n",
    "    \"\"\"\n",
    "    load .wav file.\n",
    "\n",
    "    wav_name : str\n",
    "        target .wav file\n",
    "    sampling_rate : int\n",
    "        audio file sampling_rate\n",
    "    mono : boolean\n",
    "        When load a multi channels file and this param True, the returned data will be merged for mono data\n",
    "\n",
    "    return : numpy.array( float )\n",
    "    \"\"\"\n",
    "    try:\n",
    "        return librosa.load(wav_name, sr=None, mono=mono)\n",
    "    except:\n",
    "        logger.error(\"file_broken or not exists!! : {}\".format(wav_name))\n",
    "\n",
    "\n",
    "def demux_wav(wav_name, channel=0):\n",
    "    \"\"\"\n",
    "    demux .wav file.\n",
    "\n",
    "    wav_name : str\n",
    "        target .wav file\n",
    "    channel : int\n",
    "        target channel number\n",
    "\n",
    "    return : numpy.array( float )\n",
    "        demuxed mono data\n",
    "\n",
    "    Enabled to read multiple sampling rates.\n",
    "\n",
    "    Enabled even one channel.\n",
    "    \"\"\"\n",
    "    try:\n",
    "        multi_channel_data, sr = file_load(wav_name)\n",
    "        if multi_channel_data.ndim <= 1:\n",
    "            return sr, multi_channel_data\n",
    "\n",
    "        return sr, np.array(multi_channel_data)[channel, :]\n",
    "\n",
    "    except ValueError as msg:\n",
    "        logger.warning(f'{msg}')\n",
    "\n",
    "\n",
    "########################################################################"
   ]
  },
  {
   "cell_type": "code",
   "execution_count": 6,
   "metadata": {},
   "outputs": [],
   "source": [
    "import matplotlib.pyplot as plt\n",
    "\n",
    "# spectrograms 변환 함수 만들기\n",
    "# 참고: https://librosa.org/doc/main/generated/librosa.feature.melspectrogram.html\n",
    "def make_iamge(SOURCE,\n",
    "               TARGET,\n",
    "               n_mels=128,\n",
    "               frames=5,\n",
    "               n_fft=1024,\n",
    "               hop_length=512,\n",
    "               power=2.0):\n",
    "\n",
    "    # 01 calculate the number of dimensions\n",
    "    dims = n_mels * frames\n",
    "\n",
    "    # 02 generate melspectrogram using librosa (**kwargs == param[\"librosa\"])\n",
    "    sr, y = demux_wav(SOURCE)\n",
    "\n",
    "    # file = SOURCE\n",
    "    # y, sr = librosa.load(file) # (default  sr=22050)\n",
    "    # Return\n",
    "      # y: np.ndarray [shape=(n,) or (…, n)] / audio time series. Multi-channel is supported.\n",
    "      # sr: number > 0 [scalar / sampling rate of\n",
    "    # S = librosa.feature.melspectrogram(y=y, sr=sr, n_mels=128)\n",
    "    mel_spectrogram = librosa.feature.melspectrogram(y=y,\n",
    "                                                     sr=sr,\n",
    "                                                     n_fft=n_fft,\n",
    "                                                     hop_length=hop_length,\n",
    "                                                     n_mels=n_mels,\n",
    "                                                     power=power)\n",
    "\n",
    "    # Returns\n",
    "      # S: np.ndarray [shape=(…, n_mels, t)] / Mel spectrogram\n",
    "    S_dB = librosa.power_to_db(mel_spectrogram, ref=np.max)\n",
    "    if TARGET == '':\n",
    "      plt.figure(figsize=(12, 4))\n",
    "      librosa.display.specshow(S_dB, sr=sr, x_axis='time', y_axis='mel')\n",
    "      plt.title('mel power spectrogram')\n",
    "      plt.colorbar(format='%+02.0f dB')\n",
    "      plt.tight_layout()\n",
    "      plt.show()\n",
    "    else:\n",
    "      fig = plt.figure(figsize=(15, 15))\n",
    "      plt.axis('off')\n",
    "      librosa.display.specshow(S_dB, sr=sr)\n",
    "      plt.savefig(TARGET, bbox_inches='tight', pad_inches=0)\n",
    "      plt.close(fig)  "
   ]
  },
  {
   "cell_type": "code",
   "execution_count": 7,
   "metadata": {},
   "outputs": [],
   "source": [
    "import matplotlib.pyplot as plt\n",
    "\n",
    "# spectrograms 변환 함수 만들기\n",
    "# 참고: https://librosa.org/doc/main/generated/librosa.feature.melspectrogram.html\n",
    "def make_iamge2(SOURCE, TARGET, FIG_SIZE):\n",
    "\n",
    "    # 01 calculate the number of dimensions\n",
    "    #dims = n_mels * frames\n",
    "\n",
    "    # 02 generate melspectrogram using librosa (**kwargs == param[\"librosa\"])\n",
    "    sr, y = demux_wav(SOURCE)\n",
    "\n",
    "    # STFT -> spectrogram\n",
    "    hop_length = 512  # in num. of samples\n",
    "    n_fft = 2048  # window in num. of samples\n",
    "\n",
    "    # perform stft\n",
    "    stft = librosa.stft(y, n_fft=n_fft, hop_length=hop_length)\n",
    "\n",
    "    # calculate abs values on complex numbers to get magnitude\n",
    "    spectrogram = np.abs(stft)  # np.abs(stft) ** 2\n",
    "\n",
    "    # apply logarithm to cast amplitude to Decibels\n",
    "    log_spectrogram = librosa.amplitude_to_db(spectrogram)\n",
    "\n",
    "    if TARGET == '':\n",
    "      plt.figure(figsize=(12, 4))\n",
    "      librosa.display.specshow(log_spectrogram, sr=sr, x_axis='time', y_axis='mel')\n",
    "      plt.title('mel power spectrogram')\n",
    "      plt.colorbar(format='%+02.0f dB')\n",
    "      plt.tight_layout()\n",
    "      plt.show()\n",
    "    else:\n",
    "      fig = plt.figure(figsize=FIG_SIZE)\n",
    "      plt.axis('off')\n",
    "      librosa.display.specshow(log_spectrogram, sr=sr, hop_length=hop_length)\n",
    "      plt.savefig(TARGET, bbox_inches='tight', pad_inches=0)\n",
    "      plt.close(fig)  "
   ]
  },
  {
   "cell_type": "code",
   "execution_count": 8,
   "metadata": {},
   "outputs": [],
   "source": [
    "# https://wfdb.readthedocs.io/en/latest/\n",
    "# The native Python waveform-database (WFDB) package\n",
    "# A library of tools for reading, writing, and processing WFDB signals and annotations.\n",
    "import wfdb"
   ]
  },
  {
   "cell_type": "code",
   "execution_count": 9,
   "metadata": {},
   "outputs": [],
   "source": [
    "# import PIL\n",
    "# import PIL.Image\n",
    "# import tensorflow as tf\n",
    "# import tensorflow_datasets as tfds\n",
    "\n",
    "# 이미지 로드 및 전처리\n",
    "# 참고: https://www.tensorflow.org/tutorials/load_data/images?hl=ko\n",
    "#       Tensorflow공식 튜토리얼: 이미지 로드 및 전처리하기 \n",
    "import numpy as np\n",
    "import os\n",
    "import PIL\n",
    "import PIL.Image\n",
    "import tensorflow as tf\n",
    "# import tensorflow_datasets as tfds"
   ]
  },
  {
   "cell_type": "code",
   "execution_count": 10,
   "metadata": {},
   "outputs": [
    {
     "name": "stdout",
     "output_type": "stream",
     "text": [
      "2.8.0\n"
     ]
    }
   ],
   "source": [
    "print(tf.__version__)"
   ]
  },
  {
   "cell_type": "code",
   "execution_count": 11,
   "metadata": {},
   "outputs": [
    {
     "name": "stdout",
     "output_type": "stream",
     "text": [
      "<class 'pathlib.WindowsPath'>\n",
      "dataset\\36cc_out\n"
     ]
    }
   ],
   "source": [
    "# 데이터세트 형식으로 만들기\n",
    "import pathlib\n",
    "\n",
    "# data_dir = pathlib.Path('./content/data/out')\n",
    "data_dir = pathlib.Path('./dataset/36cc_out')\n",
    "print(type(data_dir))\n",
    "print(data_dir)"
   ]
  },
  {
   "cell_type": "code",
   "execution_count": 12,
   "metadata": {},
   "outputs": [
    {
     "name": "stdout",
     "output_type": "stream",
     "text": [
      "40\n"
     ]
    }
   ],
   "source": [
    "# image count\n",
    "# image_count = len(list(data_dir.glob('*/*.jpg')))\n",
    "image_count = len(list(data_dir.glob('*/*.jpg')))\n",
    "print(image_count)"
   ]
  },
  {
   "cell_type": "code",
   "execution_count": 13,
   "metadata": {},
   "outputs": [],
   "source": [
    "from tensorflow.python.keras.layers.core import Dropout\n",
    "from tensorflow.keras.models import Model\n",
    "from tensorflow.keras import layers, losses\n",
    "from sklearn.metrics import accuracy_score, precision_score, recall_score\n",
    "import tensorflow.keras as keras\n",
    "import tensorflow as tf\n",
    "import pandas as pd\n",
    "import numpy as np\n",
    "import matplotlib.pyplot as plt\n",
    "import cv2\n",
    "import os\n",
    "import pathlib\n",
    "import librosa\n",
    "import librosa.display\n",
    "import concurrent.futures"
   ]
  },
  {
   "cell_type": "code",
   "execution_count": 14,
   "metadata": {},
   "outputs": [],
   "source": [
    "'''\n",
    "2. Load training images  \n",
    "'''\n",
    "# resize and normalize data for training\n",
    "\n",
    "\n",
    "def create_training_data(data_path, size=224):\n",
    "    training_data = []\n",
    "    # for category in CATEGORIES:  # \"baseline\" and \"rattle\"\n",
    "\n",
    "    #     path = os.path.join(data_path, category)  # create path\n",
    "    #     # get the classification  (0 or a 1). 0=baseline 1=rattle\n",
    "    #     class_index = CATEGORIES.index(category)\n",
    "\n",
    "    # iterate over each image\n",
    "    for image in os.listdir(data_path):\n",
    "        # check file extention\n",
    "        if image.endswith(\".jpg\"):\n",
    "            try:\n",
    "                data_path = pathlib.Path(data_path)\n",
    "                full_name = str(pathlib.Path.joinpath(data_path, image))\n",
    "                data = cv2.imread(str(full_name), 0)\n",
    "                # resize to make sure data consistency\n",
    "                resized_data = cv2.resize(data, (size, size))\n",
    "                # add this to our training_data\n",
    "                training_data.append([resized_data])\n",
    "            except Exception as err:\n",
    "                print(\"an error has occured: \", err, str(full_name))\n",
    "\n",
    "    # normalize data\n",
    "    training_data = np.array(training_data)/255.\n",
    "    # reshape\n",
    "    training_data = np.array(training_data).reshape(-1, size, size)\n",
    "    return training_data"
   ]
  },
  {
   "cell_type": "code",
   "execution_count": 15,
   "metadata": {},
   "outputs": [],
   "source": [
    "'''\n",
    "3. Build autoencoder \n",
    "'''\n",
    "# Define a convolutional Autoencoder\n",
    "\n",
    "\n",
    "class Autoencoder(Model):\n",
    "    def __init__(self, latent_dim):\n",
    "        super(Autoencoder, self).__init__()\n",
    "        # input layer\n",
    "        self.latent_dim = latent_dim\n",
    "        # 1st dense layer\n",
    "        self.encoder = tf.keras.Sequential([\n",
    "            layers.Flatten(),\n",
    "            layers.Dense(256, activation='relu'),\n",
    "            layers.Dense(256, activation='relu'),\n",
    "            layers.Dense(128, activation='relu'),\n",
    "\n",
    "        ])\n",
    "        self.decoder = tf.keras.Sequential([\n",
    "            layers.Dense(256, activation='relu'),\n",
    "            layers.Dense(256, activation='relu'),\n",
    "            layers.Dense(224*224, activation='sigmoid'),\n",
    "            layers.Reshape((224, 224))\n",
    "        ])\n",
    "\n",
    "    def call(self, x):\n",
    "        encoded = self.encoder(x)\n",
    "        decoded = self.decoder(encoded)\n",
    "        return decoded"
   ]
  },
  {
   "cell_type": "code",
   "execution_count": 16,
   "metadata": {},
   "outputs": [],
   "source": [
    "'''\n",
    "4. Set threshold\n",
    "'''\n",
    "\n",
    "\n",
    "def model_threshold(autoencoder, x_train):\n",
    "    encoded_imgs = autoencoder.encoder(x_train).numpy()\n",
    "    decoded_imgs = autoencoder.decoder(encoded_imgs).numpy()\n",
    "    loss = tf.keras.losses.mse(decoded_imgs, x_train)\n",
    "    mean = np.mean(loss)\n",
    "    std = np.std(loss)\n",
    "    threshold = np.mean(loss) + np.std(loss)\n",
    "    return loss, mean, std, threshold"
   ]
  },
  {
   "cell_type": "code",
   "execution_count": 17,
   "metadata": {},
   "outputs": [],
   "source": [
    "'''\n",
    "5. Make an inference\n",
    "'''\n",
    "\n",
    "\n",
    "def spectrogram_loss(autoencoder, spectrogram, size=224):\n",
    "    data = np.ndarray(shape=(1, size, size), dtype=np.float32)\n",
    "    # individual sample\n",
    "    # Load an image from a file\n",
    "    data = cv2.imread(str(spectrogram), 0)\n",
    "    # resize to make sure data consistency\n",
    "    resized_data = cv2.resize(data, (size, size))\n",
    "    # nomalize img\n",
    "    normalized_data = resized_data.astype('float32') / 255.\n",
    "    # test an image\n",
    "    encoded = autoencoder.encoder(normalized_data.reshape(-1, size, size))\n",
    "    decoded = autoencoder.decoder(encoded)\n",
    "    loss = tf.keras.losses.mse(decoded, normalized_data)\n",
    "    sample_loss = np.mean(loss) + np.std(loss)\n",
    "    return sample_loss"
   ]
  },
  {
   "cell_type": "code",
   "execution_count": 18,
   "metadata": {},
   "outputs": [],
   "source": [
    "'''\n",
    "2. Load training images\n",
    "'''\n",
    "data_path = \"./dataset/36cc_out/normal\"\n",
    "x_train = create_training_data(data_path)\n",
    "\n",
    "data_path = \"./dataset/36cc_out/normal_test\"\n",
    "x_test_normal = create_training_data(data_path)\n",
    "\n",
    "data_path = \"./dataset/36cc_out/abnormal\"\n",
    "x_test_abnormal = create_training_data(data_path)"
   ]
  },
  {
   "cell_type": "code",
   "execution_count": 19,
   "metadata": {},
   "outputs": [],
   "source": [
    "# '''\n",
    "# K-fold validation\n",
    "# '''\n",
    "# X = x_train\n",
    "# y = x_train\n",
    "\n",
    "# k = 4\n",
    "# num_val_samples = len(X) // k\n",
    "\n",
    "# num_epochs = 100\n",
    "# all_scores = []\n",
    "\n",
    "# for i in range(k):\n",
    "#     print(f\"Processing fold #{i}\")\n",
    "#     val_data = X[i * num_val_samples: (i + 1) * num_val_samples]\n",
    "#     val_targets = y[i * num_val_samples: (i + 1) * num_val_samples]\n",
    "#     # i = 0 ==> val_data = X[0:9], val_targets = y[0:9]        \n",
    "#     # i = 1 ==> val_data = X[9:18], val_targets = y[9:18]     \n",
    "#     # i = 2 ==> val_data = X[18:27], val_targets = y[18:27]     \n",
    "#     # i = 3 ==> val_data = X[27:36], val_targets = y[27:36]\n",
    "#     partial_train_data = np.concatenate(\n",
    "#         [X[:i * num_val_samples],\n",
    "#             X[(i + 1) * num_val_samples:]],\n",
    "#         axis=0)\n",
    "#     partial_train_targets = np.concatenate(\n",
    "#         [y[:i * num_val_samples],\n",
    "#             y[(i + 1) * num_val_samples:]],\n",
    "#         axis=0)\n",
    "#     # i = 0 ==> partial_training_data = [X[:0],X[9:]], partial_train_targets = [y[:0],y[9:]]\n",
    "#     # i = 1 ==> partial_training_data = [X[:9],X[18:]], partial_train_targets = [y[:9],y[18:]]\n",
    "#     # i = 2 ==> partial_training_data = [X[:18],X[27:]], partial_train_targets = [y[:18],y[27:]]\n",
    "#     # i = 3 ==> partial_training_data = [X[:27],X[36:]], partial_train_targets = [y[:27],y[36:]]\n",
    "#     autoencoder = Autoencoder(latent_dim=64 * 4)\n",
    "#     autoencoder.compile(optimizer='adam', loss=losses.MeanSquaredError(), metrics=[\"mae\"])\n",
    "#     hist = autoencoder.fit(partial_train_data, partial_train_targets,\n",
    "#                             validation_data=(val_data, val_targets),\n",
    "#                             epochs=num_epochs, batch_size=16, verbose=0)\n",
    "#     val_mse, val_mae = autoencoder.evaluate(\n",
    "#         val_data, val_targets, verbose=0)\n",
    "#     all_scores.append(val_mae)\n"
   ]
  },
  {
   "cell_type": "code",
   "execution_count": 20,
   "metadata": {},
   "outputs": [],
   "source": [
    "# # Evaluate all_scores\n",
    "# all_scores"
   ]
  },
  {
   "cell_type": "code",
   "execution_count": 21,
   "metadata": {},
   "outputs": [],
   "source": [
    "# np.mean(all_scores)"
   ]
  },
  {
   "cell_type": "code",
   "execution_count": 22,
   "metadata": {},
   "outputs": [
    {
     "name": "stdout",
     "output_type": "stream",
     "text": [
      "./dataset/36cc_out/abnormal\n",
      "Processing fold #0\n",
      "============================\n",
      "k_train_ds_loss average:  0.0013288461373215528\n",
      "k_train_ds_Standard deviation:  0.0004956439971272272\n",
      "============================\n",
      "k_val_ds_loss average:  0.005862466055570253\n",
      "k_val_ds_Standard deviation:  0.01156783641862292\n",
      "============================\n",
      "k_test_normal_loss average:  0.0015405297312122478\n",
      "0.0015534180422366944 0.0015276414201878014\n",
      "============================\n",
      "k_test_abnormal_loss average:  0.004445381717058182\n",
      "0.003523493664199558 0.005367269769916806\n"
     ]
    },
    {
     "data": {
      "image/png": "[encoded data removed]",
      "text/plain": [
       "<Figure size 432x288 with 1 Axes>"
      ]
     },
     "metadata": {
      "needs_background": "light"
     },
     "output_type": "display_data"
    },
    {
     "name": "stdout",
     "output_type": "stream",
     "text": [
      "Processing fold #1\n",
      "============================\n",
      "k_train_ds_loss average:  0.0012474498314317824\n",
      "k_train_ds_Standard deviation:  0.000534865352654262\n",
      "============================\n",
      "k_val_ds_loss average:  0.0016454094926862254\n",
      "k_val_ds_Standard deviation:  0.0005412497536918783\n",
      "============================\n",
      "k_test_normal_loss average:  0.0015653810572202737\n",
      "0.00158489295339737 0.0015458691610431773\n",
      "============================\n",
      "k_test_abnormal_loss average:  0.00488206499320456\n",
      "0.0034866234799227048 0.006277506506486415\n"
     ]
    },
    {
     "data": {
      "image/png": "[encoded data removed]",
      "text/plain": [
       "<Figure size 432x288 with 1 Axes>"
      ]
     },
     "metadata": {
      "needs_background": "light"
     },
     "output_type": "display_data"
    },
    {
     "name": "stdout",
     "output_type": "stream",
     "text": [
      "Processing fold #2\n",
      "============================\n",
      "k_train_ds_loss average:  0.0012494196864258648\n",
      "k_train_ds_Standard deviation:  0.0005359131933764338\n",
      "============================\n",
      "k_val_ds_loss average:  0.0016667312274254486\n",
      "k_val_ds_Standard deviation:  0.0006326095545521245\n",
      "============================\n",
      "k_test_normal_loss average:  0.0014810088559469615\n",
      "0.0014638903668592537 0.0014981273450346694\n",
      "============================\n",
      "k_test_abnormal_loss average:  0.005201850447997377\n",
      "0.0035377565104879 0.0068659443855068536\n"
     ]
    },
    {
     "data": {
      "image/png": "[encoded data removed]",
      "text/plain": [
       "<Figure size 432x288 with 1 Axes>"
      ]
     },
     "metadata": {
      "needs_background": "light"
     },
     "output_type": "display_data"
    },
    {
     "name": "stdout",
     "output_type": "stream",
     "text": [
      "Processing fold #3\n",
      "============================\n",
      "k_train_ds_loss average:  0.0012600249353669532\n",
      "k_train_ds_Standard deviation:  0.000526610648082119\n",
      "============================\n",
      "k_val_ds_loss average:  0.0017101018390634367\n",
      "k_val_ds_Standard deviation:  0.0007121845952864266\n",
      "============================\n",
      "k_test_normal_loss average:  0.001501050636335054\n",
      "0.0014932595481624666 0.001508841724507641\n",
      "============================\n",
      "k_test_abnormal_loss average:  0.004943310642095169\n",
      "0.0035004629597456516 0.006386158324444685\n"
     ]
    },
    {
     "data": {
      "image/png": "[encoded data removed]",
      "text/plain": [
       "<Figure size 432x288 with 1 Axes>"
      ]
     },
     "metadata": {
      "needs_background": "light"
     },
     "output_type": "display_data"
    }
   ],
   "source": [
    "'''\n",
    "K-fold validation\n",
    "'''\n",
    "print(data_path)\n",
    "\n",
    "X = x_train\n",
    "y = x_train\n",
    "\n",
    "k = 4\n",
    "num_val_samples = len(X) // k\n",
    "\n",
    "num_epochs = 100\n",
    "all_scores = []\n",
    "\n",
    "all_k_train_ds_loss = []\n",
    "all_k_train_ds_loss_mean = []\n",
    "all_k_train_ds_std = []\n",
    "# all_k_train_ds_std_mean = []\n",
    "\n",
    "all_k_val_ds_loss = []\n",
    "all_k_val_ds_loss_mean = []\n",
    "all_k_val_ds_std = []\n",
    "# all_k_val_ds_std_mean = []\n",
    "\n",
    "all_k_test_normal_loss = []\n",
    "all_k_test_normal_loss_mean = []\n",
    "all_k_test_normal_std = []\n",
    "# all_k_test_normal_std_mean = []\n",
    "\n",
    "all_k_test_abnormal_loss = []\n",
    "all_k_test_abnormal_loss_mean = []\n",
    "all_k_test_abnormal_std = []\n",
    "# all_k_test_abnormal_std_mean = []\n",
    "\n",
    "all_mse_histories = []\n",
    "all_val_mse_histories = []\n",
    "all_mae_histories = []\n",
    "all_std_histories =[]\n",
    "for i in range(k):\n",
    "    print(f\"Processing fold #{i}\")\n",
    "    val_data = X[i * num_val_samples: (i + 1) * num_val_samples]\n",
    "    val_targets = y[i * num_val_samples: (i + 1) * num_val_samples]\n",
    "    partial_train_data = np.concatenate(\n",
    "        [X[:i * num_val_samples],\n",
    "            X[(i + 1) * num_val_samples:]],\n",
    "        axis=0)\n",
    "    partial_train_targets = np.concatenate(\n",
    "        [y[:i * num_val_samples],\n",
    "            y[(i + 1) * num_val_samples:]],\n",
    "        axis=0)\n",
    "    autoencoder = Autoencoder(latent_dim = 64)\n",
    "    autoencoder.compile(optimizer='adam', loss=losses.MeanSquaredError())\n",
    "    history = autoencoder.fit(partial_train_data, partial_train_data,\n",
    "\t\t\t\t\t\t#shuffle=True,\n",
    "                        validation_data=(val_data, val_data),\n",
    "                        epochs=num_epochs, batch_size=16, verbose=0)\n",
    "    #mae_history = history.history[\"val_mae\"]\n",
    "    #all_mae_histories.append(mae_history)\n",
    "    # Fold별 그래프 표시하기 위해 추가함\n",
    "    # plt.plot(range(1, len(mae_history) + 1), mae_history)\n",
    "    # plt.xlabel(\"Epochs\")\n",
    "    # plt.ylabel(\"Validation MAE\")\n",
    "    # #plt.ylim([0, 0.30])\n",
    "    # plt.show()\n",
    "\n",
    "    # '''\n",
    "    # 4. Set threshold\n",
    "    # '''\n",
    "\n",
    "\n",
    "    # def model_threshold(autoencoder, x_train):\n",
    "    #     encoded_imgs = autoencoder.encoder(x_train).numpy()\n",
    "    #     decoded_imgs = autoencoder.decoder(encoded_imgs).numpy()\n",
    "    #     loss = tf.keras.losses.mse(decoded_imgs, x_train)\n",
    "    #     mean = np.mean(loss)\n",
    "    #     std = np.std(loss)\n",
    "    #     threshold = np.mean(loss) + np.std(loss)\n",
    "    #     return loss, mean, std, threshold\n",
    "        \n",
    "    # k train dataset loss and std\n",
    "    print(\"============================\")\n",
    "    k_loss, k_mean, k_std, k_threshold = model_threshold(autoencoder, partial_train_data)    \n",
    "    all_k_train_ds_loss.append(k_loss)               # k 번째 train dataset의 loss, shape = (27,224) => 쌓기\n",
    "    all_k_train_ds_loss_mean.append(k_mean)          # k 번째 train dataset의 loss의평균, 단일 값 => 쌓기\n",
    "    all_k_train_ds_std.append(k_std)                 # k 번째 train dataset의 loss의 Standard deviation , 단일 값 쌓기\n",
    "    # all_k_train_ds_std_mean.append(np.mean(k_std)) # k 번째 train dataset의 loss의 standard deviation 쌓기\n",
    "    print(\"k_train_ds_loss average: \", k_mean)       # k 번째 train dataset의 loss의 평균 => 단일 값\n",
    "    print(\"k_train_ds_Standard deviation: \", k_std)  # k 번째 train dataset의 loss의 Standard deviation => 단일 값\n",
    "   \n",
    "    # k val datas loss std\n",
    "    print(\"============================\")\n",
    "    k_loss, k_mean, k_std, k_threshold = model_threshold(autoencoder, val_data)    \n",
    "    all_k_val_ds_loss.append(k_loss)               # k 번째 train dataset의 loss, shape = (27,224) => 쌓기\n",
    "    all_k_val_ds_loss_mean.append(k_mean)          # k 번째 train dataset의 loss의평균, 단일 값 => 쌓기\n",
    "    all_k_val_ds_std.append(k_std)                 # k 번째 train dataset의 loss의 Standard deviation , 단일 값 쌓기\n",
    "    # all_k_val_ds_std_mean.append(np.mean(k_std)) # k 번째 train dataset의 loss의 standard deviation 쌓기\n",
    "    print(\"k_val_ds_loss average: \", k_mean)       # k 번째 train dataset의 loss의 평균 => 단일 값\n",
    "    print(\"k_val_ds_Standard deviation: \", k_std)  # k 번째 train dataset의 loss의 Standard deviation => 단일 값\n",
    "    \n",
    "    # k val datas loss std\n",
    "    print(\"============================\")\n",
    "    k_loss, k_mean, k_std, k_threshold = model_threshold(autoencoder, x_test_normal)    \n",
    "    all_k_test_normal_loss.append(k_loss)               # k 번째 train dataset의 loss, shape = (27,224) => 쌓기\n",
    "    all_k_test_normal_loss_mean.append(k_mean)          # k 번째 train dataset의 loss의평균, 단일 값 => 쌓기\n",
    "    all_k_test_normal_std.append(k_std)                 # k 번째 train dataset의 loss의 Standard deviation , 단일 값 쌓기\n",
    "    # all_k_test_normal_std_mean.append(np.mean(k_std)) # k 번째 train dataset의 loss의 standard deviation 쌓기\n",
    "    print(\"k_test_normal_loss average: \", k_mean)       # k 번째 train dataset의 loss의 평균 => 단일 값\n",
    "    # print(\"k_test_normal_Standard deviation: \", k_std)  # k 번째 train dataset의 loss의 Standard deviation => 단일 값\n",
    "    # print(\"each image loss\")\n",
    "    print(np.mean(k_loss[0]), np.mean(k_loss[1]))\n",
    "    \n",
    "    # k val datas loss std\n",
    "    print(\"============================\")\n",
    "    k_loss, k_mean, k_std, k_threshold = model_threshold(autoencoder, x_test_abnormal)\n",
    "    all_k_test_abnormal_loss.append(k_loss)               # k 번째 train dataset의 loss, shape = (27,224) => 쌓기\n",
    "    all_k_test_abnormal_loss_mean.append(k_mean)          # k 번째 train dataset의 loss의평균, 단일 값 => 쌓기\n",
    "    all_k_test_abnormal_std.append(k_std)                 # k 번째 train dataset의 loss의 Standard deviation , 단일 값 쌓기\n",
    "    # all_k_test_abnormal_std_mean.append(np.mean(k_std)) # k 번째 train dataset의 loss의 standard deviation 쌓기\n",
    "    print(\"k_test_abnormal_loss average: \", k_mean)       # k 번째 train dataset의 loss의 평균 => 단일 값\n",
    "    # print(\"k_test_abnormal_Standard deviation: \", k_std)  # k 번째 train dataset의 loss의 Standard deviation => 단일 값\n",
    "    # print(\"each image loss\")\n",
    "    print(np.mean(k_loss[0]), np.mean(k_loss[1]))\n",
    "\n",
    "    mse_history = history.history[\"loss\"]\n",
    "    all_mse_histories.append(mse_history)\n",
    "    # print(\"loss average: \", np.mean(mse_history))\n",
    "\n",
    "    all_std_histories.append(np.std(mse_history))\n",
    "    # print(\"Standard deviation: \", np.std(mse_history))\n",
    "\n",
    "    val_mse_history = history.history[\"val_loss\"]\n",
    "    all_val_mse_histories.append(val_mse_history)\n",
    "    # print(\"val_loss average: \", np.mean(val_mse_history))\n",
    "\n",
    "    plt.plot(history.history[\"loss\"], label=\"Training Loss\")\n",
    "    plt.plot(history.history[\"val_loss\"], label=\"Validation Loss\")\n",
    "    plt.legend()\n",
    "    plt.ylim([0, 0.16])\n",
    "    plt.show()\n"
   ]
  },
  {
   "cell_type": "code",
   "execution_count": 23,
   "metadata": {},
   "outputs": [
    {
     "data": {
      "text/plain": [
       "TensorShape([2, 224])"
      ]
     },
     "execution_count": 23,
     "metadata": {},
     "output_type": "execute_result"
    }
   ],
   "source": [
    "model_threshold(autoencoder, x_test_normal)[0].shape"
   ]
  },
  {
   "cell_type": "code",
   "execution_count": 24,
   "metadata": {},
   "outputs": [
    {
     "name": "stdout",
     "output_type": "stream",
     "text": [
      "all k train dataset\n",
      "all k train dataset loss average:  0.0012714351476365384\n",
      "all k train dataset Standard deviation average:  0.0005232582978100105\n",
      "all k train dataset threshold average:  0.001794693445446549\n",
      "all k val dataset\n",
      "all k val dataset loss average:  0.002721177153686341\n",
      "all k val dataset Standard deviation average:  0.0033634700805383376\n",
      "all k val dataset threshold average:  0.006084647234224678\n"
     ]
    }
   ],
   "source": [
    "#생성된 모델을 이용해 all k train dataset의 재구성 오류의 평균 및 std\n",
    "print(\"all k train dataset\")\n",
    "print(\"all k train dataset loss average: \", np.mean(all_k_train_ds_loss))\n",
    "print(\"all k train dataset Standard deviation average: \", np.mean(all_k_train_ds_std))\n",
    "print(\"all k train dataset threshold average: \", np.mean(all_k_train_ds_loss)+ np.mean(all_k_train_ds_std))\n",
    "\n",
    "#생성된 모델을 이용해 all k val dataset의 재구성 오류의 평균 및 std\n",
    "print(\"all k val dataset\")\n",
    "print(\"all k val dataset loss average: \", np.mean(all_k_val_ds_loss))\n",
    "print(\"all k val dataset Standard deviation average: \", np.mean(all_k_val_ds_std))\n",
    "print(\"all k val dataset threshold average: \", np.mean(all_k_val_ds_loss)+ np.mean(all_k_val_ds_std))\n"
   ]
  },
  {
   "cell_type": "code",
   "execution_count": 25,
   "metadata": {},
   "outputs": [],
   "source": [
    "# Building the history of successive mean K-fold validation scores\n",
    "average_mse_history = [\n",
    "    np.mean([x[i] for x in all_mse_histories]) for i in range(num_epochs)]\n",
    "average_val_mse_history = [\n",
    "    np.mean([x[i] for x in all_val_mse_histories]) for i in range(num_epochs)]    "
   ]
  },
  {
   "cell_type": "code",
   "execution_count": 26,
   "metadata": {},
   "outputs": [
    {
     "name": "stdout",
     "output_type": "stream",
     "text": [
      "0.14871983602643013\n",
      "0.0012767397856805474\n"
     ]
    }
   ],
   "source": [
    "print(max(average_mse_history))\n",
    "print(min(average_mse_history))"
   ]
  },
  {
   "cell_type": "code",
   "execution_count": 27,
   "metadata": {},
   "outputs": [
    {
     "data": {
      "image/png": "[encoded data removed]",
      "text/plain": [
       "<Figure size 432x288 with 1 Axes>"
      ]
     },
     "metadata": {
      "needs_background": "light"
     },
     "output_type": "display_data"
    }
   ],
   "source": [
    "# Plotting validation scores\n",
    "plt.plot(range(1, len(average_mse_history) + 1), average_mse_history, label=\"Training Loss\")\n",
    "plt.plot(range(1, len(average_val_mse_history) + 1), average_val_mse_history, label=\"Validation Loss\")\n",
    "plt.xlabel(\"Epochs\")\n",
    "plt.legend()\n",
    "# plt.title('(36cc_64)')\n",
    "# plt.title('(36cc_128*64*128)')\n",
    "# plt.title('(36cc_256*128*64*128*256)')\n",
    "\n",
    "# plt.title('(36cc_128*64*32*64*128)')\n",
    "plt.title('(36cc_256*256*128*256*256)')\n",
    "plt.ylim([0, 0.16])\n",
    "plt.show()"
   ]
  },
  {
   "cell_type": "code",
   "execution_count": 28,
   "metadata": {},
   "outputs": [],
   "source": [
    "all_mse_histories = []"
   ]
  },
  {
   "cell_type": "code",
   "execution_count": 29,
   "metadata": {},
   "outputs": [],
   "source": [
    "# 모델이 훈련되었으므로 테스트 세트에서 이미지를 인코딩 및 디코딩하여 테스트해 보겠습니다.\n",
    "encoded_imgs = autoencoder.encoder(x_test_abnormal).numpy()\n",
    "decoded_imgs = autoencoder.decoder(encoded_imgs).numpy()\n",
    "# x_train\n",
    "# x_test_normal\n",
    "# x_test_abnormal"
   ]
  },
  {
   "cell_type": "code",
   "execution_count": 30,
   "metadata": {},
   "outputs": [
    {
     "data": {
      "text/plain": [
       "0.0032540187"
      ]
     },
     "execution_count": 30,
     "metadata": {},
     "output_type": "execute_result"
    }
   ],
   "source": [
    "np.mean(tf.keras.losses.mse(x_test_normal[0], decoded_imgs[0]))"
   ]
  },
  {
   "cell_type": "code",
   "execution_count": 31,
   "metadata": {},
   "outputs": [
    {
     "name": "stdout",
     "output_type": "stream",
     "text": [
      "Model: \"sequential_6\"\n",
      "_________________________________________________________________\n",
      " Layer (type)                Output Shape              Param #   \n",
      "=================================================================\n",
      " flatten_3 (Flatten)         (None, 50176)             0         \n",
      "                                                                 \n",
      " dense_18 (Dense)            (None, 256)               12845312  \n",
      "                                                                 \n",
      " dense_19 (Dense)            (None, 256)               65792     \n",
      "                                                                 \n",
      " dense_20 (Dense)            (None, 128)               32896     \n",
      "                                                                 \n",
      "=================================================================\n",
      "Total params: 12,944,000\n",
      "Trainable params: 12,944,000\n",
      "Non-trainable params: 0\n",
      "_________________________________________________________________\n"
     ]
    }
   ],
   "source": [
    "autoencoder.encoder.summary()"
   ]
  },
  {
   "cell_type": "code",
   "execution_count": 32,
   "metadata": {},
   "outputs": [
    {
     "name": "stdout",
     "output_type": "stream",
     "text": [
      "Model: \"sequential_7\"\n",
      "_________________________________________________________________\n",
      " Layer (type)                Output Shape              Param #   \n",
      "=================================================================\n",
      " dense_21 (Dense)            (None, 256)               33024     \n",
      "                                                                 \n",
      " dense_22 (Dense)            (None, 256)               65792     \n",
      "                                                                 \n",
      " dense_23 (Dense)            (None, 50176)             12895232  \n",
      "                                                                 \n",
      " reshape_3 (Reshape)         (None, 224, 224)          0         \n",
      "                                                                 \n",
      "=================================================================\n",
      "Total params: 12,994,048\n",
      "Trainable params: 12,994,048\n",
      "Non-trainable params: 0\n",
      "_________________________________________________________________\n"
     ]
    }
   ],
   "source": [
    "autoencoder.decoder.summary()"
   ]
  }
 ],
 "metadata": {
  "interpreter": {
   "hash": "d53f8d3696fa07b63b30438e5eb8438fa75e4f2f54aedbe0dcd668d7dbe88084"
  },
  "kernelspec": {
   "display_name": "Python 3.9.7 ('ae2')",
   "language": "python",
   "name": "python3"
  },
  "language_info": {
   "codemirror_mode": {
    "name": "ipython",
    "version": 3
   },
   "file_extension": ".py",
   "mimetype": "text/x-python",
   "name": "python",
   "nbconvert_exporter": "python",
   "pygments_lexer": "ipython3",
   "version": "3.9.7"
  },
  "orig_nbformat": 4
 },
 "nbformat": 4,
 "nbformat_minor": 2
}
