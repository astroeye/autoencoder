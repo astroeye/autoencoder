{
 "cells": [
  {
   "cell_type": "code",
   "execution_count": 8,
   "metadata": {},
   "outputs": [],
   "source": [
    "import librosa.display\n",
    "import numpy as np\n",
    "import matplotlib.pyplot as plt"
   ]
  },
  {
   "cell_type": "code",
   "execution_count": 24,
   "metadata": {},
   "outputs": [],
   "source": [
    "SOURCE = 'rattle.wav'\n",
    "TARGET = ''"
   ]
  },
  {
   "cell_type": "code",
   "execution_count": 25,
   "metadata": {},
   "outputs": [
    {
     "name": "stdout",
     "output_type": "stream",
     "text": [
      "c:\\workspace\\autoencoder\\sogang04-tensor\n",
      "True\n"
     ]
    }
   ],
   "source": [
    "import os\n",
    "print(os.getcwd())\n",
    "print(os.path.exists(SOURCE))"
   ]
  },
  {
   "cell_type": "code",
   "execution_count": 31,
   "metadata": {},
   "outputs": [
    {
     "name": "stdout",
     "output_type": "stream",
     "text": [
      "type(y):  <class 'numpy.ndarray'>\n",
      "y.shape:  (617101,)\n",
      "type(sr):  <class 'int'>\n",
      "sr:  22050\n",
      "type(S):  <class 'numpy.ndarray'>\n",
      "S.shape:  (128, 1206)\n"
     ]
    }
   ],
   "source": [
    "file = SOURCE\n",
    "y, sr = librosa.load(file) # (default  sr=22050)\n",
    "# Return\n",
    "    # y: np.ndarray [shape=(n,) or (…, n)] / audio time series. Multi-channel is supported.\n",
    "    # sr: number > 0 [scalar / sampling rate of\n",
    "print(\"type(y): \", type(y))\n",
    "print(\"y.shape: \", y.shape)\n",
    "print(\"type(sr): \", type(sr))\n",
    "print(\"sr: \", sr)\n",
    "\n",
    "S = librosa.feature.melspectrogram(y=y, sr=sr, n_mels=128)\n",
    "# Returns\n",
    "    # S: np.ndarray [shape=(…, n_mels, t)] / Mel spectrogram\n",
    "print('type(S): ', type(S))\n",
    "print(\"S.shape: \", S.shape)"
   ]
  },
  {
   "cell_type": "code",
   "execution_count": 32,
   "metadata": {},
   "outputs": [
    {
     "name": "stdout",
     "output_type": "stream",
     "text": [
      "type(S):  <class 'numpy.ndarray'>\n",
      "S.shape:  (128, 1206)\n"
     ]
    }
   ],
   "source": [
    "S = librosa.feature.melspectrogram(y=y, sr=sr)#, n_mels=128)\n",
    "# Returns\n",
    "    # S: np.ndarray [shape=(…, n_mels, t)] / Mel spectrogram\n",
    "print('type(S): ', type(S))\n",
    "print(\"S.shape: \", S.shape)"
   ]
  },
  {
   "cell_type": "code",
   "execution_count": 33,
   "metadata": {},
   "outputs": [
    {
     "name": "stdout",
     "output_type": "stream",
     "text": [
      "type(S):  <class 'numpy.ndarray'>\n",
      "S.shape:  (256, 1206)\n"
     ]
    }
   ],
   "source": [
    "S = librosa.feature.melspectrogram(y=y, sr=sr, n_mels=256)\n",
    "# Returns\n",
    "    # S: np.ndarray [shape=(…, n_mels, t)] / Mel spectrogram\n",
    "print('type(S): ', type(S))\n",
    "print(\"S.shape: \", S.shape)"
   ]
  },
  {
   "cell_type": "code",
   "execution_count": null,
   "metadata": {},
   "outputs": [],
   "source": [
    "S_dB = librosa.power_to_db(S, ref=np.max)"
   ]
  },
  {
   "cell_type": "code",
   "execution_count": null,
   "metadata": {},
   "outputs": [],
   "source": [
    "if TARGET == '':\n",
    "    plt.figure(figsize=(12, 4))\n",
    "    librosa.display.specshow(S_dB, sr=sr, x_axis='time', y_axis='mel')\n",
    "    plt.title('mel power spectrogram')\n",
    "    plt.colorbar(format='%+02.0f dB')\n",
    "    plt.tight_layout()\n",
    "    plt.show()\n",
    "else:\n",
    "    fig = plt.figure(figsize=(15, 15))\n",
    "    plt.axis('off')\n",
    "    librosa.display.specshow(S_dB, sr=sr)\n",
    "    plt.savefig(TARGET, bbox_inches='tight', pad_inches=0)\n",
    "    plt.close(fig) \n"
   ]
  }
 ],
 "metadata": {
  "interpreter": {
   "hash": "cda25b447d24e0c552e167f4581e6082f9a8d9051bb076b8c83c8431f397ae1f"
  },
  "kernelspec": {
   "display_name": "Python 3.9.7 ('ae')",
   "language": "python",
   "name": "python3"
  },
  "language_info": {
   "codemirror_mode": {
    "name": "ipython",
    "version": 3
   },
   "file_extension": ".py",
   "mimetype": "text/x-python",
   "name": "python",
   "nbconvert_exporter": "python",
   "pygments_lexer": "ipython3",
   "version": "3.9.7"
  },
  "orig_nbformat": 4
 },
 "nbformat": 4,
 "nbformat_minor": 2
}
