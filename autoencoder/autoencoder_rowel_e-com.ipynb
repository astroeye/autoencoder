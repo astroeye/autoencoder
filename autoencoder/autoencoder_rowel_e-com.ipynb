{
 "cells": [
  {
   "cell_type": "code",
   "execution_count": 1,
   "metadata": {},
   "outputs": [],
   "source": [
    "from tensorflow.python.keras.layers.core import Dropout\n",
    "from tensorflow.keras.models import Model, load_model\n",
    "from tensorflow.keras import layers, losses\n",
    "from sklearn.metrics import accuracy_score, precision_score, recall_score\n",
    "import tensorflow.keras as keras\n",
    "import tensorflow as tf\n",
    "import pandas as pd\n",
    "import numpy as np\n",
    "import matplotlib.pyplot as plt\n",
    "import cv2\n",
    "import os\n",
    "import pathlib\n",
    "import librosa\n",
    "import librosa.display\n",
    "import concurrent.futures"
   ]
  },
  {
   "cell_type": "code",
   "execution_count": null,
   "metadata": {},
   "outputs": [],
   "source": [
    "'''\n",
    "1. Extract spectrograms from wav files\n",
    "'''\n",
    "SOURCE = \"C:/workspace/autoencoder/autoencoder/data/in\"\n",
    "TARGET = \"C:/workspace/autoencoder/autoencoder/data/out\"\n",
    "FIG_SIZE = (20, 20)\n",
    "args = [SOURCE, TARGET, FIG_SIZE]\n",
    "\n",
    "import time\n",
    "start = time.perf_counter()\n",
    "\n",
    "extractor = SpectrogramExtractor()\n",
    "extractor.extract(SOURCE, TARGET, FIG_SIZE)\n",
    "\n",
    "finish = time.perf_counter()\n",
    "print(f'Finished in {round(finish-start, 2)} second(s)')"
   ]
  },
  {
   "cell_type": "code",
   "execution_count": null,
   "metadata": {},
   "outputs": [],
   "source": [
    "os.chdir(SOURCE)\n",
    "for file in os.listdir(SOURCE):\n",
    "    # check file extention\n",
    "    if file.endswith(\".wav\"):\n",
    "        # load audio file with Librosa\n",
    "        signal, sample_rate = librosa.load(file, sr=22050)\n",
    "\n",
    "        # perform Fourier transform (FFT -> power spectrum)\n",
    "        fft = np.fft.fft(signal)\n",
    "\n",
    "        # calculate abs values on complex numbers to get magnitude\n",
    "        spectrum = np.abs(fft)\n",
    "\n",
    "        # create frequency variable\n",
    "        f = np.linspace(0, sample_rate, len(spectrum))\n",
    "\n",
    "        # take half of the spectrum and frequency\n",
    "        left_spectrum = spectrum[:int(len(spectrum)/2)]\n",
    "        left_f = f[:int(len(spectrum)/2)]\n",
    "\n",
    "        # STFT -> spectrogram\n",
    "        hop_length = 512  # in num. of samples\n",
    "        n_fft = 2048  # window in num. of samples\n",
    "\n",
    "        # calculate duration hop length and window in seconds\n",
    "        hop_length_duration = float(hop_length)/sample_rate\n",
    "        n_fft_duration = float(n_fft)/sample_rate\n",
    "\n",
    "        # perform stft\n",
    "        stft = librosa.stft(signal, n_fft=n_fft, hop_length=hop_length)\n",
    "\n",
    "        # calculate abs values on complex numbers to get magnitude\n",
    "        spectrogram = np.abs(stft)  # np.abs(stft) ** 2\n",
    "\n",
    "        # apply logarithm to cast amplitude to Decibels\n",
    "        log_spectrogram = librosa.amplitude_to_db(spectrogram)\n",
    "\n",
    "        # Matplotlib plots: removing axis, legends and white spaces\n",
    "        plt.figure(figsize=FIG_SIZE)\n",
    "        plt.axis('off')\n",
    "        librosa.display.specshow(\n",
    "            log_spectrogram, sr=sample_rate, hop_length=hop_length)\n",
    "        data_path = pathlib.Path(TARGET)\n",
    "        file_name = f'{file[0:-4]}.jpg'\n",
    "        full_name = str(pathlib.Path.joinpath(data_path, file_name))\n",
    "        plt.savefig(str(full_name), bbox_inches='tight', pad_inches=0)"
   ]
  }
 ],
 "metadata": {
  "interpreter": {
   "hash": "cda25b447d24e0c552e167f4581e6082f9a8d9051bb076b8c83c8431f397ae1f"
  },
  "kernelspec": {
   "display_name": "Python 3.9.7 ('ae')",
   "language": "python",
   "name": "python3"
  },
  "language_info": {
   "codemirror_mode": {
    "name": "ipython",
    "version": 3
   },
   "file_extension": ".py",
   "mimetype": "text/x-python",
   "name": "python",
   "nbconvert_exporter": "python",
   "pygments_lexer": "ipython3",
   "version": "3.9.7"
  },
  "orig_nbformat": 4
 },
 "nbformat": 4,
 "nbformat_minor": 2
}
