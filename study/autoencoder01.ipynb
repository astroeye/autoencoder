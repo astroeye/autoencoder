{
 "cells": [
  {
   "cell_type": "code",
   "execution_count": 1,
   "metadata": {},
   "outputs": [],
   "source": [
    "# https://www.tensorflow.org/tutorials/generative/autoencoder?hl=ko\n",
    "# 이 튜토리얼에서는 3가지 예(기본 사항, 이미지 노이즈 제거 및 이상 감지)를 통해\n",
    "# autoencoder를 소개합니다.\n",
    "\n",
    "# autoencoder는 입력을 출력에 복사하도록 훈련된 특수한 유형의 신경망입니다.\n",
    "# 예를 들어, 손으로 쓴 숫자의 이미지가 주어지면 autoencoder는 먼저 이미지를\n",
    "# 더 낮은 차원의 잠재 표현으로 인코딩한 다음 잠재 표현을 다시 이미지로 디코딩합니다. \n",
    "# autoencoder는 재구성 오류를 최소화하면서 데이터를 압축하는 방법을 학습합니다.\n",
    "\n",
    "# autoencoder에 대해 자세히 알아보려면 Ian Goodfellow, Yoshua Bengio 및 \n",
    "# Aaron Courville의 딥 러닝에서 14장을 읽어보세요."
   ]
  },
  {
   "cell_type": "code",
   "execution_count": 2,
   "metadata": {},
   "outputs": [],
   "source": [
    "## TensorFlow 및 기타 라이브러리 가져오기\n",
    "from ast import BitAnd\n",
    "\n",
    "import matplotlib.pyplot as plt\n",
    "import numpy as np\n",
    "import pandas as pd\n",
    "import tensorflow as tf\n",
    "\n",
    "from sklearn.metrics import accuracy_score, precision_score, recall_score\n",
    "from sklearn.model_selection import train_test_split\n",
    "from tensorflow.keras import layers, losses\n",
    "from tensorflow.keras.datasets import fashion_mnist\n",
    "from tensorflow.keras.models import Model\n",
    "\n",
    "#import autokeras as ak"
   ]
  },
  {
   "cell_type": "code",
   "execution_count": 3,
   "metadata": {},
   "outputs": [],
   "source": [
    "# 데이터세트 로드하기\n",
    "# y_train과 t_test는 할당하지 않는다.\n",
    "\n",
    "# (x_train, _), (x_test, _) = fashion_mnist.load_data()\n",
    "(x_train, y_train), (x_test, y_test) = fashion_mnist.load_data()\n",
    "# https://www.tensorflow.org/api_docs/python/tf/keras/datasets/fashion_mnist/load_data\n",
    "# Tuple of NumPy arrays: (x_train, y_train), (x_test, y_test).\n",
    "# x_train: uint8 NumPy array of grayscale image data with shapes (60000, 28, 28), containing the training data.\n",
    "# y_train: uint8 NumPy array of labels (integers in range 0-9) with shape (60000,) for the training data.\n",
    "# x_test: uint8 NumPy array of grayscale image data with shapes (10000, 28, 28), containing the test data.\n",
    "# y_test: uint8 NumPy array of labels (integers in range 0-9) with shape (10000,) for the test data."
   ]
  },
  {
   "cell_type": "code",
   "execution_count": 4,
   "metadata": {},
   "outputs": [],
   "source": [
    "# Label\tDescription\n",
    "# 0\tT-shirt/top\n",
    "# 1\tTrouser\n",
    "# 2\tPullover\n",
    "# 3\tDress\n",
    "# 4\tCoat\n",
    "# 5\tSandal\n",
    "# 6\tShirt\n",
    "# 7\tSneaker\n",
    "# 8\tBag\n",
    "# 9\tAnkle boot"
   ]
  },
  {
   "cell_type": "code",
   "execution_count": 5,
   "metadata": {},
   "outputs": [
    {
     "name": "stdout",
     "output_type": "stream",
     "text": [
      "<class 'tuple'>\n",
      "2\n"
     ]
    }
   ],
   "source": [
    "print(type(fashion_mnist.load_data()))        # <class 'tuple'>\n",
    "print(len(fashion_mnist.load_data()))         # 2"
   ]
  },
  {
   "cell_type": "code",
   "execution_count": 6,
   "metadata": {},
   "outputs": [
    {
     "name": "stdout",
     "output_type": "stream",
     "text": [
      "<class 'tuple'>\n",
      "2\n",
      "<class 'tuple'>\n",
      "2\n"
     ]
    }
   ],
   "source": [
    "print(type(fashion_mnist.load_data()[0]))     # <class 'tuple'>\n",
    "print(len(fashion_mnist.load_data()[0]))      # 2\n",
    "print(type(fashion_mnist.load_data()[1]))     # <class 'tuple'>\n",
    "print(len(fashion_mnist.load_data()[1]))      # 2"
   ]
  },
  {
   "cell_type": "code",
   "execution_count": 7,
   "metadata": {},
   "outputs": [
    {
     "name": "stdout",
     "output_type": "stream",
     "text": [
      "<class 'numpy.ndarray'>\n",
      "(60000, 28, 28)\n",
      "<class 'numpy.ndarray'>\n",
      "(60000,)\n"
     ]
    }
   ],
   "source": [
    "print(type(fashion_mnist.load_data()[0][0]))  # <class 'numpy.ndarray'>\n",
    "print(fashion_mnist.load_data()[0][0].shape)  # (60000, 28, 28)\n",
    "print(type(fashion_mnist.load_data()[0][1]))  # <class 'numpy.ndarray'>\n",
    "print(fashion_mnist.load_data()[0][1].shape)  # (60000,)"
   ]
  },
  {
   "cell_type": "code",
   "execution_count": 8,
   "metadata": {},
   "outputs": [
    {
     "name": "stdout",
     "output_type": "stream",
     "text": [
      "<class 'numpy.ndarray'>\n",
      "(10000, 28, 28)\n",
      "<class 'numpy.ndarray'>\n",
      "(10000,)\n"
     ]
    }
   ],
   "source": [
    "print(type(fashion_mnist.load_data()[1][0]))  # <class 'numpy.ndarray'>\n",
    "print(fashion_mnist.load_data()[1][0].shape)  # (10000, 28, 28)\n",
    "print(type(fashion_mnist.load_data()[1][1]))  # <class 'numpy.ndarray'>\n",
    "print(fashion_mnist.load_data()[1][1].shape)  # (10000,)"
   ]
  },
  {
   "cell_type": "code",
   "execution_count": 9,
   "metadata": {},
   "outputs": [],
   "source": [
    "# 훈련용 이미지 6만개, 테스트용 이미지 1만개, 총 7만개"
   ]
  },
  {
   "cell_type": "code",
   "execution_count": 10,
   "metadata": {},
   "outputs": [],
   "source": [
    "# array 출력 생략 해제\n",
    "np.set_printoptions(threshold=np.inf, linewidth=np.inf) #inf = infinity\n",
    "\n",
    "# array 출력 생략 복원\n",
    "# np.set_printoptions(threshold=1000, linewidth=75)"
   ]
  },
  {
   "cell_type": "code",
   "execution_count": 11,
   "metadata": {},
   "outputs": [
    {
     "name": "stdout",
     "output_type": "stream",
     "text": [
      "[[  0   0   0   0   0   0   0   0   0   0   0   0   0   0   0   0   0   0   0   0   0   0   0   0   0   0   0   0]\n",
      " [  0   0   0   0   0   0   0   0   0   0   0   0   0   0   0   0   0   0   0   0   0   0   0   0   0   0   0   0]\n",
      " [  0   0   0   0   0   0   0   0   0   0   0   0   0   0   0   0   0   0   0   0   0   0   0   0   0   0   0   0]\n",
      " [  0   0   0   0   0   0   0   0   0   0   0   0   1   0   0  13  73   0   0   1   4   0   0   0   0   1   1   0]\n",
      " [  0   0   0   0   0   0   0   0   0   0   0   0   3   0  36 136 127  62  54   0   0   0   1   3   4   0   0   3]\n",
      " [  0   0   0   0   0   0   0   0   0   0   0   0   6   0 102 204 176 134 144 123  23   0   0   0   0  12  10   0]\n",
      " [  0   0   0   0   0   0   0   0   0   0   0   0   0   0 155 236 207 178 107 156 161 109  64  23  77 130  72  15]\n",
      " [  0   0   0   0   0   0   0   0   0   0   0   1   0  69 207 223 218 216 216 163 127 121 122 146 141  88 172  66]\n",
      " [  0   0   0   0   0   0   0   0   0   1   1   1   0 200 232 232 233 229 223 223 215 213 164 127 123 196 229   0]\n",
      " [  0   0   0   0   0   0   0   0   0   0   0   0   0 183 225 216 223 228 235 227 224 222 224 221 223 245 173   0]\n",
      " [  0   0   0   0   0   0   0   0   0   0   0   0   0 193 228 218 213 198 180 212 210 211 213 223 220 243 202   0]\n",
      " [  0   0   0   0   0   0   0   0   0   1   3   0  12 219 220 212 218 192 169 227 208 218 224 212 226 197 209  52]\n",
      " [  0   0   0   0   0   0   0   0   0   0   6   0  99 244 222 220 218 203 198 221 215 213 222 220 245 119 167  56]\n",
      " [  0   0   0   0   0   0   0   0   0   4   0   0  55 236 228 230 228 240 232 213 218 223 234 217 217 209  92   0]\n",
      " [  0   0   1   4   6   7   2   0   0   0   0   0 237 226 217 223 222 219 222 221 216 223 229 215 218 255  77   0]\n",
      " [  0   3   0   0   0   0   0   0   0  62 145 204 228 207 213 221 218 208 211 218 224 223 219 215 224 244 159   0]\n",
      " [  0   0   0   0  18  44  82 107 189 228 220 222 217 226 200 205 211 230 224 234 176 188 250 248 233 238 215   0]\n",
      " [  0  57 187 208 224 221 224 208 204 214 208 209 200 159 245 193 206 223 255 255 221 234 221 211 220 232 246   0]\n",
      " [  3 202 228 224 221 211 211 214 205 205 205 220 240  80 150 255 229 221 188 154 191 210 204 209 222 228 225   0]\n",
      " [ 98 233 198 210 222 229 229 234 249 220 194 215 217 241  65  73 106 117 168 219 221 215 217 223 223 224 229  29]\n",
      " [ 75 204 212 204 193 205 211 225 216 185 197 206 198 213 240 195 227 245 239 223 218 212 209 222 220 221 230  67]\n",
      " [ 48 203 183 194 213 197 185 190 194 192 202 214 219 221 220 236 225 216 199 206 186 181 177 172 181 205 206 115]\n",
      " [  0 122 219 193 179 171 183 196 204 210 213 207 211 210 200 196 194 191 195 191 198 192 176 156 167 177 210  92]\n",
      " [  0   0  74 189 212 191 175 172 175 181 185 188 189 188 193 198 204 209 210 210 211 188 188 194 192 216 170   0]\n",
      " [  2   0   0   0  66 200 222 237 239 242 246 243 244 221 220 193 191 179 182 182 181 176 166 168  99  58   0   0]\n",
      " [  0   0   0   0   0   0   0  40  61  44  72  41  35   0   0   0   0   0   0   0   0   0   0   0   0   0   0   0]\n",
      " [  0   0   0   0   0   0   0   0   0   0   0   0   0   0   0   0   0   0   0   0   0   0   0   0   0   0   0   0]\n",
      " [  0   0   0   0   0   0   0   0   0   0   0   0   0   0   0   0   0   0   0   0   0   0   0   0   0   0   0   0]]\n",
      "(28, 28)\n"
     ]
    }
   ],
   "source": [
    "# 좀 더 자세히 살펴보기 위해서 x_train에 첫 번째 이미지 데이터를 출력했습니다.  (스크롤 주의)\n",
    "print(x_train[0])\n",
    "print(x_train[0].shape) # (28, 28)"
   ]
  },
  {
   "cell_type": "code",
   "execution_count": 12,
   "metadata": {},
   "outputs": [],
   "source": [
    "# https://m.blog.naver.com/PostView.naver?isHttpsRedirect=true&blogId=ksg97031&logNo=221302568510\n",
    "# 위에서 말씀한 거처럼 28 * 28 배열로 원소들이 저장되어 있고 255를 넘는 값이 없습니다.\n",
    "# 이는 각각에 원소가 데이터에 기본단위인 Byte(8 bit)로 표현됐기 때문에 0~255 사이에 값으로만 표현됩니다.\n",
    "# 1 bit = 0, 1 => 2가지 값을 가질 수 있다.\n",
    "# 2 bit = 00, 01, 10, 11 => 2^2=4가지 값을 가질 수 있다.\n",
    "# 8 bit = 00 00 00 00 ~ 11 11 11 11 => 2^8=256가지 값을 가질 수 있다.\n",
    "# Byte = 주소지정이 가능한 단일 저장소(데이터 파일의 크기)\n",
    "\n",
    "# (이미지든, 동영상 파일이든 데이터로 된 모든 파일은 기본 단위인 Byte로 표현됩니다. )\n",
    "# 0~255 중 최대 범위인 255는 우리가 표준으로 사용하는 10진수이며 \n",
    "# 다른 진수 표현으론 16 진수 = 0xff, 8 진수 = 377입니다.\n",
    "\n",
    "# 2진수(0 과 1) = binary or Bit\n",
    "# 컴퓨터는 8개단위의 비트(8bit)를 하나의 그룹으로 사용하는데 이를 바이트(Byte)라 한다.\n",
    "# (8bit=1Byte)\n",
    "\n",
    "# 1Byte = 8bit = 2^8 = 256 = 0~255\n",
    "# Byte는 주소 지정이 가능한 단일 저장소이다.(데이터 파일의 크기)"
   ]
  },
  {
   "cell_type": "code",
   "execution_count": 13,
   "metadata": {},
   "outputs": [
    {
     "name": "stdout",
     "output_type": "stream",
     "text": [
      "[[0.         0.         0.         0.         0.         0.         0.         0.         0.         0.         0.         0.         0.         0.         0.         0.         0.         0.         0.         0.         0.         0.         0.         0.         0.         0.         0.         0.        ]\n",
      " [0.         0.         0.         0.         0.         0.         0.         0.         0.         0.         0.         0.         0.         0.         0.         0.         0.         0.         0.         0.         0.         0.         0.         0.         0.         0.         0.         0.        ]\n",
      " [0.         0.         0.         0.         0.         0.         0.         0.         0.         0.         0.         0.         0.         0.         0.         0.         0.         0.         0.         0.         0.         0.         0.         0.         0.         0.         0.         0.        ]\n",
      " [0.         0.         0.         0.         0.         0.         0.         0.         0.         0.         0.         0.         0.00392157 0.         0.         0.05098039 0.28627452 0.         0.         0.00392157 0.01568628 0.         0.         0.         0.         0.00392157 0.00392157 0.        ]\n",
      " [0.         0.         0.         0.         0.         0.         0.         0.         0.         0.         0.         0.         0.01176471 0.         0.14117648 0.53333336 0.49803922 0.24313726 0.21176471 0.         0.         0.         0.00392157 0.01176471 0.01568628 0.         0.         0.01176471]\n",
      " [0.         0.         0.         0.         0.         0.         0.         0.         0.         0.         0.         0.         0.02352941 0.         0.4        0.8        0.6901961  0.5254902  0.5647059  0.48235294 0.09019608 0.         0.         0.         0.         0.04705882 0.03921569 0.        ]\n",
      " [0.         0.         0.         0.         0.         0.         0.         0.         0.         0.         0.         0.         0.         0.         0.60784316 0.9254902  0.8117647  0.69803923 0.41960785 0.6117647  0.6313726  0.42745098 0.2509804  0.09019608 0.3019608  0.50980395 0.28235295 0.05882353]\n",
      " [0.         0.         0.         0.         0.         0.         0.         0.         0.         0.         0.         0.00392157 0.         0.27058825 0.8117647  0.8745098  0.85490197 0.84705883 0.84705883 0.6392157  0.49803922 0.4745098  0.47843137 0.57254905 0.5529412  0.34509805 0.6745098  0.25882354]\n",
      " [0.         0.         0.         0.         0.         0.         0.         0.         0.         0.00392157 0.00392157 0.00392157 0.         0.78431374 0.9098039  0.9098039  0.9137255  0.8980392  0.8745098  0.8745098  0.84313726 0.8352941  0.6431373  0.49803922 0.48235294 0.76862746 0.8980392  0.        ]\n",
      " [0.         0.         0.         0.         0.         0.         0.         0.         0.         0.         0.         0.         0.         0.7176471  0.88235295 0.84705883 0.8745098  0.89411765 0.92156863 0.8901961  0.8784314  0.87058824 0.8784314  0.8666667  0.8745098  0.9607843  0.6784314  0.        ]\n",
      " [0.         0.         0.         0.         0.         0.         0.         0.         0.         0.         0.         0.         0.         0.75686276 0.89411765 0.85490197 0.8352941  0.7764706  0.7058824  0.83137256 0.8235294  0.827451   0.8352941  0.8745098  0.8627451  0.9529412  0.7921569  0.        ]\n",
      " [0.         0.         0.         0.         0.         0.         0.         0.         0.         0.00392157 0.01176471 0.         0.04705882 0.85882354 0.8627451  0.83137256 0.85490197 0.7529412  0.6627451  0.8901961  0.8156863  0.85490197 0.8784314  0.83137256 0.8862745  0.77254903 0.81960785 0.20392157]\n",
      " [0.         0.         0.         0.         0.         0.         0.         0.         0.         0.         0.02352941 0.         0.3882353  0.95686275 0.87058824 0.8627451  0.85490197 0.79607844 0.7764706  0.8666667  0.84313726 0.8352941  0.87058824 0.8627451  0.9607843  0.46666667 0.654902   0.21960784]\n",
      " [0.         0.         0.         0.         0.         0.         0.         0.         0.         0.01568628 0.         0.         0.21568628 0.9254902  0.89411765 0.9019608  0.89411765 0.9411765  0.9098039  0.8352941  0.85490197 0.8745098  0.91764706 0.8509804  0.8509804  0.81960785 0.36078432 0.        ]\n",
      " [0.         0.         0.00392157 0.01568628 0.02352941 0.02745098 0.00784314 0.         0.         0.         0.         0.         0.92941177 0.8862745  0.8509804  0.8745098  0.87058824 0.85882354 0.87058824 0.8666667  0.84705883 0.8745098  0.8980392  0.84313726 0.85490197 1.         0.3019608  0.        ]\n",
      " [0.         0.01176471 0.         0.         0.         0.         0.         0.         0.         0.24313726 0.5686275  0.8        0.89411765 0.8117647  0.8352941  0.8666667  0.85490197 0.8156863  0.827451   0.85490197 0.8784314  0.8745098  0.85882354 0.84313726 0.8784314  0.95686275 0.62352943 0.        ]\n",
      " [0.         0.         0.         0.         0.07058824 0.17254902 0.32156864 0.41960785 0.7411765  0.89411765 0.8627451  0.87058824 0.8509804  0.8862745  0.78431374 0.8039216  0.827451   0.9019608  0.8784314  0.91764706 0.6901961  0.7372549  0.98039216 0.972549   0.9137255  0.93333334 0.84313726 0.        ]\n",
      " [0.         0.22352941 0.73333335 0.8156863  0.8784314  0.8666667  0.8784314  0.8156863  0.8        0.8392157  0.8156863  0.81960785 0.78431374 0.62352943 0.9607843  0.75686276 0.80784315 0.8745098  1.         1.         0.8666667  0.91764706 0.8666667  0.827451   0.8627451  0.9098039  0.9647059  0.        ]\n",
      " [0.01176471 0.7921569  0.89411765 0.8784314  0.8666667  0.827451   0.827451   0.8392157  0.8039216  0.8039216  0.8039216  0.8627451  0.9411765  0.3137255  0.5882353  1.         0.8980392  0.8666667  0.7372549  0.6039216  0.7490196  0.8235294  0.8        0.81960785 0.87058824 0.89411765 0.88235295 0.        ]\n",
      " [0.38431373 0.9137255  0.7764706  0.8235294  0.87058824 0.8980392  0.8980392  0.91764706 0.9764706  0.8627451  0.7607843  0.84313726 0.8509804  0.94509804 0.25490198 0.28627452 0.41568628 0.45882353 0.65882355 0.85882354 0.8666667  0.84313726 0.8509804  0.8745098  0.8745098  0.8784314  0.8980392  0.11372549]\n",
      " [0.29411766 0.8        0.83137256 0.8        0.75686276 0.8039216  0.827451   0.88235295 0.84705883 0.7254902  0.77254903 0.80784315 0.7764706  0.8352941  0.9411765  0.7647059  0.8901961  0.9607843  0.9372549  0.8745098  0.85490197 0.83137256 0.81960785 0.87058824 0.8627451  0.8666667  0.9019608  0.2627451 ]\n",
      " [0.1882353  0.79607844 0.7176471  0.7607843  0.8352941  0.77254903 0.7254902  0.74509805 0.7607843  0.7529412  0.7921569  0.8392157  0.85882354 0.8666667  0.8627451  0.9254902  0.88235295 0.84705883 0.78039217 0.80784315 0.7294118  0.70980394 0.69411767 0.6745098  0.70980394 0.8039216  0.80784315 0.4509804 ]\n",
      " [0.         0.47843137 0.85882354 0.75686276 0.7019608  0.67058825 0.7176471  0.76862746 0.8        0.8235294  0.8352941  0.8117647  0.827451   0.8235294  0.78431374 0.76862746 0.7607843  0.7490196  0.7647059  0.7490196  0.7764706  0.7529412  0.6901961  0.6117647  0.654902   0.69411767 0.8235294  0.36078432]\n",
      " [0.         0.         0.2901961  0.7411765  0.83137256 0.7490196  0.6862745  0.6745098  0.6862745  0.70980394 0.7254902  0.7372549  0.7411765  0.7372549  0.75686276 0.7764706  0.8        0.81960785 0.8235294  0.8235294  0.827451   0.7372549  0.7372549  0.7607843  0.7529412  0.84705883 0.6666667  0.        ]\n",
      " [0.00784314 0.         0.         0.         0.25882354 0.78431374 0.87058824 0.92941177 0.9372549  0.9490196  0.9647059  0.9529412  0.95686275 0.8666667  0.8627451  0.75686276 0.7490196  0.7019608  0.7137255  0.7137255  0.70980394 0.6901961  0.6509804  0.65882355 0.3882353  0.22745098 0.         0.        ]\n",
      " [0.         0.         0.         0.         0.         0.         0.         0.15686275 0.23921569 0.17254902 0.28235295 0.16078432 0.13725491 0.         0.         0.         0.         0.         0.         0.         0.         0.         0.         0.         0.         0.         0.         0.        ]\n",
      " [0.         0.         0.         0.         0.         0.         0.         0.         0.         0.         0.         0.         0.         0.         0.         0.         0.         0.         0.         0.         0.         0.         0.         0.         0.         0.         0.         0.        ]\n",
      " [0.         0.         0.         0.         0.         0.         0.         0.         0.         0.         0.         0.         0.         0.         0.         0.         0.         0.         0.         0.         0.         0.         0.         0.         0.         0.         0.         0.        ]]\n",
      "(60000, 28, 28)\n",
      "(10000, 28, 28)\n"
     ]
    }
   ],
   "source": [
    "# 타입을 바꾸는(astype) 함수를 통해 실수화(float) 된 후 255로 나누어지는(/) 코드가 있습니다.\n",
    "# astype('float32') 코드를 통해 실수화해줍니다.\n",
    "# 실수 화가 되면 정수 뒤에 \"정수. 0\"처럼 '.0'이 붙거나 \"정수. \"처럼 생략됩니다\n",
    "# 0~255 값을 0~1사이로 변경해주는 것입니다.(float32로 정규화)\n",
    "#  https://hdongle.tistory.com/47\n",
    "#  사이즈는 더 커짐\n",
    "#  딥러닝에 넣을 때, 정규화해서 넣어야 더 잘된다고 함\n",
    "#  0~255면 값이 너무 커서 학습이 잘 이뤄지지 않는다고 함\n",
    "x_train = x_train.astype('float32') / 255.\n",
    "x_test = x_test.astype('float32') / 255.\n",
    "\n",
    "print(x_train[0])\n",
    "\n",
    "print (x_train.shape) # (60000, 28, 28)\n",
    "print (x_test.shape)  # (10000, 28, 28)"
   ]
  },
  {
   "cell_type": "code",
   "execution_count": 14,
   "metadata": {},
   "outputs": [],
   "source": [
    "# 첫 번째 예: 기본 autoencoder\n",
    "# 두 개의 Dense 레이어로 autoencoder를 정의합니다.\n",
    "# 이미지를 64차원 잠재 벡터로 압축하는 encoder와 \n",
    "# 잠재 공간에서 원본 이미지를 재구성하는 decoder입니다.\n",
    "# latent: 잠재, Dimension: 크기, 차원\n",
    "latent_dim = 64 "
   ]
  },
  {
   "cell_type": "code",
   "execution_count": 15,
   "metadata": {},
   "outputs": [],
   "source": [
    "# Keras\n",
    "# https://www.tensorflow.org/guide/keras/sequential_model?hl=ko\n",
    "\n",
    "\n",
    "# 클래스를 계산기로 보면 계산기가 여려대 필요할때 계산기를 여려개 만들지 않고\n",
    "# 계산기 클래스로 만든 객체를 여려개 만들어 사용하면 독립적으로 사용할 수 있다.\n",
    "# 클래스로 만든 객체를 해당 클래스의 인스턴스라고 한다.\n",
    "# 클래스를 상속하여 만들기위해서는 class 클래스 이름(상속할 클래스 이름)\n",
    "# 아래 Class Autoencoder은 Model Class(tf.keras.Model)를 상속받아 만든 클래스 이다."
   ]
  },
  {
   "cell_type": "code",
   "execution_count": 16,
   "metadata": {},
   "outputs": [],
   "source": [
    "class Autoencoder(Model):\n",
    "  # 클래스로 객체 a를 만들고 객체a 가 메서드를 호출하면 메서드의 첫 번째 매개변수 \n",
    "  # self에는 메서드를 호출한 객체a가 자동으로 전달된다.\n",
    "\n",
    "  # class안에 생성된 함수를 method(메서드)라고 한다.\n",
    "  # method 중에 __init__ method를 constructor(생성자)라고 한다.\n",
    "  # 객체에 초깃값을 설정할 필요가 있을때는 생성자__init__를 사용하여 메서드를 만든다.\n",
    "  # 생성자 __init__ 는 객체가 생성되는 시점에 자동으로 호출된다.\n",
    "  def __init__(self, encoding_dim):\n",
    "    print(\"__init__ called\")\n",
    "    super(Autoencoder, self).__init__()\n",
    "    self.latent_dim = latent_dim\n",
    "    # 케라스는 Sequential을 사용하여 층을 차례대로 쌓습니다.  tf.keras.Sequential\n",
    "    self.encoder = tf.keras.Sequential([\n",
    "      # Flatten: 납작해지다\n",
    "      # tf.keras.layers.Flatten은 입력을 1차원으로 변환합니다., Batch의 크기에는 영향을 주지 않습니다.\n",
    "      # 입력의 형태가 (None, 28, 28)일 때, (None, 784)로 변환됩니다.\n",
    "      layers.Flatten(),\n",
    "      \n",
    "      # Dense: 밀집한\n",
    "      # tf.keras.layers.Dense는 일반적인 완전 연결된 (densely-connected, fully-connected) 신경망 층입니다.\n",
    "\n",
    "      # <활성화 함수>\n",
    "      # 이에 대한 해결책이 바로 활성화 함수(activation function)이다. \n",
    "      # 활성화 함수를 사용하면 입력값에 대한 출력값이 linear하게 나오지 않으므로\n",
    "      # 선형분류기를 비선형 시스템으로 만들 수 있다.\n",
    "      # * 따라서 MLP(Multiple layer perceptron)는 단지 linear layer를 여러개 쌓는 개념이 아닌 \n",
    "      # 활성화 함수를 이용한 non-linear 시스템을 여러 layer로 쌓는 개념이다.\n",
    "      # relu 함수는 x가 양수면 자기 자신을 반환하고, 음수면 0을 반환한다.\n",
    "      layers.Dense(latent_dim, activation='relu'),\n",
    "    ])\n",
    "    self.decoder = tf.keras.Sequential([\n",
    "      layers.Dense(784, activation='sigmoid'),\n",
    "      layers.Reshape((28, 28))\n",
    "    ])\n",
    "\n",
    "  # __call__은 인스턴스가 호출되었을 때 실행 되는 것이다.\n",
    "  # tf.keras.Model.call => Calls the model on new inputs and returns the outputs as tensors.\n",
    "  # call(inputs, training=None, mask=None)\n",
    "  def call(self, x):\n",
    "    print(\"\\n call method called\")\n",
    "    encoded = self.encoder(x)\n",
    "    print(\"self.encoder(x) called\")\n",
    "    decoded = self.decoder(encoded)\n",
    "    print(\"self.decoder(encoded) called\")\n",
    "    return decoded"
   ]
  },
  {
   "cell_type": "code",
   "execution_count": 17,
   "metadata": {},
   "outputs": [
    {
     "name": "stdout",
     "output_type": "stream",
     "text": [
      "before autoencoder obejec creation\n",
      "__init__ called\n",
      "after autoencoder obejec creation\n"
     ]
    }
   ],
   "source": [
    "# autoencoder는 object(객체)이다.\n",
    "# autoencoder object는 Autoencoder Class의 instance 이다.\n",
    "print(\"before autoencoder obejec creation\")\n",
    "autoencoder = Autoencoder(latent_dim)\n",
    "print(\"after autoencoder obejec creation\")"
   ]
  },
  {
   "cell_type": "code",
   "execution_count": 18,
   "metadata": {},
   "outputs": [
    {
     "name": "stdout",
     "output_type": "stream",
     "text": [
      "\n",
      " before autoencoder.compile()\n",
      "\n",
      " after autoencoder.compile()\n"
     ]
    }
   ],
   "source": [
    "# cost function: 비용함수, 목적함수, 손실함수: 예측값과 식제값의 차이: MSE\n",
    "# Optimizer: 옵티마이저: 비용함수를 최소화 하는 매개변수인 W와 b를 찾기위해 사용되는 알고리즘:\n",
    "#            옵티마이저를 통해 적절한 W와 b를 장아내는 과정을 머신러닝에서 학습(training)이라고 한다.\n",
    "#            경사하강법(Gradient Descent): W(x축)의 변화에 따른 Cost(y축)을 줄이기 위함\n",
    "# tf.keras.Model.compile => Configures the model for training.\n",
    "\n",
    "print(\"\\n before autoencoder.compile()\")\n",
    "autoencoder.compile(optimizer='adam', loss=losses.MeanSquaredError())\n",
    "print(\"\\n after autoencoder.compile()\")"
   ]
  },
  {
   "cell_type": "code",
   "execution_count": 19,
   "metadata": {},
   "outputs": [
    {
     "name": "stdout",
     "output_type": "stream",
     "text": [
      "Epoch 1/10\n",
      "\n",
      " call method called\n",
      "self.encoder(x) called\n",
      "self.decoder(encoded) called\n",
      "\n",
      " call method called\n",
      "self.encoder(x) called\n",
      "self.decoder(encoded) called\n",
      "1842/1875 [============================>.] - ETA: 0s - loss: 0.0244\n",
      " call method called\n",
      "self.encoder(x) called\n",
      "self.decoder(encoded) called\n",
      "1875/1875 [==============================] - 3s 1ms/step - loss: 0.0242 - val_loss: 0.0134\n",
      "Epoch 2/10\n",
      "1875/1875 [==============================] - 2s 1ms/step - loss: 0.0118 - val_loss: 0.0110\n",
      "Epoch 3/10\n",
      "1875/1875 [==============================] - 2s 1ms/step - loss: 0.0102 - val_loss: 0.0099\n",
      "Epoch 4/10\n",
      "1875/1875 [==============================] - 2s 1ms/step - loss: 0.0096 - val_loss: 0.0095\n",
      "Epoch 5/10\n",
      "1875/1875 [==============================] - 2s 1ms/step - loss: 0.0092 - val_loss: 0.0092\n",
      "Epoch 6/10\n",
      "1875/1875 [==============================] - 2s 1ms/step - loss: 0.0090 - val_loss: 0.0091\n",
      "Epoch 7/10\n",
      "1875/1875 [==============================] - 2s 1ms/step - loss: 0.0089 - val_loss: 0.0089\n",
      "Epoch 8/10\n",
      "1875/1875 [==============================] - 2s 1ms/step - loss: 0.0088 - val_loss: 0.0089\n",
      "Epoch 9/10\n",
      "1875/1875 [==============================] - 2s 1ms/step - loss: 0.0088 - val_loss: 0.0088\n",
      "Epoch 10/10\n",
      "1875/1875 [==============================] - 2s 1ms/step - loss: 0.0087 - val_loss: 0.0089\n"
     ]
    },
    {
     "data": {
      "text/plain": [
       "<keras.callbacks.History at 0x1f7803d7f70>"
      ]
     },
     "execution_count": 19,
     "metadata": {},
     "output_type": "execute_result"
    }
   ],
   "source": [
    "# x_train을 입력과 대상으로 사용하여 모델을 훈련합니다. \n",
    "# encoder는 데이터세트를 784차원에서 잠재 공간으로 압축하는 방법을 배우고,\n",
    "# decoder는 원본 이미지를 재구성하는 방법을 배웁니다.\n",
    "\n",
    "autoencoder.fit(x_train, x_train,\n",
    "                epochs=10,\n",
    "                shuffle=True,\n",
    "                validation_data=(x_test, x_test))"
   ]
  },
  {
   "cell_type": "code",
   "execution_count": 20,
   "metadata": {},
   "outputs": [],
   "source": [
    "# CPU 학습\n",
    "# print(\"CPU를 사용한 학습\")\n",
    "# with tf.device(\"/device:CPU:0\"):\n",
    "#   autoencoder.fit(x_train, x_train,\n",
    "#                   epochs=10,\n",
    "#                   shuffle=True,\n",
    "#                   validation_data=(x_test, x_test))"
   ]
  },
  {
   "cell_type": "code",
   "execution_count": 21,
   "metadata": {},
   "outputs": [],
   "source": [
    "# print(\"GPU를 사용한 학습\")\n",
    "# with tf.device(\"/device:GPU:0\"):\n",
    "#   autoencoder.fit(x_train, x_train,\n",
    "#                   epochs=10,\n",
    "#                   shuffle=True,\n",
    "#                   validation_data=(x_test, x_test))"
   ]
  },
  {
   "cell_type": "code",
   "execution_count": 22,
   "metadata": {},
   "outputs": [
    {
     "name": "stdout",
     "output_type": "stream",
     "text": [
      "Model: \"sequential\"\n",
      "_________________________________________________________________\n",
      " Layer (type)                Output Shape              Param #   \n",
      "=================================================================\n",
      " flatten (Flatten)           (None, 784)               0         \n",
      "                                                                 \n",
      " dense (Dense)               (None, 64)                50240     \n",
      "                                                                 \n",
      "=================================================================\n",
      "Total params: 50,240\n",
      "Trainable params: 50,240\n",
      "Non-trainable params: 0\n",
      "_________________________________________________________________\n"
     ]
    }
   ],
   "source": [
    "# encoder의 요약을 살펴보겠습니다. \n",
    "# 이미지가 28x28에서 7x7로 어떻게 다운샘플링되는지 확인하세요.\n",
    "autoencoder.encoder.summary()"
   ]
  },
  {
   "cell_type": "code",
   "execution_count": 23,
   "metadata": {},
   "outputs": [
    {
     "name": "stdout",
     "output_type": "stream",
     "text": [
      "Model: \"sequential_1\"\n",
      "_________________________________________________________________\n",
      " Layer (type)                Output Shape              Param #   \n",
      "=================================================================\n",
      " dense_1 (Dense)             (None, 784)               50960     \n",
      "                                                                 \n",
      " reshape (Reshape)           (None, 28, 28)            0         \n",
      "                                                                 \n",
      "=================================================================\n",
      "Total params: 50,960\n",
      "Trainable params: 50,960\n",
      "Non-trainable params: 0\n",
      "_________________________________________________________________\n"
     ]
    }
   ],
   "source": [
    "# decoder는 이미지를 7x7에서 28x28로 다시 업샘플링합니다.\n",
    "autoencoder.decoder.summary()"
   ]
  },
  {
   "cell_type": "code",
   "execution_count": 24,
   "metadata": {},
   "outputs": [],
   "source": [
    "# 모델이 훈련되었으므로 테스트 세트에서 이미지를 인코딩 및 디코딩하여 테스트해 보겠습니다.\n",
    "encoded_imgs = autoencoder.encoder(x_test).numpy()\n",
    "decoded_imgs = autoencoder.decoder(encoded_imgs).numpy()"
   ]
  },
  {
   "cell_type": "code",
   "execution_count": 25,
   "metadata": {},
   "outputs": [
    {
     "data": {
      "image/png": "[encoded data removed]",
      "text/plain": [
       "<Figure size 1440x288 with 20 Axes>"
      ]
     },
     "metadata": {
      "needs_background": "light"
     },
     "output_type": "display_data"
    }
   ],
   "source": [
    "n = 10\n",
    "plt.figure(figsize=(20, 4))\n",
    "for i in range(n):\n",
    "  # display original\n",
    "  ax = plt.subplot(2, n, i + 1)\n",
    "  plt.imshow(x_test[i])\n",
    "  plt.title(\"original\")\n",
    "  plt.gray()\n",
    "  ax.get_xaxis().set_visible(False)\n",
    "  ax.get_yaxis().set_visible(False)\n",
    "\n",
    "  # display reconstruction\n",
    "  ax = plt.subplot(2, n, i + 1 + n)\n",
    "  plt.imshow(decoded_imgs[i])\n",
    "  plt.title(\"reconstructed\")\n",
    "  plt.gray()\n",
    "  ax.get_xaxis().set_visible(False)\n",
    "  ax.get_yaxis().set_visible(False)\n",
    "plt.show()"
   ]
  },
  {
   "cell_type": "code",
   "execution_count": null,
   "metadata": {},
   "outputs": [],
   "source": []
  }
 ],
 "metadata": {
  "interpreter": {
   "hash": "cda25b447d24e0c552e167f4581e6082f9a8d9051bb076b8c83c8431f397ae1f"
  },
  "kernelspec": {
   "display_name": "Python 3.9.7 ('ae')",
   "language": "python",
   "name": "python3"
  },
  "language_info": {
   "codemirror_mode": {
    "name": "ipython",
    "version": 3
   },
   "file_extension": ".py",
   "mimetype": "text/x-python",
   "name": "python",
   "nbconvert_exporter": "python",
   "pygments_lexer": "ipython3",
   "version": "3.9.7"
  },
  "orig_nbformat": 4
 },
 "nbformat": 4,
 "nbformat_minor": 2
}
