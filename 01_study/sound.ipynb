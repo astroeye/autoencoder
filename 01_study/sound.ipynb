{
 "cells": [
  {
   "cell_type": "code",
   "execution_count": 1,
   "metadata": {},
   "outputs": [],
   "source": [
    "# Beat tracking example\n",
    "import librosa\n",
    "import soundfile as sf\n",
    "import pandas as pd\n",
    "import numpy as np\n",
    "import matplotlib.pyplot as plt"
   ]
  },
  {
   "cell_type": "code",
   "execution_count": 65,
   "metadata": {},
   "outputs": [],
   "source": [
    "# 1. Get the file path to an included audio example\n",
    "filename = librosa.example('nutcracker')"
   ]
  },
  {
   "cell_type": "code",
   "execution_count": 66,
   "metadata": {},
   "outputs": [],
   "source": [
    "# 2. Load the audio as a waveform `y`\n",
    "#    Store the sampling rate as `sr`\n",
    "y, sr = librosa.load(filename)"
   ]
  },
  {
   "cell_type": "code",
   "execution_count": 67,
   "metadata": {},
   "outputs": [
    {
     "name": "stdout",
     "output_type": "stream",
     "text": [
      "Estimated tempo: 107.67 beats per minute\n"
     ]
    }
   ],
   "source": [
    "# 3. Run the default beat tracker\n",
    "tempo, beat_frames = librosa.beat.beat_track(y=y, sr=sr)\n",
    "\n",
    "print('Estimated tempo: {:.2f} beats per minute'.format(tempo))"
   ]
  },
  {
   "cell_type": "code",
   "execution_count": 68,
   "metadata": {},
   "outputs": [],
   "source": [
    "# 4. Convert the frame indices of beat events into timestamps\n",
    "beat_times = librosa.frames_to_time(beat_frames, sr=sr)"
   ]
  },
  {
   "cell_type": "code",
   "execution_count": 69,
   "metadata": {},
   "outputs": [],
   "source": [
    "import os\n",
    "File = \"C:/workspace/autoencoder/autoencoder/sound/good.wav\""
   ]
  },
  {
   "cell_type": "code",
   "execution_count": 70,
   "metadata": {},
   "outputs": [
    {
     "name": "stdout",
     "output_type": "stream",
     "text": [
      "c:\\workspace\\autoencoder\n"
     ]
    }
   ],
   "source": [
    "print(os.getcwd())\n",
    "# c:/workspace/autoencoder"
   ]
  },
  {
   "cell_type": "code",
   "execution_count": 71,
   "metadata": {},
   "outputs": [
    {
     "name": "stdout",
     "output_type": "stream",
     "text": [
      "c:\\workspace\\autoencoder\\web-crawler-py\\parsed_data\n"
     ]
    }
   ],
   "source": [
    "print(os.path.abspath(\"web-crawler-py/parsed_data\"))\n",
    "# c:\\workspace/autoencoder\\web-crawler-py\\parsed_data"
   ]
  },
  {
   "cell_type": "code",
   "execution_count": 72,
   "metadata": {},
   "outputs": [
    {
     "name": "stdout",
     "output_type": "stream",
     "text": [
      "C:/workspace/autoencoder/autoencoder/sound\n"
     ]
    }
   ],
   "source": [
    "print(os.path.dirname(File))\n",
    "# C:/workspace/autoencoder/autoencoder/sound"
   ]
  },
  {
   "cell_type": "code",
   "execution_count": 73,
   "metadata": {},
   "outputs": [
    {
     "name": "stdout",
     "output_type": "stream",
     "text": [
      "good.wav\n"
     ]
    }
   ],
   "source": [
    "print(os.path.basename(File))\n",
    "# good.wav"
   ]
  },
  {
   "cell_type": "code",
   "execution_count": 74,
   "metadata": {},
   "outputs": [
    {
     "name": "stdout",
     "output_type": "stream",
     "text": [
      "('C:/workspace/autoencoder/autoencoder/sound', 'good.wav')\n"
     ]
    }
   ],
   "source": [
    "print(os.path.split(File))\n",
    "# ('C:/workspace/autoencoder/autoencoder/sound', 'good.wav')"
   ]
  },
  {
   "cell_type": "code",
   "execution_count": 86,
   "metadata": {},
   "outputs": [
    {
     "name": "stdout",
     "output_type": "stream",
     "text": [
      "True\n",
      "False\n"
     ]
    }
   ],
   "source": [
    "# 파일 혹은 디렉토리가 존재하는지 체크\n",
    "print(os.path.exists(\"/workspace/\"))\n",
    "# True\n",
    "print(os.path.exists(\"abcd/\"))\n",
    "# False"
   ]
  },
  {
   "cell_type": "code",
   "execution_count": 1,
   "metadata": {},
   "outputs": [],
   "source": [
    "from IPython.display import display\n",
    "import matplotlib.pyplot as plt\n",
    "%matplotlib inline\n",
    "import numpy as np\n",
    "import os\n",
    "import shutil\n",
    "import posixpath\n",
    "\n",
    "import wfdb\n"
   ]
  },
  {
   "cell_type": "code",
   "execution_count": 2,
   "metadata": {},
   "outputs": [],
   "source": [
    "wavfile = 'C:/workspace/autoencoder/autoencoder/data/in/pure_0.wav'"
   ]
  },
  {
   "cell_type": "code",
   "execution_count": 4,
   "metadata": {},
   "outputs": [
    {
     "name": "stdout",
     "output_type": "stream",
     "text": [
      "Reading Mono formatted .wav file...\n",
      "Sample rate: 44100\n",
      "Byte rate: 88200\n",
      "Block align: 2\n",
      "Bits per sample: 16\n"
     ]
    }
   ],
   "source": [
    "rd_record = wfdb.rdrecord('pure_0.wav')"
   ]
  },
  {
   "cell_type": "code",
   "execution_count": 7,
   "metadata": {},
   "outputs": [
    {
     "name": "stdout",
     "output_type": "stream",
     "text": [
      "Reading Mono formatted .wav file...\n",
      "Sample rate: 44100\n",
      "Byte rate: 88200\n",
      "Block align: 2\n",
      "Bits per sample: 16\n",
      "<class 'NoneType'>\n"
     ]
    }
   ],
   "source": [
    "wav_record = wfdb.wav2mit('pure_0.wav', delete_file=False, record_only=False)\n",
    "print(type(wav_record))"
   ]
  },
  {
   "cell_type": "code",
   "execution_count": null,
   "metadata": {},
   "outputs": [],
   "source": [
    "rd_record = wfdb.rdrecord(wavfile)"
   ]
  },
  {
   "cell_type": "code",
   "execution_count": 16,
   "metadata": {},
   "outputs": [
    {
     "data": {
      "image/png": "[encoded data removed]",
      "text/plain": [
       "<Figure size 432x288 with 1 Axes>"
      ]
     },
     "metadata": {
      "needs_background": "light"
     },
     "output_type": "display_data"
    }
   ],
   "source": [
    "wfdb.plot_wfdb(record=rd_record, title='record')"
   ]
  },
  {
   "cell_type": "code",
   "execution_count": 10,
   "metadata": {},
   "outputs": [
    {
     "data": {
      "text/plain": [
       "{'record_name': 'C:/workspace/autoencoder/autoencoder/data/in/pure_0',\n",
       " 'n_sig': 1,\n",
       " 'fs': [44100],\n",
       " 'counter_freq': None,\n",
       " 'base_counter': None,\n",
       " 'sig_len': 132300,\n",
       " 'base_time': None,\n",
       " 'base_date': None,\n",
       " 'comments': [],\n",
       " 'sig_name': [None],\n",
       " 'p_signal': None,\n",
       " 'd_signal': array([[ 451],\n",
       "        [ 503],\n",
       "        [ 412],\n",
       "        ...,\n",
       "        [-146],\n",
       "        [-151],\n",
       "        [-149]], dtype=int16),\n",
       " 'e_p_signal': None,\n",
       " 'e_d_signal': None,\n",
       " 'file_name': ['C:/workspace/autoencoder/autoencoder/data/in/pure_0.dat'],\n",
       " 'fmt': ['16'],\n",
       " 'samps_per_frame': [1],\n",
       " 'skew': [None],\n",
       " 'byte_offset': [None],\n",
       " 'adc_gain': [6400],\n",
       " 'baseline': [0],\n",
       " 'units': [None],\n",
       " 'adc_res': [16],\n",
       " 'adc_zero': [0],\n",
       " 'init_value': [451],\n",
       " 'checksum': [5068],\n",
       " 'block_size': [0]}"
      ]
     },
     "metadata": {},
     "output_type": "display_data"
    }
   ],
   "source": [
    "display(wav_record.__dict__)"
   ]
  },
  {
   "cell_type": "code",
   "execution_count": 148,
   "metadata": {},
   "outputs": [
    {
     "name": "stdout",
     "output_type": "stream",
     "text": [
      "wav_record.adc_gain:      [6400]\n",
      "wav_record.adc_res:       [16]\n",
      "wav_record.adc_zero:      [0]\n",
      "wav_record.base_counter:  None\n",
      "wav_record.base_date:     None\n",
      "wav_record.base_time:     None\n",
      "wav_record.baseline:      [0]\n",
      "wav_record.block_size:    [0]\n",
      "wav_record.byte_offset:   [None]\n",
      "wav_record.checksum:      [5068]\n",
      "wav_record.comments:      []\n",
      "wav_record.counter_freq:  None\n",
      "wav_record.d_signal:      [[ 451]\n",
      " [ 503]\n",
      " [ 412]\n",
      " ...\n",
      " [-146]\n",
      " [-151]\n",
      " [-149]]\n",
      "wav_record.e_d_signal:    None\n",
      "wav_record.e_p_signal:    None\n",
      "wav_record.fmt:           ['16']\n",
      "wav_record.fs:            [44100]\n",
      "wav_record.init_value:    [451]\n",
      "wav_record.n_sig:         1\n",
      "wav_record.p_signal:      None\n",
      "wav_record.samps_per_frame:   [1]\n",
      "wav_record.sig_len:       132300\n"
     ]
    }
   ],
   "source": [
    "print(\"wav_record.adc_gain:     \", wav_record.adc_gain)\n",
    "print(\"wav_record.adc_res:      \", wav_record.adc_res)\n",
    "print(\"wav_record.adc_zero:     \", wav_record.adc_zero)\n",
    "print(\"wav_record.base_counter: \", wav_record.base_counter)\n",
    "print(\"wav_record.base_date:    \", wav_record.base_date)\n",
    "print(\"wav_record.base_time:    \", wav_record.base_time)\n",
    "print(\"wav_record.baseline:     \", wav_record.baseline)\n",
    "print(\"wav_record.block_size:   \", wav_record.block_size)\n",
    "print(\"wav_record.byte_offset:  \", wav_record.byte_offset)\n",
    "print(\"wav_record.checksum:     \", wav_record.checksum)\n",
    "print(\"wav_record.comments:     \", wav_record.comments)\n",
    "print(\"wav_record.counter_freq: \", wav_record.counter_freq)\n",
    "print(\"wav_record.d_signal:     \", wav_record.d_signal)\n",
    "print(\"wav_record.e_d_signal:   \", wav_record.e_d_signal)\n",
    "print(\"wav_record.e_p_signal:   \", wav_record.e_p_signal)\n",
    "print(\"wav_record.fmt:          \", wav_record.fmt)\n",
    "print(\"wav_record.fs:           \", wav_record.fs)\n",
    "print(\"wav_record.init_value:   \", wav_record.init_value)\n",
    "print(\"wav_record.n_sig:        \", wav_record.n_sig)\n",
    "print(\"wav_record.p_signal:     \", wav_record.p_signal)\n",
    "print(\"wav_record.samps_per_frame:  \", wav_record.samps_per_frame)\n",
    "print(\"wav_record.sig_len:      \", wav_record.sig_len)"
   ]
  },
  {
   "cell_type": "code",
   "execution_count": 151,
   "metadata": {},
   "outputs": [
    {
     "name": "stdout",
     "output_type": "stream",
     "text": [
      "<class 'numpy.ndarray'>\n",
      "(132300, 1)\n"
     ]
    }
   ],
   "source": [
    "print(type(wav_record.d_signal))\n",
    "print(wav_record.d_signal.shape)"
   ]
  },
  {
   "cell_type": "code",
   "execution_count": 156,
   "metadata": {},
   "outputs": [
    {
     "name": "stdout",
     "output_type": "stream",
     "text": [
      "<class 'numpy.ndarray'>\n",
      "(1,)\n",
      "(1,)\n"
     ]
    }
   ],
   "source": [
    "print(type(wav_record.d_signal[0]))\n",
    "print(wav_record.d_signal[0].shape)\n",
    "print(wav_record.d_signal[1].shape)"
   ]
  },
  {
   "cell_type": "code",
   "execution_count": 157,
   "metadata": {},
   "outputs": [
    {
     "data": {
      "text/plain": [
       "array([451], dtype=int16)"
      ]
     },
     "execution_count": 157,
     "metadata": {},
     "output_type": "execute_result"
    }
   ],
   "source": [
    "wav_record.d_signal[0]"
   ]
  },
  {
   "cell_type": "code",
   "execution_count": 159,
   "metadata": {},
   "outputs": [
    {
     "data": {
      "text/plain": [
       "[<matplotlib.lines.Line2D at 0x1d466f79e80>]"
      ]
     },
     "execution_count": 159,
     "metadata": {},
     "output_type": "execute_result"
    },
    {
     "data": {
      "image/png": "[encoded data removed]",
      "text/plain": [
       "<Figure size 432x288 with 1 Axes>"
      ]
     },
     "metadata": {
      "needs_background": "light"
     },
     "output_type": "display_data"
    }
   ],
   "source": [
    "plt.plot(wav_record.d_signal)"
   ]
  },
  {
   "cell_type": "code",
   "execution_count": 168,
   "metadata": {},
   "outputs": [
    {
     "ename": "TypeError",
     "evalue": "expected str, bytes or os.PathLike object, not Record",
     "output_type": "error",
     "traceback": [
      "\u001b[1;31m---------------------------------------------------------------------------\u001b[0m",
      "\u001b[1;31mTypeError\u001b[0m                                 Traceback (most recent call last)",
      "\u001b[1;32mUntitled-1.ipynb Cell 21'\u001b[0m in \u001b[0;36m<cell line: 1>\u001b[1;34m()\u001b[0m\n\u001b[1;32m----> <a href='vscode-notebook-cell:Untitled-1.ipynb?jupyter-notebook#ch0000049untitled?line=0'>1</a>\u001b[0m record \u001b[39m=\u001b[39m wfdb\u001b[39m.\u001b[39;49mrdrecord(wav_record, sampto\u001b[39m=\u001b[39;49m\u001b[39m3000\u001b[39;49m)\n",
      "File \u001b[1;32m~\\anaconda3\\envs\\ae\\lib\\site-packages\\wfdb\\io\\record.py:3420\u001b[0m, in \u001b[0;36mrdrecord\u001b[1;34m(record_name, sampfrom, sampto, channels, physical, pn_dir, m2s, smooth_frames, ignore_skew, return_res, force_channels, channel_names, warn_empty)\u001b[0m\n\u001b[0;32m   <a href='file:///c%3A/Users/astro/anaconda3/envs/ae/lib/site-packages/wfdb/io/record.py?line=3322'>3323</a>\u001b[0m \u001b[39mdef\u001b[39;00m \u001b[39mrdrecord\u001b[39m(record_name, sampfrom\u001b[39m=\u001b[39m\u001b[39m0\u001b[39m, sampto\u001b[39m=\u001b[39m\u001b[39mNone\u001b[39;00m, channels\u001b[39m=\u001b[39m\u001b[39mNone\u001b[39;00m,\n\u001b[0;32m   <a href='file:///c%3A/Users/astro/anaconda3/envs/ae/lib/site-packages/wfdb/io/record.py?line=3323'>3324</a>\u001b[0m              physical\u001b[39m=\u001b[39m\u001b[39mTrue\u001b[39;00m, pn_dir\u001b[39m=\u001b[39m\u001b[39mNone\u001b[39;00m, m2s\u001b[39m=\u001b[39m\u001b[39mTrue\u001b[39;00m, smooth_frames\u001b[39m=\u001b[39m\u001b[39mTrue\u001b[39;00m,\n\u001b[0;32m   <a href='file:///c%3A/Users/astro/anaconda3/envs/ae/lib/site-packages/wfdb/io/record.py?line=3324'>3325</a>\u001b[0m              ignore_skew\u001b[39m=\u001b[39m\u001b[39mFalse\u001b[39;00m, return_res\u001b[39m=\u001b[39m\u001b[39m64\u001b[39m, force_channels\u001b[39m=\u001b[39m\u001b[39mTrue\u001b[39;00m,\n\u001b[0;32m   <a href='file:///c%3A/Users/astro/anaconda3/envs/ae/lib/site-packages/wfdb/io/record.py?line=3325'>3326</a>\u001b[0m              channel_names\u001b[39m=\u001b[39m\u001b[39mNone\u001b[39;00m, warn_empty\u001b[39m=\u001b[39m\u001b[39mFalse\u001b[39;00m):\n\u001b[0;32m   <a href='file:///c%3A/Users/astro/anaconda3/envs/ae/lib/site-packages/wfdb/io/record.py?line=3326'>3327</a>\u001b[0m     \u001b[39m\"\"\"\u001b[39;00m\n\u001b[0;32m   <a href='file:///c%3A/Users/astro/anaconda3/envs/ae/lib/site-packages/wfdb/io/record.py?line=3327'>3328</a>\u001b[0m \u001b[39m    Read a WFDB record and return the signal and record descriptors as\u001b[39;00m\n\u001b[0;32m   <a href='file:///c%3A/Users/astro/anaconda3/envs/ae/lib/site-packages/wfdb/io/record.py?line=3328'>3329</a>\u001b[0m \u001b[39m    attributes in a Record or MultiRecord object.\u001b[39;00m\n\u001b[1;32m   (...)\u001b[0m\n\u001b[0;32m   <a href='file:///c%3A/Users/astro/anaconda3/envs/ae/lib/site-packages/wfdb/io/record.py?line=3417'>3418</a>\u001b[0m \n\u001b[0;32m   <a href='file:///c%3A/Users/astro/anaconda3/envs/ae/lib/site-packages/wfdb/io/record.py?line=3418'>3419</a>\u001b[0m \u001b[39m    \"\"\"\u001b[39;00m\n\u001b[1;32m-> <a href='file:///c%3A/Users/astro/anaconda3/envs/ae/lib/site-packages/wfdb/io/record.py?line=3419'>3420</a>\u001b[0m     dir_name, base_record_name \u001b[39m=\u001b[39m os\u001b[39m.\u001b[39;49mpath\u001b[39m.\u001b[39;49msplit(record_name)\n\u001b[0;32m   <a href='file:///c%3A/Users/astro/anaconda3/envs/ae/lib/site-packages/wfdb/io/record.py?line=3420'>3421</a>\u001b[0m     dir_name \u001b[39m=\u001b[39m os\u001b[39m.\u001b[39mpath\u001b[39m.\u001b[39mabspath(dir_name)\n\u001b[0;32m   <a href='file:///c%3A/Users/astro/anaconda3/envs/ae/lib/site-packages/wfdb/io/record.py?line=3422'>3423</a>\u001b[0m     \u001b[39m# Read the header fields\u001b[39;00m\n",
      "File \u001b[1;32m~\\anaconda3\\envs\\ae\\lib\\ntpath.py:185\u001b[0m, in \u001b[0;36msplit\u001b[1;34m(p)\u001b[0m\n\u001b[0;32m    <a href='file:///c%3A/Users/astro/anaconda3/envs/ae/lib/ntpath.py?line=179'>180</a>\u001b[0m \u001b[39mdef\u001b[39;00m \u001b[39msplit\u001b[39m(p):\n\u001b[0;32m    <a href='file:///c%3A/Users/astro/anaconda3/envs/ae/lib/ntpath.py?line=180'>181</a>\u001b[0m     \u001b[39m\"\"\"Split a pathname.\u001b[39;00m\n\u001b[0;32m    <a href='file:///c%3A/Users/astro/anaconda3/envs/ae/lib/ntpath.py?line=181'>182</a>\u001b[0m \n\u001b[0;32m    <a href='file:///c%3A/Users/astro/anaconda3/envs/ae/lib/ntpath.py?line=182'>183</a>\u001b[0m \u001b[39m    Return tuple (head, tail) where tail is everything after the final slash.\u001b[39;00m\n\u001b[0;32m    <a href='file:///c%3A/Users/astro/anaconda3/envs/ae/lib/ntpath.py?line=183'>184</a>\u001b[0m \u001b[39m    Either part may be empty.\"\"\"\u001b[39;00m\n\u001b[1;32m--> <a href='file:///c%3A/Users/astro/anaconda3/envs/ae/lib/ntpath.py?line=184'>185</a>\u001b[0m     p \u001b[39m=\u001b[39m os\u001b[39m.\u001b[39;49mfspath(p)\n\u001b[0;32m    <a href='file:///c%3A/Users/astro/anaconda3/envs/ae/lib/ntpath.py?line=185'>186</a>\u001b[0m     seps \u001b[39m=\u001b[39m _get_bothseps(p)\n\u001b[0;32m    <a href='file:///c%3A/Users/astro/anaconda3/envs/ae/lib/ntpath.py?line=186'>187</a>\u001b[0m     d, p \u001b[39m=\u001b[39m splitdrive(p)\n",
      "\u001b[1;31mTypeError\u001b[0m: expected str, bytes or os.PathLike object, not Record"
     ]
    }
   ],
   "source": [
    "record = wfdb.rdrecord(wav_record, sampto=3000)"
   ]
  },
  {
   "cell_type": "code",
   "execution_count": 165,
   "metadata": {},
   "outputs": [
    {
     "ename": "FileNotFoundError",
     "evalue": "[Errno 2] No such file or directory: 'C:/workspace/autoencoder/autoencoder/data/in/pure_0.wav.atr'",
     "output_type": "error",
     "traceback": [
      "\u001b[1;31m---------------------------------------------------------------------------\u001b[0m",
      "\u001b[1;31mFileNotFoundError\u001b[0m                         Traceback (most recent call last)",
      "\u001b[1;32mUntitled-1.ipynb Cell 22'\u001b[0m in \u001b[0;36m<cell line: 1>\u001b[1;34m()\u001b[0m\n\u001b[1;32m----> <a href='vscode-notebook-cell:Untitled-1.ipynb?jupyter-notebook#ch0000052untitled?line=0'>1</a>\u001b[0m ann \u001b[39m=\u001b[39m wfdb\u001b[39m.\u001b[39;49mrdann(wavfile, \u001b[39m'\u001b[39;49m\u001b[39matr\u001b[39;49m\u001b[39m'\u001b[39;49m, sampto\u001b[39m=\u001b[39;49m\u001b[39m3000\u001b[39;49m)\n",
      "File \u001b[1;32m~\\anaconda3\\envs\\ae\\lib\\site-packages\\wfdb\\io\\annotation.py:1634\u001b[0m, in \u001b[0;36mrdann\u001b[1;34m(record_name, extension, sampfrom, sampto, shift_samps, pn_dir, return_label_elements, summarize_labels)\u001b[0m\n\u001b[0;32m   <a href='file:///c%3A/Users/astro/anaconda3/envs/ae/lib/site-packages/wfdb/io/annotation.py?line=1629'>1630</a>\u001b[0m return_label_elements \u001b[39m=\u001b[39m check_read_inputs(sampfrom, sampto,\n\u001b[0;32m   <a href='file:///c%3A/Users/astro/anaconda3/envs/ae/lib/site-packages/wfdb/io/annotation.py?line=1630'>1631</a>\u001b[0m                                           return_label_elements)\n\u001b[0;32m   <a href='file:///c%3A/Users/astro/anaconda3/envs/ae/lib/site-packages/wfdb/io/annotation.py?line=1632'>1633</a>\u001b[0m \u001b[39m# Read the file in byte pairs\u001b[39;00m\n\u001b[1;32m-> <a href='file:///c%3A/Users/astro/anaconda3/envs/ae/lib/site-packages/wfdb/io/annotation.py?line=1633'>1634</a>\u001b[0m filebytes \u001b[39m=\u001b[39m load_byte_pairs(record_name, extension, pn_dir)\n\u001b[0;32m   <a href='file:///c%3A/Users/astro/anaconda3/envs/ae/lib/site-packages/wfdb/io/annotation.py?line=1635'>1636</a>\u001b[0m \u001b[39m# Get WFDB annotation fields from the file bytes\u001b[39;00m\n\u001b[0;32m   <a href='file:///c%3A/Users/astro/anaconda3/envs/ae/lib/site-packages/wfdb/io/annotation.py?line=1636'>1637</a>\u001b[0m (sample, label_store, subtype,\n\u001b[0;32m   <a href='file:///c%3A/Users/astro/anaconda3/envs/ae/lib/site-packages/wfdb/io/annotation.py?line=1637'>1638</a>\u001b[0m  chan, num, aux_note) \u001b[39m=\u001b[39m proc_ann_bytes(filebytes, sampto)\n",
      "File \u001b[1;32m~\\anaconda3\\envs\\ae\\lib\\site-packages\\wfdb\\io\\annotation.py:1757\u001b[0m, in \u001b[0;36mload_byte_pairs\u001b[1;34m(record_name, extension, pn_dir)\u001b[0m\n\u001b[0;32m   <a href='file:///c%3A/Users/astro/anaconda3/envs/ae/lib/site-packages/wfdb/io/annotation.py?line=1754'>1755</a>\u001b[0m \u001b[39m# local file\u001b[39;00m\n\u001b[0;32m   <a href='file:///c%3A/Users/astro/anaconda3/envs/ae/lib/site-packages/wfdb/io/annotation.py?line=1755'>1756</a>\u001b[0m \u001b[39mif\u001b[39;00m pn_dir \u001b[39mis\u001b[39;00m \u001b[39mNone\u001b[39;00m:\n\u001b[1;32m-> <a href='file:///c%3A/Users/astro/anaconda3/envs/ae/lib/site-packages/wfdb/io/annotation.py?line=1756'>1757</a>\u001b[0m     \u001b[39mwith\u001b[39;00m \u001b[39mopen\u001b[39;49m(record_name \u001b[39m+\u001b[39;49m \u001b[39m'\u001b[39;49m\u001b[39m.\u001b[39;49m\u001b[39m'\u001b[39;49m \u001b[39m+\u001b[39;49m extension, \u001b[39m'\u001b[39;49m\u001b[39mrb\u001b[39;49m\u001b[39m'\u001b[39;49m) \u001b[39mas\u001b[39;00m f:\n\u001b[0;32m   <a href='file:///c%3A/Users/astro/anaconda3/envs/ae/lib/site-packages/wfdb/io/annotation.py?line=1757'>1758</a>\u001b[0m         filebytes \u001b[39m=\u001b[39m np\u001b[39m.\u001b[39mfromfile(f, \u001b[39m'\u001b[39m\u001b[39m<u1\u001b[39m\u001b[39m'\u001b[39m)\u001b[39m.\u001b[39mreshape([\u001b[39m-\u001b[39m\u001b[39m1\u001b[39m, \u001b[39m2\u001b[39m])\n\u001b[0;32m   <a href='file:///c%3A/Users/astro/anaconda3/envs/ae/lib/site-packages/wfdb/io/annotation.py?line=1758'>1759</a>\u001b[0m \u001b[39m# PhysioNet file\u001b[39;00m\n\u001b[0;32m   <a href='file:///c%3A/Users/astro/anaconda3/envs/ae/lib/site-packages/wfdb/io/annotation.py?line=1759'>1760</a>\u001b[0m \u001b[39melse\u001b[39;00m:\n",
      "\u001b[1;31mFileNotFoundError\u001b[0m: [Errno 2] No such file or directory: 'C:/workspace/autoencoder/autoencoder/data/in/pure_0.wav.atr'"
     ]
    }
   ],
   "source": [
    "ann = wfdb.rdann(wavfile, 'atr', sampto=3000)"
   ]
  },
  {
   "cell_type": "code",
   "execution_count": 162,
   "metadata": {},
   "outputs": [
    {
     "ename": "NameError",
     "evalue": "name 'record' is not defined",
     "output_type": "error",
     "traceback": [
      "\u001b[1;31m---------------------------------------------------------------------------\u001b[0m",
      "\u001b[1;31mNameError\u001b[0m                                 Traceback (most recent call last)",
      "\u001b[1;32mUntitled-1.ipynb Cell 22'\u001b[0m in \u001b[0;36m<cell line: 1>\u001b[1;34m()\u001b[0m\n\u001b[1;32m----> <a href='vscode-notebook-cell:Untitled-1.ipynb?jupyter-notebook#ch0000050untitled?line=0'>1</a>\u001b[0m wfdb\u001b[39m.\u001b[39mplot_items(signal\u001b[39m=\u001b[39mrecord\u001b[39m.\u001b[39mp_signal,\n\u001b[0;32m      <a href='vscode-notebook-cell:Untitled-1.ipynb?jupyter-notebook#ch0000050untitled?line=1'>2</a>\u001b[0m                     ann_samp\u001b[39m=\u001b[39m[ann\u001b[39m.\u001b[39msample, ann\u001b[39m.\u001b[39msample],\n\u001b[0;32m      <a href='vscode-notebook-cell:Untitled-1.ipynb?jupyter-notebook#ch0000050untitled?line=2'>3</a>\u001b[0m                     title\u001b[39m=\u001b[39m\u001b[39m'\u001b[39m\u001b[39mMIT-BIH Record 100\u001b[39m\u001b[39m'\u001b[39m, time_units\u001b[39m=\u001b[39m\u001b[39m'\u001b[39m\u001b[39mseconds\u001b[39m\u001b[39m'\u001b[39m,\n\u001b[0;32m      <a href='vscode-notebook-cell:Untitled-1.ipynb?jupyter-notebook#ch0000050untitled?line=3'>4</a>\u001b[0m                     figsize\u001b[39m=\u001b[39m(\u001b[39m10\u001b[39m,\u001b[39m4\u001b[39m), ecg_grids\u001b[39m=\u001b[39m\u001b[39m'\u001b[39m\u001b[39mall\u001b[39m\u001b[39m'\u001b[39m)\n",
      "\u001b[1;31mNameError\u001b[0m: name 'record' is not defined"
     ]
    }
   ],
   "source": [
    "wfdb.plot_items(signal=record.p_signal,\n",
    "                    ann_samp=[ann.sample, ann.sample],\n",
    "                    title='MIT-BIH Record 100', time_units='seconds',\n",
    "                    figsize=(10,4), ecg_grids='all')"
   ]
  },
  {
   "cell_type": "code",
   "execution_count": null,
   "metadata": {},
   "outputs": [],
   "source": []
  }
 ],
 "metadata": {
  "interpreter": {
   "hash": "cda25b447d24e0c552e167f4581e6082f9a8d9051bb076b8c83c8431f397ae1f"
  },
  "kernelspec": {
   "display_name": "Python 3.9.7 ('ae')",
   "language": "python",
   "name": "python3"
  },
  "language_info": {
   "codemirror_mode": {
    "name": "ipython",
    "version": 3
   },
   "file_extension": ".py",
   "mimetype": "text/x-python",
   "name": "python",
   "nbconvert_exporter": "python",
   "pygments_lexer": "ipython3",
   "version": "3.9.7"
  },
  "orig_nbformat": 4
 },
 "nbformat": 4,
 "nbformat_minor": 2
}
